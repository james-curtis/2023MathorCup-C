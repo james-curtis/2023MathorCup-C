{
 "cells": [
  {
   "cell_type": "code",
   "execution_count": 1,
   "metadata": {
    "collapsed": true,
    "ExecuteTime": {
     "start_time": "2023-04-16T10:27:32.449639Z",
     "end_time": "2023-04-16T10:27:38.585673Z"
    }
   },
   "outputs": [
    {
     "name": "stdout",
     "output_type": "stream",
     "text": [
      "场地1                     object\n",
      "场地2                     object\n",
      "2021-01-01 00:00:00    float64\n",
      "2021-01-02 00:00:00    float64\n",
      "2021-01-03 00:00:00    float64\n",
      "                        ...   \n",
      "2022-12-27 00:00:00    float64\n",
      "2022-12-28 00:00:00    float64\n",
      "2022-12-29 00:00:00    float64\n",
      "2022-12-30 00:00:00    float64\n",
      "2022-12-31 00:00:00    float64\n",
      "Length: 732, dtype: object\n"
     ]
    },
    {
     "data": {
      "text/plain": "    场地1   场地2  2021-01-01 00:00:00  2021-01-02 00:00:00  2021-01-03 00:00:00   \n0   DC1   DC8                  NaN                  NaN                  NaN  \\\n1  DC10  DC12                306.0                328.0                163.0   \n2  DC10  DC13                  NaN                  NaN                  NaN   \n3  DC10  DC14               2613.0               2941.0               5968.0   \n4  DC10  DC17                  NaN                  NaN                  NaN   \n\n   2021-01-04 00:00:00  2021-01-05 00:00:00  2021-01-06 00:00:00   \n0                  NaN                  NaN                  NaN  \\\n1                193.0                565.0                964.0   \n2                  NaN                  NaN                  NaN   \n3               4459.0               7646.0               5106.0   \n4                  NaN                  NaN                  NaN   \n\n   2021-01-07 00:00:00  2021-01-08 00:00:00  ...  2022-12-22 00:00:00   \n0                  NaN                  NaN  ...                  NaN  \\\n1                623.0                284.0  ...                  NaN   \n2                  NaN                  NaN  ...                  NaN   \n3               7155.0               5939.0  ...               8663.0   \n4                  NaN                  NaN  ...                  NaN   \n\n   2022-12-23 00:00:00  2022-12-24 00:00:00  2022-12-25 00:00:00   \n0                  NaN                  NaN                  NaN  \\\n1                  NaN                  NaN                  NaN   \n2                  NaN                  NaN                  NaN   \n3               9818.0              12248.0              13255.0   \n4                  NaN                  NaN                  NaN   \n\n   2022-12-26 00:00:00  2022-12-27 00:00:00  2022-12-28 00:00:00   \n0                  NaN                  NaN                  NaN  \\\n1                  NaN                  NaN                  NaN   \n2                  NaN                  NaN                  NaN   \n3               9896.0              15492.0               8230.0   \n4                  NaN                  NaN                  NaN   \n\n   2022-12-29 00:00:00  2022-12-30 00:00:00  2022-12-31 00:00:00  \n0                  NaN                  NaN                  NaN  \n1                  NaN                  NaN                  NaN  \n2                  NaN                  NaN                  NaN  \n3              29021.0               9991.0              13254.0  \n4                  NaN                  NaN                  NaN  \n\n[5 rows x 732 columns]",
      "text/html": "<div>\n<style scoped>\n    .dataframe tbody tr th:only-of-type {\n        vertical-align: middle;\n    }\n\n    .dataframe tbody tr th {\n        vertical-align: top;\n    }\n\n    .dataframe thead th {\n        text-align: right;\n    }\n</style>\n<table border=\"1\" class=\"dataframe\">\n  <thead>\n    <tr style=\"text-align: right;\">\n      <th></th>\n      <th>场地1</th>\n      <th>场地2</th>\n      <th>2021-01-01 00:00:00</th>\n      <th>2021-01-02 00:00:00</th>\n      <th>2021-01-03 00:00:00</th>\n      <th>2021-01-04 00:00:00</th>\n      <th>2021-01-05 00:00:00</th>\n      <th>2021-01-06 00:00:00</th>\n      <th>2021-01-07 00:00:00</th>\n      <th>2021-01-08 00:00:00</th>\n      <th>...</th>\n      <th>2022-12-22 00:00:00</th>\n      <th>2022-12-23 00:00:00</th>\n      <th>2022-12-24 00:00:00</th>\n      <th>2022-12-25 00:00:00</th>\n      <th>2022-12-26 00:00:00</th>\n      <th>2022-12-27 00:00:00</th>\n      <th>2022-12-28 00:00:00</th>\n      <th>2022-12-29 00:00:00</th>\n      <th>2022-12-30 00:00:00</th>\n      <th>2022-12-31 00:00:00</th>\n    </tr>\n  </thead>\n  <tbody>\n    <tr>\n      <th>0</th>\n      <td>DC1</td>\n      <td>DC8</td>\n      <td>NaN</td>\n      <td>NaN</td>\n      <td>NaN</td>\n      <td>NaN</td>\n      <td>NaN</td>\n      <td>NaN</td>\n      <td>NaN</td>\n      <td>NaN</td>\n      <td>...</td>\n      <td>NaN</td>\n      <td>NaN</td>\n      <td>NaN</td>\n      <td>NaN</td>\n      <td>NaN</td>\n      <td>NaN</td>\n      <td>NaN</td>\n      <td>NaN</td>\n      <td>NaN</td>\n      <td>NaN</td>\n    </tr>\n    <tr>\n      <th>1</th>\n      <td>DC10</td>\n      <td>DC12</td>\n      <td>306.0</td>\n      <td>328.0</td>\n      <td>163.0</td>\n      <td>193.0</td>\n      <td>565.0</td>\n      <td>964.0</td>\n      <td>623.0</td>\n      <td>284.0</td>\n      <td>...</td>\n      <td>NaN</td>\n      <td>NaN</td>\n      <td>NaN</td>\n      <td>NaN</td>\n      <td>NaN</td>\n      <td>NaN</td>\n      <td>NaN</td>\n      <td>NaN</td>\n      <td>NaN</td>\n      <td>NaN</td>\n    </tr>\n    <tr>\n      <th>2</th>\n      <td>DC10</td>\n      <td>DC13</td>\n      <td>NaN</td>\n      <td>NaN</td>\n      <td>NaN</td>\n      <td>NaN</td>\n      <td>NaN</td>\n      <td>NaN</td>\n      <td>NaN</td>\n      <td>NaN</td>\n      <td>...</td>\n      <td>NaN</td>\n      <td>NaN</td>\n      <td>NaN</td>\n      <td>NaN</td>\n      <td>NaN</td>\n      <td>NaN</td>\n      <td>NaN</td>\n      <td>NaN</td>\n      <td>NaN</td>\n      <td>NaN</td>\n    </tr>\n    <tr>\n      <th>3</th>\n      <td>DC10</td>\n      <td>DC14</td>\n      <td>2613.0</td>\n      <td>2941.0</td>\n      <td>5968.0</td>\n      <td>4459.0</td>\n      <td>7646.0</td>\n      <td>5106.0</td>\n      <td>7155.0</td>\n      <td>5939.0</td>\n      <td>...</td>\n      <td>8663.0</td>\n      <td>9818.0</td>\n      <td>12248.0</td>\n      <td>13255.0</td>\n      <td>9896.0</td>\n      <td>15492.0</td>\n      <td>8230.0</td>\n      <td>29021.0</td>\n      <td>9991.0</td>\n      <td>13254.0</td>\n    </tr>\n    <tr>\n      <th>4</th>\n      <td>DC10</td>\n      <td>DC17</td>\n      <td>NaN</td>\n      <td>NaN</td>\n      <td>NaN</td>\n      <td>NaN</td>\n      <td>NaN</td>\n      <td>NaN</td>\n      <td>NaN</td>\n      <td>NaN</td>\n      <td>...</td>\n      <td>NaN</td>\n      <td>NaN</td>\n      <td>NaN</td>\n      <td>NaN</td>\n      <td>NaN</td>\n      <td>NaN</td>\n      <td>NaN</td>\n      <td>NaN</td>\n      <td>NaN</td>\n      <td>NaN</td>\n    </tr>\n  </tbody>\n</table>\n<p>5 rows × 732 columns</p>\n</div>"
     },
     "execution_count": 1,
     "metadata": {},
     "output_type": "execute_result"
    }
   ],
   "source": [
    "import pandas as pd\n",
    "import numpy as np\n",
    "import seaborn as sns\n",
    "import matplotlib.pyplot as plt\n",
    "import datetime\n",
    "\n",
    "plt.rcParams['font.sans-serif'] = ['SimHei']  # 黑体\n",
    "plt.rcParams['axes.unicode_minus'] = False  # 解决无法显示符号的问题\n",
    "palette = 'deep'\n",
    "sns.set(font='SimHei', font_scale=1.2, style='whitegrid', palette=palette)  # 解决Seaborn中文显示问题\n",
    "\n",
    "rawData = pd.read_excel('None空值填充-物流网络历史货量数据.xlsx')\n",
    "print(rawData.dtypes)\n",
    "rawData.head()"
   ]
  },
  {
   "cell_type": "code",
   "execution_count": 2,
   "outputs": [
    {
     "data": {
      "text/plain": "Index(['场地1', '场地2', '2021-01-01', '2021-01-02', '2021-01-03', '2021-01-04',\n       '2021-01-05', '2021-01-06', '2021-01-07', '2021-01-08',\n       ...\n       '2022-12-22', '2022-12-23', '2022-12-24', '2022-12-25', '2022-12-26',\n       '2022-12-27', '2022-12-28', '2022-12-29', '2022-12-30', '2022-12-31'],\n      dtype='object', length=732)"
     },
     "execution_count": 2,
     "metadata": {},
     "output_type": "execute_result"
    }
   ],
   "source": [
    "for col in rawData.columns:\n",
    "    # 判断列是否为日期时间类型\n",
    "    if isinstance(col, datetime.datetime):\n",
    "        # 将日期时间转换为日期，并将结果存储回原来的列名\n",
    "        new_col_name = col.strftime('%Y-%m-%d')\n",
    "        rawData = rawData.rename(columns={col: new_col_name})\n",
    "\n",
    "rawData.columns"
   ],
   "metadata": {
    "collapsed": false,
    "ExecuteTime": {
     "start_time": "2023-04-16T10:27:38.583675Z",
     "end_time": "2023-04-16T10:27:40.232695Z"
    }
   }
  },
  {
   "cell_type": "code",
   "execution_count": 3,
   "outputs": [
    {
     "data": {
      "text/plain": "    场地1   场地2  2021-01-01  2021-01-02  2021-01-03  2021-01-04  2021-01-05   \n0   DC1   DC8         NaN         NaN         NaN         NaN         NaN  \\\n1  DC10  DC12       306.0       328.0       163.0       193.0       565.0   \n2  DC10  DC13         NaN         NaN         NaN         NaN         NaN   \n3  DC10  DC14      2613.0      2941.0      5968.0      4459.0      7646.0   \n4  DC10  DC17         NaN         NaN         NaN         NaN         NaN   \n\n   2021-01-06  2021-01-07  2021-01-08  ...  2022-12-22  2022-12-23   \n0         NaN         NaN         NaN  ...         NaN         NaN  \\\n1       964.0       623.0       284.0  ...         NaN         NaN   \n2         NaN         NaN         NaN  ...         NaN         NaN   \n3      5106.0      7155.0      5939.0  ...      8663.0      9818.0   \n4         NaN         NaN         NaN  ...         NaN         NaN   \n\n   2022-12-24  2022-12-25  2022-12-26  2022-12-27  2022-12-28  2022-12-29   \n0         NaN         NaN         NaN         NaN         NaN         NaN  \\\n1         NaN         NaN         NaN         NaN         NaN         NaN   \n2         NaN         NaN         NaN         NaN         NaN         NaN   \n3     12248.0     13255.0      9896.0     15492.0      8230.0     29021.0   \n4         NaN         NaN         NaN         NaN         NaN         NaN   \n\n   2022-12-30  2022-12-31  \n0         NaN         NaN  \n1         NaN         NaN  \n2         NaN         NaN  \n3      9991.0     13254.0  \n4         NaN         NaN  \n\n[5 rows x 732 columns]",
      "text/html": "<div>\n<style scoped>\n    .dataframe tbody tr th:only-of-type {\n        vertical-align: middle;\n    }\n\n    .dataframe tbody tr th {\n        vertical-align: top;\n    }\n\n    .dataframe thead th {\n        text-align: right;\n    }\n</style>\n<table border=\"1\" class=\"dataframe\">\n  <thead>\n    <tr style=\"text-align: right;\">\n      <th></th>\n      <th>场地1</th>\n      <th>场地2</th>\n      <th>2021-01-01</th>\n      <th>2021-01-02</th>\n      <th>2021-01-03</th>\n      <th>2021-01-04</th>\n      <th>2021-01-05</th>\n      <th>2021-01-06</th>\n      <th>2021-01-07</th>\n      <th>2021-01-08</th>\n      <th>...</th>\n      <th>2022-12-22</th>\n      <th>2022-12-23</th>\n      <th>2022-12-24</th>\n      <th>2022-12-25</th>\n      <th>2022-12-26</th>\n      <th>2022-12-27</th>\n      <th>2022-12-28</th>\n      <th>2022-12-29</th>\n      <th>2022-12-30</th>\n      <th>2022-12-31</th>\n    </tr>\n  </thead>\n  <tbody>\n    <tr>\n      <th>0</th>\n      <td>DC1</td>\n      <td>DC8</td>\n      <td>NaN</td>\n      <td>NaN</td>\n      <td>NaN</td>\n      <td>NaN</td>\n      <td>NaN</td>\n      <td>NaN</td>\n      <td>NaN</td>\n      <td>NaN</td>\n      <td>...</td>\n      <td>NaN</td>\n      <td>NaN</td>\n      <td>NaN</td>\n      <td>NaN</td>\n      <td>NaN</td>\n      <td>NaN</td>\n      <td>NaN</td>\n      <td>NaN</td>\n      <td>NaN</td>\n      <td>NaN</td>\n    </tr>\n    <tr>\n      <th>1</th>\n      <td>DC10</td>\n      <td>DC12</td>\n      <td>306.0</td>\n      <td>328.0</td>\n      <td>163.0</td>\n      <td>193.0</td>\n      <td>565.0</td>\n      <td>964.0</td>\n      <td>623.0</td>\n      <td>284.0</td>\n      <td>...</td>\n      <td>NaN</td>\n      <td>NaN</td>\n      <td>NaN</td>\n      <td>NaN</td>\n      <td>NaN</td>\n      <td>NaN</td>\n      <td>NaN</td>\n      <td>NaN</td>\n      <td>NaN</td>\n      <td>NaN</td>\n    </tr>\n    <tr>\n      <th>2</th>\n      <td>DC10</td>\n      <td>DC13</td>\n      <td>NaN</td>\n      <td>NaN</td>\n      <td>NaN</td>\n      <td>NaN</td>\n      <td>NaN</td>\n      <td>NaN</td>\n      <td>NaN</td>\n      <td>NaN</td>\n      <td>...</td>\n      <td>NaN</td>\n      <td>NaN</td>\n      <td>NaN</td>\n      <td>NaN</td>\n      <td>NaN</td>\n      <td>NaN</td>\n      <td>NaN</td>\n      <td>NaN</td>\n      <td>NaN</td>\n      <td>NaN</td>\n    </tr>\n    <tr>\n      <th>3</th>\n      <td>DC10</td>\n      <td>DC14</td>\n      <td>2613.0</td>\n      <td>2941.0</td>\n      <td>5968.0</td>\n      <td>4459.0</td>\n      <td>7646.0</td>\n      <td>5106.0</td>\n      <td>7155.0</td>\n      <td>5939.0</td>\n      <td>...</td>\n      <td>8663.0</td>\n      <td>9818.0</td>\n      <td>12248.0</td>\n      <td>13255.0</td>\n      <td>9896.0</td>\n      <td>15492.0</td>\n      <td>8230.0</td>\n      <td>29021.0</td>\n      <td>9991.0</td>\n      <td>13254.0</td>\n    </tr>\n    <tr>\n      <th>4</th>\n      <td>DC10</td>\n      <td>DC17</td>\n      <td>NaN</td>\n      <td>NaN</td>\n      <td>NaN</td>\n      <td>NaN</td>\n      <td>NaN</td>\n      <td>NaN</td>\n      <td>NaN</td>\n      <td>NaN</td>\n      <td>...</td>\n      <td>NaN</td>\n      <td>NaN</td>\n      <td>NaN</td>\n      <td>NaN</td>\n      <td>NaN</td>\n      <td>NaN</td>\n      <td>NaN</td>\n      <td>NaN</td>\n      <td>NaN</td>\n      <td>NaN</td>\n    </tr>\n  </tbody>\n</table>\n<p>5 rows × 732 columns</p>\n</div>"
     },
     "execution_count": 3,
     "metadata": {},
     "output_type": "execute_result"
    }
   ],
   "source": [
    "rawData.head()"
   ],
   "metadata": {
    "collapsed": false,
    "ExecuteTime": {
     "start_time": "2023-04-16T10:27:40.233691Z",
     "end_time": "2023-04-16T10:27:40.286710Z"
    }
   }
  },
  {
   "cell_type": "code",
   "execution_count": 4,
   "outputs": [
    {
     "data": {
      "text/plain": "    场地1   场地2          日期      货量\n0   DC1   DC8  2021-01-01     NaN\n1  DC10  DC12  2021-01-01   306.0\n2  DC10  DC13  2021-01-01     NaN\n3  DC10  DC14  2021-01-01  2613.0\n4  DC10  DC17  2021-01-01     NaN",
      "text/html": "<div>\n<style scoped>\n    .dataframe tbody tr th:only-of-type {\n        vertical-align: middle;\n    }\n\n    .dataframe tbody tr th {\n        vertical-align: top;\n    }\n\n    .dataframe thead th {\n        text-align: right;\n    }\n</style>\n<table border=\"1\" class=\"dataframe\">\n  <thead>\n    <tr style=\"text-align: right;\">\n      <th></th>\n      <th>场地1</th>\n      <th>场地2</th>\n      <th>日期</th>\n      <th>货量</th>\n    </tr>\n  </thead>\n  <tbody>\n    <tr>\n      <th>0</th>\n      <td>DC1</td>\n      <td>DC8</td>\n      <td>2021-01-01</td>\n      <td>NaN</td>\n    </tr>\n    <tr>\n      <th>1</th>\n      <td>DC10</td>\n      <td>DC12</td>\n      <td>2021-01-01</td>\n      <td>306.0</td>\n    </tr>\n    <tr>\n      <th>2</th>\n      <td>DC10</td>\n      <td>DC13</td>\n      <td>2021-01-01</td>\n      <td>NaN</td>\n    </tr>\n    <tr>\n      <th>3</th>\n      <td>DC10</td>\n      <td>DC14</td>\n      <td>2021-01-01</td>\n      <td>2613.0</td>\n    </tr>\n    <tr>\n      <th>4</th>\n      <td>DC10</td>\n      <td>DC17</td>\n      <td>2021-01-01</td>\n      <td>NaN</td>\n    </tr>\n  </tbody>\n</table>\n</div>"
     },
     "execution_count": 4,
     "metadata": {},
     "output_type": "execute_result"
    }
   ],
   "source": [
    "newData = pd.melt(rawData, id_vars=['场地1', '场地2'], value_name='货量', var_name='日期')\n",
    "newData.head()"
   ],
   "metadata": {
    "collapsed": false,
    "ExecuteTime": {
     "start_time": "2023-04-16T10:27:40.264711Z",
     "end_time": "2023-04-16T10:27:40.378708Z"
    }
   }
  },
  {
   "cell_type": "code",
   "execution_count": 5,
   "outputs": [
    {
     "data": {
      "text/plain": "   场地1  场地2          日期  货量\n0  DC1  DC8  2021-01-01 NaN\n1  DC1  DC8  2021-01-02 NaN\n2  DC1  DC8  2021-01-03 NaN\n3  DC1  DC8  2021-01-04 NaN\n4  DC1  DC8  2021-01-05 NaN",
      "text/html": "<div>\n<style scoped>\n    .dataframe tbody tr th:only-of-type {\n        vertical-align: middle;\n    }\n\n    .dataframe tbody tr th {\n        vertical-align: top;\n    }\n\n    .dataframe thead th {\n        text-align: right;\n    }\n</style>\n<table border=\"1\" class=\"dataframe\">\n  <thead>\n    <tr style=\"text-align: right;\">\n      <th></th>\n      <th>场地1</th>\n      <th>场地2</th>\n      <th>日期</th>\n      <th>货量</th>\n    </tr>\n  </thead>\n  <tbody>\n    <tr>\n      <th>0</th>\n      <td>DC1</td>\n      <td>DC8</td>\n      <td>2021-01-01</td>\n      <td>NaN</td>\n    </tr>\n    <tr>\n      <th>1</th>\n      <td>DC1</td>\n      <td>DC8</td>\n      <td>2021-01-02</td>\n      <td>NaN</td>\n    </tr>\n    <tr>\n      <th>2</th>\n      <td>DC1</td>\n      <td>DC8</td>\n      <td>2021-01-03</td>\n      <td>NaN</td>\n    </tr>\n    <tr>\n      <th>3</th>\n      <td>DC1</td>\n      <td>DC8</td>\n      <td>2021-01-04</td>\n      <td>NaN</td>\n    </tr>\n    <tr>\n      <th>4</th>\n      <td>DC1</td>\n      <td>DC8</td>\n      <td>2021-01-05</td>\n      <td>NaN</td>\n    </tr>\n  </tbody>\n</table>\n</div>"
     },
     "execution_count": 5,
     "metadata": {},
     "output_type": "execute_result"
    }
   ],
   "source": [
    "newData = newData.sort_values(by=['场地1', '场地2', '日期'])\n",
    "newData = newData.reset_index(drop=True)\n",
    "newData.head()"
   ],
   "metadata": {
    "collapsed": false,
    "ExecuteTime": {
     "start_time": "2023-04-16T10:27:40.328707Z",
     "end_time": "2023-04-16T10:27:40.578758Z"
    }
   }
  },
  {
   "cell_type": "code",
   "execution_count": 6,
   "outputs": [],
   "source": [
    "# newData.to_excel('None空值填充-长表-物流网络历史货量数据.xlsx', index=False)"
   ],
   "metadata": {
    "collapsed": false,
    "ExecuteTime": {
     "start_time": "2023-04-16T10:27:40.578758Z",
     "end_time": "2023-04-16T10:27:40.597754Z"
    }
   }
  },
  {
   "cell_type": "code",
   "execution_count": 7,
   "outputs": [
    {
     "name": "stdout",
     "output_type": "stream",
     "text": [
      "1049\n",
      "[('DC1', 'DC8'), ('DC10', 'DC12'), ('DC10', 'DC13'), ('DC10', 'DC14'), ('DC10', 'DC17'), ('DC10', 'DC19'), ('DC10', 'DC20'), ('DC10', 'DC21'), ('DC10', 'DC22'), ('DC10', 'DC23'), ('DC10', 'DC25'), ('DC10', 'DC27'), ('DC10', 'DC28'), ('DC10', 'DC3'), ('DC10', 'DC30'), ('DC10', 'DC32'), ('DC10', 'DC33'), ('DC10', 'DC34'), ('DC10', 'DC35'), ('DC10', 'DC36'), ('DC10', 'DC38'), ('DC10', 'DC4'), ('DC10', 'DC40'), ('DC10', 'DC47'), ('DC10', 'DC5'), ('DC10', 'DC51'), ('DC10', 'DC59'), ('DC10', 'DC60'), ('DC10', 'DC61'), ('DC10', 'DC62'), ('DC10', 'DC64'), ('DC10', 'DC65'), ('DC10', 'DC67'), ('DC10', 'DC70'), ('DC10', 'DC73'), ('DC10', 'DC76'), ('DC10', 'DC78'), ('DC10', 'DC8'), ('DC10', 'DC80'), ('DC10', 'DC9'), ('DC11', 'DC10'), ('DC11', 'DC14'), ('DC11', 'DC22'), ('DC11', 'DC3'), ('DC11', 'DC5'), ('DC11', 'DC9'), ('DC12', 'DC10'), ('DC12', 'DC14'), ('DC12', 'DC23'), ('DC12', 'DC3'), ('DC12', 'DC32'), ('DC12', 'DC35'), ('DC12', 'DC36'), ('DC12', 'DC38'), ('DC12', 'DC40'), ('DC12', 'DC5'), ('DC12', 'DC67'), ('DC12', 'DC9'), ('DC13', 'DC10'), ('DC13', 'DC14'), ('DC13', 'DC15'), ('DC13', 'DC3'), ('DC13', 'DC4'), ('DC13', 'DC5'), ('DC13', 'DC62'), ('DC13', 'DC8'), ('DC13', 'DC9'), ('DC14', 'DC10'), ('DC14', 'DC11'), ('DC14', 'DC12'), ('DC14', 'DC13'), ('DC14', 'DC17'), ('DC14', 'DC19'), ('DC14', 'DC20'), ('DC14', 'DC21'), ('DC14', 'DC22'), ('DC14', 'DC23'), ('DC14', 'DC25'), ('DC14', 'DC3'), ('DC14', 'DC30'), ('DC14', 'DC32'), ('DC14', 'DC33'), ('DC14', 'DC34'), ('DC14', 'DC35'), ('DC14', 'DC36'), ('DC14', 'DC38'), ('DC14', 'DC4'), ('DC14', 'DC40'), ('DC14', 'DC43'), ('DC14', 'DC5'), ('DC14', 'DC61'), ('DC14', 'DC62'), ('DC14', 'DC64'), ('DC14', 'DC65'), ('DC14', 'DC67'), ('DC14', 'DC70'), ('DC14', 'DC76'), ('DC14', 'DC78'), ('DC14', 'DC8'), ('DC14', 'DC81'), ('DC14', 'DC9'), ('DC15', 'DC10'), ('DC15', 'DC12'), ('DC15', 'DC13'), ('DC15', 'DC14'), ('DC15', 'DC3'), ('DC15', 'DC32'), ('DC15', 'DC33'), ('DC15', 'DC34'), ('DC15', 'DC35'), ('DC15', 'DC4'), ('DC15', 'DC40'), ('DC15', 'DC5'), ('DC15', 'DC62'), ('DC15', 'DC64'), ('DC15', 'DC65'), ('DC15', 'DC70'), ('DC15', 'DC8'), ('DC15', 'DC81'), ('DC15', 'DC9'), ('DC16', 'DC10'), ('DC16', 'DC14'), ('DC16', 'DC35'), ('DC16', 'DC4'), ('DC16', 'DC5'), ('DC16', 'DC62'), ('DC16', 'DC70'), ('DC16', 'DC8'), ('DC17', 'DC10'), ('DC17', 'DC12'), ('DC17', 'DC14'), ('DC17', 'DC20'), ('DC17', 'DC29'), ('DC17', 'DC3'), ('DC17', 'DC32'), ('DC17', 'DC34'), ('DC17', 'DC35'), ('DC17', 'DC4'), ('DC17', 'DC40'), ('DC17', 'DC5'), ('DC17', 'DC61'), ('DC17', 'DC62'), ('DC17', 'DC64'), ('DC17', 'DC65'), ('DC17', 'DC70'), ('DC17', 'DC8'), ('DC17', 'DC81'), ('DC17', 'DC9'), ('DC18', 'DC10'), ('DC18', 'DC14'), ('DC18', 'DC23'), ('DC18', 'DC4'), ('DC18', 'DC62'), ('DC18', 'DC8'), ('DC19', 'DC10'), ('DC19', 'DC12'), ('DC19', 'DC14'), ('DC19', 'DC20'), ('DC19', 'DC3'), ('DC19', 'DC32'), ('DC19', 'DC34'), ('DC19', 'DC35'), ('DC19', 'DC36'), ('DC19', 'DC4'), ('DC19', 'DC40'), ('DC19', 'DC5'), ('DC19', 'DC62'), ('DC19', 'DC64'), ('DC19', 'DC65'), ('DC19', 'DC70'), ('DC19', 'DC8'), ('DC19', 'DC81'), ('DC19', 'DC9'), ('DC2', 'DC10'), ('DC2', 'DC14'), ('DC2', 'DC3'), ('DC2', 'DC4'), ('DC2', 'DC5'), ('DC2', 'DC62'), ('DC2', 'DC8'), ('DC2', 'DC9'), ('DC20', 'DC10'), ('DC20', 'DC12'), ('DC20', 'DC14'), ('DC20', 'DC3'), ('DC20', 'DC32'), ('DC20', 'DC33'), ('DC20', 'DC34'), ('DC20', 'DC35'), ('DC20', 'DC4'), ('DC20', 'DC40'), ('DC20', 'DC5'), ('DC20', 'DC62'), ('DC20', 'DC64'), ('DC20', 'DC65'), ('DC20', 'DC70'), ('DC20', 'DC76'), ('DC20', 'DC8'), ('DC20', 'DC81'), ('DC20', 'DC9'), ('DC21', 'DC10'), ('DC21', 'DC12'), ('DC21', 'DC14'), ('DC21', 'DC20'), ('DC21', 'DC3'), ('DC21', 'DC32'), ('DC21', 'DC33'), ('DC21', 'DC34'), ('DC21', 'DC35'), ('DC21', 'DC4'), ('DC21', 'DC40'), ('DC21', 'DC5'), ('DC21', 'DC62'), ('DC21', 'DC70'), ('DC21', 'DC76'), ('DC21', 'DC8'), ('DC21', 'DC81'), ('DC21', 'DC9'), ('DC22', 'DC10'), ('DC22', 'DC12'), ('DC22', 'DC13'), ('DC22', 'DC14'), ('DC22', 'DC20'), ('DC22', 'DC21'), ('DC22', 'DC3'), ('DC22', 'DC32'), ('DC22', 'DC34'), ('DC22', 'DC35'), ('DC22', 'DC4'), ('DC22', 'DC40'), ('DC22', 'DC5'), ('DC22', 'DC62'), ('DC22', 'DC64'), ('DC22', 'DC65'), ('DC22', 'DC70'), ('DC22', 'DC76'), ('DC22', 'DC8'), ('DC22', 'DC81'), ('DC22', 'DC9'), ('DC23', 'DC10'), ('DC23', 'DC12'), ('DC23', 'DC14'), ('DC23', 'DC18'), ('DC23', 'DC20'), ('DC23', 'DC29'), ('DC23', 'DC3'), ('DC23', 'DC32'), ('DC23', 'DC34'), ('DC23', 'DC35'), ('DC23', 'DC36'), ('DC23', 'DC4'), ('DC23', 'DC40'), ('DC23', 'DC5'), ('DC23', 'DC6'), ('DC23', 'DC62'), ('DC23', 'DC64'), ('DC23', 'DC65'), ('DC23', 'DC70'), ('DC23', 'DC8'), ('DC23', 'DC81'), ('DC23', 'DC9'), ('DC24', 'DC10'), ('DC24', 'DC14'), ('DC24', 'DC3'), ('DC24', 'DC4'), ('DC24', 'DC5'), ('DC24', 'DC62'), ('DC24', 'DC8'), ('DC24', 'DC9'), ('DC25', 'DC10'), ('DC25', 'DC12'), ('DC25', 'DC14'), ('DC25', 'DC3'), ('DC25', 'DC32'), ('DC25', 'DC33'), ('DC25', 'DC34'), ('DC25', 'DC35'), ('DC25', 'DC4'), ('DC25', 'DC40'), ('DC25', 'DC5'), ('DC25', 'DC62'), ('DC25', 'DC64'), ('DC25', 'DC65'), ('DC25', 'DC70'), ('DC25', 'DC76'), ('DC25', 'DC8'), ('DC25', 'DC81'), ('DC25', 'DC9'), ('DC26', 'DC10'), ('DC26', 'DC12'), ('DC26', 'DC14'), ('DC26', 'DC3'), ('DC26', 'DC32'), ('DC26', 'DC34'), ('DC26', 'DC35'), ('DC26', 'DC4'), ('DC26', 'DC40'), ('DC26', 'DC5'), ('DC26', 'DC62'), ('DC26', 'DC64'), ('DC26', 'DC65'), ('DC26', 'DC70'), ('DC26', 'DC8'), ('DC26', 'DC81'), ('DC26', 'DC9'), ('DC27', 'DC10'), ('DC27', 'DC14'), ('DC27', 'DC3'), ('DC27', 'DC32'), ('DC27', 'DC34'), ('DC27', 'DC35'), ('DC27', 'DC4'), ('DC27', 'DC40'), ('DC27', 'DC5'), ('DC27', 'DC62'), ('DC27', 'DC64'), ('DC27', 'DC65'), ('DC27', 'DC70'), ('DC27', 'DC8'), ('DC27', 'DC9'), ('DC28', 'DC10'), ('DC28', 'DC12'), ('DC28', 'DC14'), ('DC28', 'DC20'), ('DC28', 'DC23'), ('DC28', 'DC3'), ('DC28', 'DC32'), ('DC28', 'DC34'), ('DC28', 'DC35'), ('DC28', 'DC4'), ('DC28', 'DC40'), ('DC28', 'DC5'), ('DC28', 'DC62'), ('DC28', 'DC64'), ('DC28', 'DC65'), ('DC28', 'DC70'), ('DC28', 'DC8'), ('DC28', 'DC81'), ('DC28', 'DC9'), ('DC29', 'DC36'), ('DC29', 'DC9'), ('DC3', 'DC10'), ('DC3', 'DC12'), ('DC3', 'DC14'), ('DC3', 'DC19'), ('DC3', 'DC21'), ('DC3', 'DC22'), ('DC3', 'DC23'), ('DC3', 'DC28'), ('DC3', 'DC30'), ('DC3', 'DC35'), ('DC3', 'DC36'), ('DC3', 'DC38'), ('DC3', 'DC4'), ('DC3', 'DC40'), ('DC3', 'DC5'), ('DC3', 'DC8'), ('DC3', 'DC9'), ('DC30', 'DC10'), ('DC30', 'DC12'), ('DC30', 'DC14'), ('DC30', 'DC23'), ('DC30', 'DC3'), ('DC30', 'DC32'), ('DC30', 'DC34'), ('DC30', 'DC35'), ('DC30', 'DC4'), ('DC30', 'DC40'), ('DC30', 'DC5'), ('DC30', 'DC62'), ('DC30', 'DC64'), ('DC30', 'DC65'), ('DC30', 'DC67'), ('DC30', 'DC70'), ('DC30', 'DC8'), ('DC30', 'DC81'), ('DC30', 'DC9'), ('DC31', 'DC10'), ('DC31', 'DC12'), ('DC31', 'DC14'), ('DC31', 'DC3'), ('DC31', 'DC32'), ('DC31', 'DC34'), ('DC31', 'DC35'), ('DC31', 'DC37'), ('DC31', 'DC4'), ('DC31', 'DC40'), ('DC31', 'DC5'), ('DC31', 'DC62'), ('DC31', 'DC64'), ('DC31', 'DC65'), ('DC31', 'DC70'), ('DC31', 'DC76'), ('DC31', 'DC8'), ('DC31', 'DC9'), ('DC32', 'DC10'), ('DC32', 'DC12'), ('DC32', 'DC14'), ('DC32', 'DC35'), ('DC32', 'DC40'), ('DC32', 'DC70'), ('DC33', 'DC10'), ('DC33', 'DC14'), ('DC33', 'DC3'), ('DC33', 'DC4'), ('DC33', 'DC5'), ('DC33', 'DC62'), ('DC33', 'DC65'), ('DC33', 'DC8'), ('DC33', 'DC9'), ('DC34', 'DC10'), ('DC34', 'DC12'), ('DC34', 'DC14'), ('DC34', 'DC3'), ('DC34', 'DC30'), ('DC34', 'DC32'), ('DC34', 'DC35'), ('DC34', 'DC4'), ('DC34', 'DC40'), ('DC34', 'DC5'), ('DC34', 'DC62'), ('DC34', 'DC64'), ('DC34', 'DC67'), ('DC34', 'DC70'), ('DC34', 'DC8'), ('DC34', 'DC9'), ('DC35', 'DC10'), ('DC35', 'DC12'), ('DC35', 'DC14'), ('DC35', 'DC17'), ('DC35', 'DC23'), ('DC35', 'DC3'), ('DC35', 'DC30'), ('DC35', 'DC32'), ('DC35', 'DC34'), ('DC35', 'DC36'), ('DC35', 'DC4'), ('DC35', 'DC40'), ('DC35', 'DC5'), ('DC35', 'DC62'), ('DC35', 'DC67'), ('DC35', 'DC70'), ('DC35', 'DC8'), ('DC35', 'DC9'), ('DC36', 'DC10'), ('DC36', 'DC12'), ('DC36', 'DC14'), ('DC36', 'DC20'), ('DC36', 'DC23'), ('DC36', 'DC29'), ('DC36', 'DC3'), ('DC36', 'DC32'), ('DC36', 'DC33'), ('DC36', 'DC34'), ('DC36', 'DC35'), ('DC36', 'DC4'), ('DC36', 'DC40'), ('DC36', 'DC5'), ('DC36', 'DC62'), ('DC36', 'DC64'), ('DC36', 'DC65'), ('DC36', 'DC70'), ('DC36', 'DC8'), ('DC36', 'DC81'), ('DC36', 'DC9'), ('DC37', 'DC10'), ('DC37', 'DC14'), ('DC37', 'DC3'), ('DC37', 'DC4'), ('DC37', 'DC5'), ('DC37', 'DC54'), ('DC37', 'DC62'), ('DC37', 'DC8'), ('DC37', 'DC9'), ('DC38', 'DC10'), ('DC38', 'DC12'), ('DC38', 'DC14'), ('DC38', 'DC22'), ('DC38', 'DC3'), ('DC38', 'DC32'), ('DC38', 'DC34'), ('DC38', 'DC35'), ('DC38', 'DC4'), ('DC38', 'DC40'), ('DC38', 'DC5'), ('DC38', 'DC62'), ('DC38', 'DC64'), ('DC38', 'DC65'), ('DC38', 'DC70'), ('DC38', 'DC8'), ('DC38', 'DC81'), ('DC38', 'DC9'), ('DC39', 'DC10'), ('DC39', 'DC14'), ('DC39', 'DC4'), ('DC39', 'DC5'), ('DC39', 'DC8'), ('DC39', 'DC9'), ('DC4', 'DC10'), ('DC4', 'DC14'), ('DC4', 'DC17'), ('DC4', 'DC19'), ('DC4', 'DC20'), ('DC4', 'DC21'), ('DC4', 'DC22'), ('DC4', 'DC23'), ('DC4', 'DC3'), ('DC4', 'DC30'), ('DC4', 'DC34'), ('DC4', 'DC35'), ('DC4', 'DC36'), ('DC4', 'DC38'), ('DC4', 'DC40'), ('DC4', 'DC5'), ('DC4', 'DC62'), ('DC4', 'DC64'), ('DC4', 'DC65'), ('DC4', 'DC70'), ('DC4', 'DC8'), ('DC4', 'DC9'), ('DC40', 'DC10'), ('DC40', 'DC12'), ('DC40', 'DC14'), ('DC40', 'DC21'), ('DC40', 'DC22'), ('DC40', 'DC3'), ('DC40', 'DC30'), ('DC40', 'DC32'), ('DC40', 'DC34'), ('DC40', 'DC35'), ('DC40', 'DC4'), ('DC40', 'DC5'), ('DC40', 'DC62'), ('DC40', 'DC67'), ('DC40', 'DC70'), ('DC40', 'DC8'), ('DC40', 'DC9'), ('DC41', 'DC10'), ('DC41', 'DC12'), ('DC41', 'DC14'), ('DC41', 'DC29'), ('DC41', 'DC3'), ('DC41', 'DC35'), ('DC41', 'DC40'), ('DC41', 'DC5'), ('DC41', 'DC81'), ('DC41', 'DC9'), ('DC42', 'DC10'), ('DC42', 'DC12'), ('DC42', 'DC14'), ('DC42', 'DC29'), ('DC42', 'DC3'), ('DC42', 'DC32'), ('DC42', 'DC34'), ('DC42', 'DC35'), ('DC42', 'DC4'), ('DC42', 'DC40'), ('DC42', 'DC5'), ('DC42', 'DC62'), ('DC42', 'DC65'), ('DC42', 'DC70'), ('DC42', 'DC8'), ('DC42', 'DC81'), ('DC42', 'DC9'), ('DC43', 'DC10'), ('DC43', 'DC12'), ('DC43', 'DC14'), ('DC43', 'DC29'), ('DC43', 'DC3'), ('DC43', 'DC34'), ('DC43', 'DC35'), ('DC43', 'DC4'), ('DC43', 'DC40'), ('DC43', 'DC45'), ('DC43', 'DC5'), ('DC43', 'DC62'), ('DC43', 'DC64'), ('DC43', 'DC65'), ('DC43', 'DC70'), ('DC43', 'DC8'), ('DC43', 'DC9'), ('DC44', 'DC10'), ('DC44', 'DC12'), ('DC44', 'DC14'), ('DC44', 'DC29'), ('DC44', 'DC3'), ('DC44', 'DC32'), ('DC44', 'DC34'), ('DC44', 'DC35'), ('DC44', 'DC4'), ('DC44', 'DC40'), ('DC44', 'DC5'), ('DC44', 'DC62'), ('DC44', 'DC64'), ('DC44', 'DC65'), ('DC44', 'DC70'), ('DC44', 'DC8'), ('DC44', 'DC81'), ('DC44', 'DC9'), ('DC45', 'DC10'), ('DC45', 'DC12'), ('DC45', 'DC14'), ('DC45', 'DC29'), ('DC45', 'DC3'), ('DC45', 'DC35'), ('DC45', 'DC4'), ('DC45', 'DC5'), ('DC45', 'DC8'), ('DC45', 'DC81'), ('DC45', 'DC9'), ('DC46', 'DC10'), ('DC46', 'DC12'), ('DC46', 'DC13'), ('DC46', 'DC14'), ('DC46', 'DC29'), ('DC46', 'DC3'), ('DC46', 'DC32'), ('DC46', 'DC34'), ('DC46', 'DC35'), ('DC46', 'DC4'), ('DC46', 'DC40'), ('DC46', 'DC5'), ('DC46', 'DC52'), ('DC46', 'DC62'), ('DC46', 'DC64'), ('DC46', 'DC65'), ('DC46', 'DC70'), ('DC46', 'DC8'), ('DC46', 'DC81'), ('DC46', 'DC9'), ('DC47', 'DC10'), ('DC47', 'DC12'), ('DC47', 'DC14'), ('DC47', 'DC29'), ('DC47', 'DC3'), ('DC47', 'DC34'), ('DC47', 'DC35'), ('DC47', 'DC4'), ('DC47', 'DC40'), ('DC47', 'DC5'), ('DC47', 'DC62'), ('DC47', 'DC64'), ('DC47', 'DC65'), ('DC47', 'DC70'), ('DC47', 'DC8'), ('DC47', 'DC81'), ('DC47', 'DC9'), ('DC48', 'DC10'), ('DC48', 'DC12'), ('DC48', 'DC14'), ('DC48', 'DC29'), ('DC48', 'DC3'), ('DC48', 'DC32'), ('DC48', 'DC34'), ('DC48', 'DC35'), ('DC48', 'DC4'), ('DC48', 'DC40'), ('DC48', 'DC5'), ('DC48', 'DC50'), ('DC48', 'DC62'), ('DC48', 'DC64'), ('DC48', 'DC65'), ('DC48', 'DC70'), ('DC48', 'DC8'), ('DC48', 'DC9'), ('DC49', 'DC10'), ('DC49', 'DC12'), ('DC49', 'DC14'), ('DC49', 'DC3'), ('DC49', 'DC35'), ('DC49', 'DC5'), ('DC49', 'DC9'), ('DC5', 'DC10'), ('DC5', 'DC12'), ('DC5', 'DC14'), ('DC5', 'DC15'), ('DC5', 'DC19'), ('DC5', 'DC20'), ('DC5', 'DC21'), ('DC5', 'DC22'), ('DC5', 'DC23'), ('DC5', 'DC3'), ('DC5', 'DC30'), ('DC5', 'DC31'), ('DC5', 'DC32'), ('DC5', 'DC35'), ('DC5', 'DC36'), ('DC5', 'DC4'), ('DC5', 'DC40'), ('DC5', 'DC51'), ('DC5', 'DC61'), ('DC5', 'DC62'), ('DC5', 'DC70'), ('DC5', 'DC8'), ('DC5', 'DC9'), ('DC50', 'DC10'), ('DC50', 'DC12'), ('DC50', 'DC14'), ('DC50', 'DC29'), ('DC50', 'DC3'), ('DC50', 'DC32'), ('DC50', 'DC34'), ('DC50', 'DC35'), ('DC50', 'DC4'), ('DC50', 'DC40'), ('DC50', 'DC48'), ('DC50', 'DC5'), ('DC50', 'DC62'), ('DC50', 'DC64'), ('DC50', 'DC65'), ('DC50', 'DC70'), ('DC50', 'DC8'), ('DC50', 'DC9'), ('DC51', 'DC10'), ('DC51', 'DC12'), ('DC51', 'DC14'), ('DC51', 'DC29'), ('DC51', 'DC3'), ('DC51', 'DC32'), ('DC51', 'DC34'), ('DC51', 'DC35'), ('DC51', 'DC4'), ('DC51', 'DC40'), ('DC51', 'DC5'), ('DC51', 'DC62'), ('DC51', 'DC64'), ('DC51', 'DC65'), ('DC51', 'DC70'), ('DC51', 'DC8'), ('DC51', 'DC81'), ('DC51', 'DC9'), ('DC52', 'DC10'), ('DC52', 'DC14'), ('DC52', 'DC3'), ('DC52', 'DC35'), ('DC52', 'DC4'), ('DC52', 'DC40'), ('DC52', 'DC46'), ('DC52', 'DC5'), ('DC52', 'DC62'), ('DC52', 'DC64'), ('DC52', 'DC65'), ('DC52', 'DC70'), ('DC52', 'DC8'), ('DC52', 'DC9'), ('DC53', 'DC10'), ('DC53', 'DC14'), ('DC53', 'DC25'), ('DC53', 'DC3'), ('DC53', 'DC33'), ('DC53', 'DC35'), ('DC53', 'DC4'), ('DC53', 'DC5'), ('DC53', 'DC62'), ('DC53', 'DC64'), ('DC53', 'DC65'), ('DC53', 'DC70'), ('DC53', 'DC8'), ('DC54', 'DC23'), ('DC54', 'DC37'), ('DC55', 'DC10'), ('DC55', 'DC14'), ('DC55', 'DC20'), ('DC55', 'DC3'), ('DC55', 'DC33'), ('DC55', 'DC35'), ('DC55', 'DC4'), ('DC55', 'DC5'), ('DC55', 'DC62'), ('DC55', 'DC8'), ('DC55', 'DC9'), ('DC56', 'DC10'), ('DC56', 'DC12'), ('DC56', 'DC14'), ('DC56', 'DC3'), ('DC56', 'DC35'), ('DC56', 'DC4'), ('DC56', 'DC40'), ('DC56', 'DC5'), ('DC56', 'DC61'), ('DC56', 'DC62'), ('DC56', 'DC70'), ('DC56', 'DC8'), ('DC56', 'DC9'), ('DC57', 'DC10'), ('DC57', 'DC14'), ('DC57', 'DC32'), ('DC57', 'DC35'), ('DC57', 'DC4'), ('DC57', 'DC40'), ('DC57', 'DC5'), ('DC57', 'DC62'), ('DC57', 'DC70'), ('DC57', 'DC8'), ('DC58', 'DC10'), ('DC58', 'DC12'), ('DC58', 'DC14'), ('DC58', 'DC29'), ('DC58', 'DC3'), ('DC58', 'DC34'), ('DC58', 'DC35'), ('DC58', 'DC4'), ('DC58', 'DC40'), ('DC58', 'DC5'), ('DC58', 'DC70'), ('DC58', 'DC8'), ('DC58', 'DC81'), ('DC58', 'DC9'), ('DC59', 'DC10'), ('DC59', 'DC14'), ('DC59', 'DC3'), ('DC59', 'DC35'), ('DC59', 'DC4'), ('DC59', 'DC40'), ('DC59', 'DC5'), ('DC59', 'DC62'), ('DC59', 'DC64'), ('DC59', 'DC65'), ('DC59', 'DC70'), ('DC59', 'DC8'), ('DC6', 'DC10'), ('DC6', 'DC14'), ('DC6', 'DC23'), ('DC6', 'DC4'), ('DC6', 'DC62'), ('DC6', 'DC70'), ('DC60', 'DC10'), ('DC60', 'DC14'), ('DC60', 'DC3'), ('DC60', 'DC34'), ('DC60', 'DC35'), ('DC60', 'DC4'), ('DC60', 'DC40'), ('DC60', 'DC5'), ('DC60', 'DC62'), ('DC60', 'DC64'), ('DC60', 'DC70'), ('DC60', 'DC8'), ('DC61', 'DC10'), ('DC61', 'DC14'), ('DC61', 'DC3'), ('DC61', 'DC4'), ('DC61', 'DC5'), ('DC62', 'DC10'), ('DC62', 'DC14'), ('DC62', 'DC15'), ('DC62', 'DC17'), ('DC62', 'DC20'), ('DC62', 'DC21'), ('DC62', 'DC22'), ('DC62', 'DC23'), ('DC62', 'DC3'), ('DC62', 'DC30'), ('DC62', 'DC32'), ('DC62', 'DC33'), ('DC62', 'DC34'), ('DC62', 'DC35'), ('DC62', 'DC38'), ('DC62', 'DC4'), ('DC62', 'DC40'), ('DC62', 'DC5'), ('DC62', 'DC50'), ('DC62', 'DC64'), ('DC62', 'DC65'), ('DC62', 'DC70'), ('DC62', 'DC73'), ('DC62', 'DC76'), ('DC62', 'DC8'), ('DC62', 'DC9'), ('DC63', 'DC10'), ('DC63', 'DC14'), ('DC63', 'DC8'), ('DC64', 'DC10'), ('DC64', 'DC14'), ('DC64', 'DC30'), ('DC64', 'DC4'), ('DC64', 'DC5'), ('DC64', 'DC62'), ('DC64', 'DC8'), ('DC65', 'DC10'), ('DC65', 'DC14'), ('DC65', 'DC4'), ('DC65', 'DC43'), ('DC65', 'DC5'), ('DC65', 'DC62'), ('DC65', 'DC8'), ('DC66', 'DC10'), ('DC66', 'DC14'), ('DC66', 'DC3'), ('DC66', 'DC4'), ('DC66', 'DC5'), ('DC66', 'DC8'), ('DC66', 'DC9'), ('DC67', 'DC10'), ('DC67', 'DC12'), ('DC67', 'DC14'), ('DC67', 'DC3'), ('DC67', 'DC32'), ('DC67', 'DC34'), ('DC67', 'DC35'), ('DC67', 'DC40'), ('DC67', 'DC5'), ('DC67', 'DC9'), ('DC68', 'DC10'), ('DC68', 'DC14'), ('DC68', 'DC3'), ('DC68', 'DC35'), ('DC68', 'DC4'), ('DC68', 'DC40'), ('DC68', 'DC5'), ('DC68', 'DC62'), ('DC68', 'DC64'), ('DC68', 'DC65'), ('DC68', 'DC70'), ('DC68', 'DC8'), ('DC69', 'DC10'), ('DC69', 'DC14'), ('DC69', 'DC3'), ('DC69', 'DC4'), ('DC69', 'DC5'), ('DC69', 'DC62'), ('DC69', 'DC8'), ('DC7', 'DC10'), ('DC7', 'DC12'), ('DC7', 'DC14'), ('DC7', 'DC3'), ('DC7', 'DC34'), ('DC7', 'DC35'), ('DC7', 'DC4'), ('DC7', 'DC40'), ('DC7', 'DC5'), ('DC7', 'DC62'), ('DC7', 'DC65'), ('DC7', 'DC70'), ('DC7', 'DC8'), ('DC7', 'DC9'), ('DC70', 'DC10'), ('DC70', 'DC14'), ('DC70', 'DC3'), ('DC70', 'DC32'), ('DC70', 'DC34'), ('DC70', 'DC35'), ('DC70', 'DC38'), ('DC70', 'DC4'), ('DC70', 'DC40'), ('DC70', 'DC5'), ('DC70', 'DC62'), ('DC70', 'DC8'), ('DC71', 'DC10'), ('DC71', 'DC12'), ('DC71', 'DC14'), ('DC71', 'DC3'), ('DC71', 'DC35'), ('DC71', 'DC4'), ('DC71', 'DC40'), ('DC71', 'DC5'), ('DC71', 'DC62'), ('DC71', 'DC70'), ('DC71', 'DC8'), ('DC71', 'DC9'), ('DC72', 'DC10'), ('DC72', 'DC14'), ('DC72', 'DC3'), ('DC72', 'DC35'), ('DC72', 'DC4'), ('DC72', 'DC5'), ('DC72', 'DC62'), ('DC72', 'DC8'), ('DC72', 'DC9'), ('DC73', 'DC10'), ('DC73', 'DC12'), ('DC73', 'DC14'), ('DC73', 'DC20'), ('DC73', 'DC3'), ('DC73', 'DC34'), ('DC73', 'DC35'), ('DC73', 'DC4'), ('DC73', 'DC40'), ('DC73', 'DC5'), ('DC73', 'DC62'), ('DC73', 'DC64'), ('DC73', 'DC70'), ('DC73', 'DC8'), ('DC73', 'DC9'), ('DC74', 'DC10'), ('DC74', 'DC14'), ('DC74', 'DC3'), ('DC74', 'DC4'), ('DC74', 'DC5'), ('DC74', 'DC8'), ('DC74', 'DC9'), ('DC75', 'DC35'), ('DC76', 'DC10'), ('DC76', 'DC14'), ('DC76', 'DC3'), ('DC76', 'DC4'), ('DC76', 'DC5'), ('DC76', 'DC62'), ('DC76', 'DC8'), ('DC77', 'DC6'), ('DC8', 'DC10'), ('DC8', 'DC13'), ('DC8', 'DC14'), ('DC8', 'DC15'), ('DC8', 'DC25'), ('DC8', 'DC27'), ('DC8', 'DC3'), ('DC8', 'DC32'), ('DC8', 'DC33'), ('DC8', 'DC34'), ('DC8', 'DC35'), ('DC8', 'DC38'), ('DC8', 'DC4'), ('DC8', 'DC40'), ('DC8', 'DC43'), ('DC8', 'DC44'), ('DC8', 'DC5'), ('DC8', 'DC59'), ('DC8', 'DC62'), ('DC8', 'DC64'), ('DC8', 'DC65'), ('DC8', 'DC70'), ('DC8', 'DC76'), ('DC8', 'DC78'), ('DC8', 'DC9'), ('DC9', 'DC10'), ('DC9', 'DC12'), ('DC9', 'DC13'), ('DC9', 'DC14'), ('DC9', 'DC19'), ('DC9', 'DC21'), ('DC9', 'DC22'), ('DC9', 'DC23'), ('DC9', 'DC25'), ('DC9', 'DC3'), ('DC9', 'DC32'), ('DC9', 'DC34'), ('DC9', 'DC35'), ('DC9', 'DC36'), ('DC9', 'DC4'), ('DC9', 'DC40'), ('DC9', 'DC48'), ('DC9', 'DC5'), ('DC9', 'DC51'), ('DC9', 'DC58'), ('DC9', 'DC62'), ('DC9', 'DC67'), ('DC9', 'DC79'), ('DC9', 'DC8')]\n",
      "20\n"
     ]
    },
    {
     "data": {
      "text/plain": "        场地1   场地2          日期    货量\n14600  DC10  DC38  2021-01-01   NaN\n14601  DC10  DC38  2021-01-02   NaN\n14602  DC10  DC38  2021-01-03   NaN\n14603  DC10  DC38  2021-01-04  15.0\n14604  DC10  DC38  2021-01-05   NaN\n...     ...   ...         ...   ...\n15325  DC10  DC38  2022-12-27   NaN\n15326  DC10  DC38  2022-12-28   NaN\n15327  DC10  DC38  2022-12-29   NaN\n15328  DC10  DC38  2022-12-30   NaN\n15329  DC10  DC38  2022-12-31   NaN\n\n[730 rows x 4 columns]",
      "text/html": "<div>\n<style scoped>\n    .dataframe tbody tr th:only-of-type {\n        vertical-align: middle;\n    }\n\n    .dataframe tbody tr th {\n        vertical-align: top;\n    }\n\n    .dataframe thead th {\n        text-align: right;\n    }\n</style>\n<table border=\"1\" class=\"dataframe\">\n  <thead>\n    <tr style=\"text-align: right;\">\n      <th></th>\n      <th>场地1</th>\n      <th>场地2</th>\n      <th>日期</th>\n      <th>货量</th>\n    </tr>\n  </thead>\n  <tbody>\n    <tr>\n      <th>14600</th>\n      <td>DC10</td>\n      <td>DC38</td>\n      <td>2021-01-01</td>\n      <td>NaN</td>\n    </tr>\n    <tr>\n      <th>14601</th>\n      <td>DC10</td>\n      <td>DC38</td>\n      <td>2021-01-02</td>\n      <td>NaN</td>\n    </tr>\n    <tr>\n      <th>14602</th>\n      <td>DC10</td>\n      <td>DC38</td>\n      <td>2021-01-03</td>\n      <td>NaN</td>\n    </tr>\n    <tr>\n      <th>14603</th>\n      <td>DC10</td>\n      <td>DC38</td>\n      <td>2021-01-04</td>\n      <td>15.0</td>\n    </tr>\n    <tr>\n      <th>14604</th>\n      <td>DC10</td>\n      <td>DC38</td>\n      <td>2021-01-05</td>\n      <td>NaN</td>\n    </tr>\n    <tr>\n      <th>...</th>\n      <td>...</td>\n      <td>...</td>\n      <td>...</td>\n      <td>...</td>\n    </tr>\n    <tr>\n      <th>15325</th>\n      <td>DC10</td>\n      <td>DC38</td>\n      <td>2022-12-27</td>\n      <td>NaN</td>\n    </tr>\n    <tr>\n      <th>15326</th>\n      <td>DC10</td>\n      <td>DC38</td>\n      <td>2022-12-28</td>\n      <td>NaN</td>\n    </tr>\n    <tr>\n      <th>15327</th>\n      <td>DC10</td>\n      <td>DC38</td>\n      <td>2022-12-29</td>\n      <td>NaN</td>\n    </tr>\n    <tr>\n      <th>15328</th>\n      <td>DC10</td>\n      <td>DC38</td>\n      <td>2022-12-30</td>\n      <td>NaN</td>\n    </tr>\n    <tr>\n      <th>15329</th>\n      <td>DC10</td>\n      <td>DC38</td>\n      <td>2022-12-31</td>\n      <td>NaN</td>\n    </tr>\n  </tbody>\n</table>\n<p>730 rows × 4 columns</p>\n</div>"
     },
     "execution_count": 7,
     "metadata": {},
     "output_type": "execute_result"
    }
   ],
   "source": [
    "# 进行groupby操作，将结果提取出来形成新的DataFrame\n",
    "grouped_df_groupby = newData.groupby(['场地1', '场地2'])\n",
    "grouped_df = [grouped_df_groupby.get_group(x) for x in grouped_df_groupby.groups]\n",
    "\n",
    "print(len(grouped_df))\n",
    "gpKeys = list(dict(grouped_df_groupby.groups).keys())\n",
    "print(gpKeys)\n",
    "print(gpKeys.index(('DC10', 'DC38')))\n",
    "grouped_df[gpKeys.index(('DC10', 'DC38'))]"
   ],
   "metadata": {
    "collapsed": false,
    "ExecuteTime": {
     "start_time": "2023-04-16T10:27:40.594754Z",
     "end_time": "2023-04-16T10:27:41.431798Z"
    }
   }
  },
  {
   "cell_type": "code",
   "execution_count": 8,
   "outputs": [
    {
     "name": "stderr",
     "output_type": "stream",
     "text": [
      "D:\\Users\\win\\AppData\\Local\\Temp\\ipykernel_20912\\4217993953.py:3: SettingWithCopyWarning: \n",
      "A value is trying to be set on a copy of a slice from a DataFrame\n",
      "\n",
      "See the caveats in the documentation: https://pandas.pydata.org/pandas-docs/stable/user_guide/indexing.html#returning-a-view-versus-a-copy\n",
      "  ndf.fillna(method='ffill', inplace=True)\n"
     ]
    }
   ],
   "source": [
    "# 用上面已有值替换\n",
    "for ndf in grouped_df:\n",
    "    ndf.fillna(method='ffill', inplace=True)"
   ],
   "metadata": {
    "collapsed": false,
    "ExecuteTime": {
     "start_time": "2023-04-16T10:27:41.433803Z",
     "end_time": "2023-04-16T10:27:41.744797Z"
    }
   }
  },
  {
   "cell_type": "code",
   "execution_count": 9,
   "outputs": [
    {
     "data": {
      "text/plain": "        场地1   场地2          日期    货量\n14600  DC10  DC38  2021-01-01   NaN\n14601  DC10  DC38  2021-01-02   NaN\n14602  DC10  DC38  2021-01-03   NaN\n14603  DC10  DC38  2021-01-04  15.0\n14604  DC10  DC38  2021-01-05  15.0\n...     ...   ...         ...   ...\n15325  DC10  DC38  2022-12-27   8.0\n15326  DC10  DC38  2022-12-28   8.0\n15327  DC10  DC38  2022-12-29   8.0\n15328  DC10  DC38  2022-12-30   8.0\n15329  DC10  DC38  2022-12-31   8.0\n\n[730 rows x 4 columns]",
      "text/html": "<div>\n<style scoped>\n    .dataframe tbody tr th:only-of-type {\n        vertical-align: middle;\n    }\n\n    .dataframe tbody tr th {\n        vertical-align: top;\n    }\n\n    .dataframe thead th {\n        text-align: right;\n    }\n</style>\n<table border=\"1\" class=\"dataframe\">\n  <thead>\n    <tr style=\"text-align: right;\">\n      <th></th>\n      <th>场地1</th>\n      <th>场地2</th>\n      <th>日期</th>\n      <th>货量</th>\n    </tr>\n  </thead>\n  <tbody>\n    <tr>\n      <th>14600</th>\n      <td>DC10</td>\n      <td>DC38</td>\n      <td>2021-01-01</td>\n      <td>NaN</td>\n    </tr>\n    <tr>\n      <th>14601</th>\n      <td>DC10</td>\n      <td>DC38</td>\n      <td>2021-01-02</td>\n      <td>NaN</td>\n    </tr>\n    <tr>\n      <th>14602</th>\n      <td>DC10</td>\n      <td>DC38</td>\n      <td>2021-01-03</td>\n      <td>NaN</td>\n    </tr>\n    <tr>\n      <th>14603</th>\n      <td>DC10</td>\n      <td>DC38</td>\n      <td>2021-01-04</td>\n      <td>15.0</td>\n    </tr>\n    <tr>\n      <th>14604</th>\n      <td>DC10</td>\n      <td>DC38</td>\n      <td>2021-01-05</td>\n      <td>15.0</td>\n    </tr>\n    <tr>\n      <th>...</th>\n      <td>...</td>\n      <td>...</td>\n      <td>...</td>\n      <td>...</td>\n    </tr>\n    <tr>\n      <th>15325</th>\n      <td>DC10</td>\n      <td>DC38</td>\n      <td>2022-12-27</td>\n      <td>8.0</td>\n    </tr>\n    <tr>\n      <th>15326</th>\n      <td>DC10</td>\n      <td>DC38</td>\n      <td>2022-12-28</td>\n      <td>8.0</td>\n    </tr>\n    <tr>\n      <th>15327</th>\n      <td>DC10</td>\n      <td>DC38</td>\n      <td>2022-12-29</td>\n      <td>8.0</td>\n    </tr>\n    <tr>\n      <th>15328</th>\n      <td>DC10</td>\n      <td>DC38</td>\n      <td>2022-12-30</td>\n      <td>8.0</td>\n    </tr>\n    <tr>\n      <th>15329</th>\n      <td>DC10</td>\n      <td>DC38</td>\n      <td>2022-12-31</td>\n      <td>8.0</td>\n    </tr>\n  </tbody>\n</table>\n<p>730 rows × 4 columns</p>\n</div>"
     },
     "execution_count": 9,
     "metadata": {},
     "output_type": "execute_result"
    }
   ],
   "source": [
    "grouped_df[gpKeys.index(('DC10', 'DC38'))]"
   ],
   "metadata": {
    "collapsed": false,
    "ExecuteTime": {
     "start_time": "2023-04-16T10:27:41.744797Z",
     "end_time": "2023-04-16T10:27:41.764797Z"
    }
   }
  },
  {
   "cell_type": "code",
   "execution_count": 10,
   "outputs": [
    {
     "name": "stderr",
     "output_type": "stream",
     "text": [
      "D:\\Users\\win\\AppData\\Local\\Temp\\ipykernel_20912\\1551613207.py:3: SettingWithCopyWarning: \n",
      "A value is trying to be set on a copy of a slice from a DataFrame\n",
      "\n",
      "See the caveats in the documentation: https://pandas.pydata.org/pandas-docs/stable/user_guide/indexing.html#returning-a-view-versus-a-copy\n",
      "  ndf.fillna(method='bfill', inplace=True)\n"
     ]
    }
   ],
   "source": [
    "# 用下面已有值替换\n",
    "for ndf in grouped_df:\n",
    "    ndf.fillna(method='bfill', inplace=True)"
   ],
   "metadata": {
    "collapsed": false,
    "ExecuteTime": {
     "start_time": "2023-04-16T10:27:41.761798Z",
     "end_time": "2023-04-16T10:27:42.085274Z"
    }
   }
  },
  {
   "cell_type": "code",
   "execution_count": 11,
   "outputs": [
    {
     "data": {
      "text/plain": "        场地1   场地2          日期    货量\n14600  DC10  DC38  2021-01-01  15.0\n14601  DC10  DC38  2021-01-02  15.0\n14602  DC10  DC38  2021-01-03  15.0\n14603  DC10  DC38  2021-01-04  15.0\n14604  DC10  DC38  2021-01-05  15.0\n...     ...   ...         ...   ...\n15325  DC10  DC38  2022-12-27   8.0\n15326  DC10  DC38  2022-12-28   8.0\n15327  DC10  DC38  2022-12-29   8.0\n15328  DC10  DC38  2022-12-30   8.0\n15329  DC10  DC38  2022-12-31   8.0\n\n[730 rows x 4 columns]",
      "text/html": "<div>\n<style scoped>\n    .dataframe tbody tr th:only-of-type {\n        vertical-align: middle;\n    }\n\n    .dataframe tbody tr th {\n        vertical-align: top;\n    }\n\n    .dataframe thead th {\n        text-align: right;\n    }\n</style>\n<table border=\"1\" class=\"dataframe\">\n  <thead>\n    <tr style=\"text-align: right;\">\n      <th></th>\n      <th>场地1</th>\n      <th>场地2</th>\n      <th>日期</th>\n      <th>货量</th>\n    </tr>\n  </thead>\n  <tbody>\n    <tr>\n      <th>14600</th>\n      <td>DC10</td>\n      <td>DC38</td>\n      <td>2021-01-01</td>\n      <td>15.0</td>\n    </tr>\n    <tr>\n      <th>14601</th>\n      <td>DC10</td>\n      <td>DC38</td>\n      <td>2021-01-02</td>\n      <td>15.0</td>\n    </tr>\n    <tr>\n      <th>14602</th>\n      <td>DC10</td>\n      <td>DC38</td>\n      <td>2021-01-03</td>\n      <td>15.0</td>\n    </tr>\n    <tr>\n      <th>14603</th>\n      <td>DC10</td>\n      <td>DC38</td>\n      <td>2021-01-04</td>\n      <td>15.0</td>\n    </tr>\n    <tr>\n      <th>14604</th>\n      <td>DC10</td>\n      <td>DC38</td>\n      <td>2021-01-05</td>\n      <td>15.0</td>\n    </tr>\n    <tr>\n      <th>...</th>\n      <td>...</td>\n      <td>...</td>\n      <td>...</td>\n      <td>...</td>\n    </tr>\n    <tr>\n      <th>15325</th>\n      <td>DC10</td>\n      <td>DC38</td>\n      <td>2022-12-27</td>\n      <td>8.0</td>\n    </tr>\n    <tr>\n      <th>15326</th>\n      <td>DC10</td>\n      <td>DC38</td>\n      <td>2022-12-28</td>\n      <td>8.0</td>\n    </tr>\n    <tr>\n      <th>15327</th>\n      <td>DC10</td>\n      <td>DC38</td>\n      <td>2022-12-29</td>\n      <td>8.0</td>\n    </tr>\n    <tr>\n      <th>15328</th>\n      <td>DC10</td>\n      <td>DC38</td>\n      <td>2022-12-30</td>\n      <td>8.0</td>\n    </tr>\n    <tr>\n      <th>15329</th>\n      <td>DC10</td>\n      <td>DC38</td>\n      <td>2022-12-31</td>\n      <td>8.0</td>\n    </tr>\n  </tbody>\n</table>\n<p>730 rows × 4 columns</p>\n</div>"
     },
     "execution_count": 11,
     "metadata": {},
     "output_type": "execute_result"
    }
   ],
   "source": [
    "grouped_df[gpKeys.index(('DC10', 'DC38'))]"
   ],
   "metadata": {
    "collapsed": false,
    "ExecuteTime": {
     "start_time": "2023-04-16T10:27:42.087274Z",
     "end_time": "2023-04-16T10:27:42.102275Z"
    }
   }
  },
  {
   "cell_type": "code",
   "execution_count": 12,
   "outputs": [
    {
     "data": {
      "text/plain": "   场地1  场地2          日期   货量\n0  DC1  DC8  2021-01-01  3.0\n1  DC1  DC8  2021-01-02  3.0\n2  DC1  DC8  2021-01-03  3.0\n3  DC1  DC8  2021-01-04  3.0\n4  DC1  DC8  2021-01-05  3.0",
      "text/html": "<div>\n<style scoped>\n    .dataframe tbody tr th:only-of-type {\n        vertical-align: middle;\n    }\n\n    .dataframe tbody tr th {\n        vertical-align: top;\n    }\n\n    .dataframe thead th {\n        text-align: right;\n    }\n</style>\n<table border=\"1\" class=\"dataframe\">\n  <thead>\n    <tr style=\"text-align: right;\">\n      <th></th>\n      <th>场地1</th>\n      <th>场地2</th>\n      <th>日期</th>\n      <th>货量</th>\n    </tr>\n  </thead>\n  <tbody>\n    <tr>\n      <th>0</th>\n      <td>DC1</td>\n      <td>DC8</td>\n      <td>2021-01-01</td>\n      <td>3.0</td>\n    </tr>\n    <tr>\n      <th>1</th>\n      <td>DC1</td>\n      <td>DC8</td>\n      <td>2021-01-02</td>\n      <td>3.0</td>\n    </tr>\n    <tr>\n      <th>2</th>\n      <td>DC1</td>\n      <td>DC8</td>\n      <td>2021-01-03</td>\n      <td>3.0</td>\n    </tr>\n    <tr>\n      <th>3</th>\n      <td>DC1</td>\n      <td>DC8</td>\n      <td>2021-01-04</td>\n      <td>3.0</td>\n    </tr>\n    <tr>\n      <th>4</th>\n      <td>DC1</td>\n      <td>DC8</td>\n      <td>2021-01-05</td>\n      <td>3.0</td>\n    </tr>\n  </tbody>\n</table>\n</div>"
     },
     "execution_count": 12,
     "metadata": {},
     "output_type": "execute_result"
    }
   ],
   "source": [
    "completeDf = pd.concat([i for i in grouped_df], ignore_index=True)\n",
    "completeDf.head()"
   ],
   "metadata": {
    "collapsed": false,
    "ExecuteTime": {
     "start_time": "2023-04-16T10:27:42.102275Z",
     "end_time": "2023-04-16T10:27:42.229914Z"
    }
   }
  },
  {
   "cell_type": "code",
   "execution_count": 13,
   "outputs": [
    {
     "data": {
      "text/plain": "日期   场地1   场地2  2021-01-01  2021-01-02  2021-01-03  2021-01-04  2021-01-05   \n0    DC1   DC8         3.0         3.0         3.0         3.0         3.0  \\\n1   DC10  DC12       306.0       328.0       163.0       193.0       565.0   \n2   DC10  DC13         4.0         4.0         4.0         4.0         4.0   \n3   DC10  DC14      2613.0      2941.0      5968.0      4459.0      7646.0   \n4   DC10  DC17         5.0         5.0         5.0         5.0         5.0   \n\n日期  2021-01-06  2021-01-07  2021-01-08  ...  2022-12-22  2022-12-23   \n0          3.0         3.0         3.0  ...         3.0         3.0  \\\n1        964.0       623.0       284.0  ...        73.0        73.0   \n2          4.0         4.0         4.0  ...         2.0         2.0   \n3       5106.0      7155.0      5939.0  ...      8663.0      9818.0   \n4          5.0         5.0         5.0  ...         2.0         2.0   \n\n日期  2022-12-24  2022-12-25  2022-12-26  2022-12-27  2022-12-28  2022-12-29   \n0          3.0         3.0         3.0         3.0         3.0         3.0  \\\n1         73.0        73.0        73.0        73.0        73.0        73.0   \n2          2.0         2.0         2.0         2.0         2.0         2.0   \n3      12248.0     13255.0      9896.0     15492.0      8230.0     29021.0   \n4          2.0         2.0         2.0         2.0         2.0         2.0   \n\n日期  2022-12-30  2022-12-31  \n0          3.0         3.0  \n1         73.0        73.0  \n2          2.0         2.0  \n3       9991.0     13254.0  \n4          2.0         2.0  \n\n[5 rows x 732 columns]",
      "text/html": "<div>\n<style scoped>\n    .dataframe tbody tr th:only-of-type {\n        vertical-align: middle;\n    }\n\n    .dataframe tbody tr th {\n        vertical-align: top;\n    }\n\n    .dataframe thead th {\n        text-align: right;\n    }\n</style>\n<table border=\"1\" class=\"dataframe\">\n  <thead>\n    <tr style=\"text-align: right;\">\n      <th>日期</th>\n      <th>场地1</th>\n      <th>场地2</th>\n      <th>2021-01-01</th>\n      <th>2021-01-02</th>\n      <th>2021-01-03</th>\n      <th>2021-01-04</th>\n      <th>2021-01-05</th>\n      <th>2021-01-06</th>\n      <th>2021-01-07</th>\n      <th>2021-01-08</th>\n      <th>...</th>\n      <th>2022-12-22</th>\n      <th>2022-12-23</th>\n      <th>2022-12-24</th>\n      <th>2022-12-25</th>\n      <th>2022-12-26</th>\n      <th>2022-12-27</th>\n      <th>2022-12-28</th>\n      <th>2022-12-29</th>\n      <th>2022-12-30</th>\n      <th>2022-12-31</th>\n    </tr>\n  </thead>\n  <tbody>\n    <tr>\n      <th>0</th>\n      <td>DC1</td>\n      <td>DC8</td>\n      <td>3.0</td>\n      <td>3.0</td>\n      <td>3.0</td>\n      <td>3.0</td>\n      <td>3.0</td>\n      <td>3.0</td>\n      <td>3.0</td>\n      <td>3.0</td>\n      <td>...</td>\n      <td>3.0</td>\n      <td>3.0</td>\n      <td>3.0</td>\n      <td>3.0</td>\n      <td>3.0</td>\n      <td>3.0</td>\n      <td>3.0</td>\n      <td>3.0</td>\n      <td>3.0</td>\n      <td>3.0</td>\n    </tr>\n    <tr>\n      <th>1</th>\n      <td>DC10</td>\n      <td>DC12</td>\n      <td>306.0</td>\n      <td>328.0</td>\n      <td>163.0</td>\n      <td>193.0</td>\n      <td>565.0</td>\n      <td>964.0</td>\n      <td>623.0</td>\n      <td>284.0</td>\n      <td>...</td>\n      <td>73.0</td>\n      <td>73.0</td>\n      <td>73.0</td>\n      <td>73.0</td>\n      <td>73.0</td>\n      <td>73.0</td>\n      <td>73.0</td>\n      <td>73.0</td>\n      <td>73.0</td>\n      <td>73.0</td>\n    </tr>\n    <tr>\n      <th>2</th>\n      <td>DC10</td>\n      <td>DC13</td>\n      <td>4.0</td>\n      <td>4.0</td>\n      <td>4.0</td>\n      <td>4.0</td>\n      <td>4.0</td>\n      <td>4.0</td>\n      <td>4.0</td>\n      <td>4.0</td>\n      <td>...</td>\n      <td>2.0</td>\n      <td>2.0</td>\n      <td>2.0</td>\n      <td>2.0</td>\n      <td>2.0</td>\n      <td>2.0</td>\n      <td>2.0</td>\n      <td>2.0</td>\n      <td>2.0</td>\n      <td>2.0</td>\n    </tr>\n    <tr>\n      <th>3</th>\n      <td>DC10</td>\n      <td>DC14</td>\n      <td>2613.0</td>\n      <td>2941.0</td>\n      <td>5968.0</td>\n      <td>4459.0</td>\n      <td>7646.0</td>\n      <td>5106.0</td>\n      <td>7155.0</td>\n      <td>5939.0</td>\n      <td>...</td>\n      <td>8663.0</td>\n      <td>9818.0</td>\n      <td>12248.0</td>\n      <td>13255.0</td>\n      <td>9896.0</td>\n      <td>15492.0</td>\n      <td>8230.0</td>\n      <td>29021.0</td>\n      <td>9991.0</td>\n      <td>13254.0</td>\n    </tr>\n    <tr>\n      <th>4</th>\n      <td>DC10</td>\n      <td>DC17</td>\n      <td>5.0</td>\n      <td>5.0</td>\n      <td>5.0</td>\n      <td>5.0</td>\n      <td>5.0</td>\n      <td>5.0</td>\n      <td>5.0</td>\n      <td>5.0</td>\n      <td>...</td>\n      <td>2.0</td>\n      <td>2.0</td>\n      <td>2.0</td>\n      <td>2.0</td>\n      <td>2.0</td>\n      <td>2.0</td>\n      <td>2.0</td>\n      <td>2.0</td>\n      <td>2.0</td>\n      <td>2.0</td>\n    </tr>\n  </tbody>\n</table>\n<p>5 rows × 732 columns</p>\n</div>"
     },
     "execution_count": 13,
     "metadata": {},
     "output_type": "execute_result"
    }
   ],
   "source": [
    "completeDf = pd.pivot_table(completeDf, values='货量', index=['场地1', '场地2'], columns='日期').reset_index()\n",
    "completeDf.sort_values(by=['场地1', '场地2'])\n",
    "completeDf.head()"
   ],
   "metadata": {
    "collapsed": false,
    "ExecuteTime": {
     "start_time": "2023-04-16T10:27:42.229914Z",
     "end_time": "2023-04-16T10:27:42.555748Z"
    }
   }
  },
  {
   "cell_type": "code",
   "execution_count": 14,
   "outputs": [],
   "source": [
    "completeDf.to_excel('左侧填充-物流网络历史货量数据.xlsx', index=False)"
   ],
   "metadata": {
    "collapsed": false,
    "ExecuteTime": {
     "start_time": "2023-04-16T10:27:42.557743Z",
     "end_time": "2023-04-16T10:27:52.664281Z"
    }
   }
  }
 ],
 "metadata": {
  "kernelspec": {
   "display_name": "Python 3",
   "language": "python",
   "name": "python3"
  },
  "language_info": {
   "codemirror_mode": {
    "name": "ipython",
    "version": 2
   },
   "file_extension": ".py",
   "mimetype": "text/x-python",
   "name": "python",
   "nbconvert_exporter": "python",
   "pygments_lexer": "ipython2",
   "version": "2.7.6"
  }
 },
 "nbformat": 4,
 "nbformat_minor": 0
}
