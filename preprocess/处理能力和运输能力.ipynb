{
 "cells": [
  {
   "cell_type": "code",
   "execution_count": 1,
   "metadata": {
    "collapsed": true,
    "ExecuteTime": {
     "start_time": "2023-04-16T15:20:41.282934Z",
     "end_time": "2023-04-16T15:20:41.297872Z"
    }
   },
   "outputs": [],
   "source": [
    "import pandas as pd\n",
    "import numpy as np"
   ]
  },
  {
   "cell_type": "code",
   "execution_count": 2,
   "outputs": [
    {
     "name": "stdout",
     "output_type": "stream",
     "text": [
      "         场地1   场地2          日期    货量\n",
      "0        DC1   DC8  2021-01-01     3\n",
      "1       DC10  DC12  2021-01-01   306\n",
      "2       DC10  DC13  2021-01-01     4\n",
      "3       DC10  DC14  2021-01-01  2613\n",
      "4       DC10  DC17  2021-01-01     5\n",
      "...      ...   ...         ...   ...\n",
      "765765   DC9  DC58  2022-12-31     1\n",
      "765766   DC9  DC62  2022-12-31     2\n",
      "765767   DC9  DC67  2022-12-31     1\n",
      "765768   DC9  DC79  2022-12-31     2\n",
      "765769   DC9   DC8  2022-12-31     5\n",
      "\n",
      "[765770 rows x 4 columns]\n"
     ]
    }
   ],
   "source": [
    "dfPivot = pd.read_excel('左侧填充-物流网络历史货量数据.xlsx')\n",
    "dfMelt = pd.melt(dfPivot, id_vars=['场地1', '场地2'], var_name='日期', value_name='货量')\n",
    "print(dfMelt)"
   ],
   "metadata": {
    "collapsed": false,
    "ExecuteTime": {
     "start_time": "2023-04-16T15:20:41.297872Z",
     "end_time": "2023-04-16T15:20:49.683860Z"
    }
   }
  },
  {
   "cell_type": "code",
   "execution_count": 34,
   "outputs": [
    {
     "name": "stdout",
     "output_type": "stream",
     "text": [
      "       场地1   场地2       货量\n",
      "0      DC1   DC8     2190\n",
      "1     DC10  DC12   105223\n",
      "2     DC10  DC13     1581\n",
      "3     DC10  DC14  5752073\n",
      "4     DC10  DC17     1740\n",
      "...    ...   ...      ...\n",
      "1044   DC9  DC58      730\n",
      "1045   DC9  DC62     1460\n",
      "1046   DC9  DC67     1451\n",
      "1047   DC9  DC79     1460\n",
      "1048   DC9   DC8     6032\n",
      "\n",
      "[1049 rows x 3 columns]\n"
     ]
    }
   ],
   "source": [
    "# 每条线路运输能力\n",
    "total = dfMelt.groupby(['场地1', '场地2']).sum()\n",
    "total = total.drop('日期', axis=1).reset_index()\n",
    "print(total)\n",
    "total.to_excel('线路运输能力.xlsx', sheet_name='线路运输能力', index=False)"
   ],
   "metadata": {
    "collapsed": false,
    "ExecuteTime": {
     "start_time": "2023-04-16T15:26:50.598419Z",
     "end_time": "2023-04-16T15:26:50.957422Z"
    }
   }
  },
  {
   "cell_type": "code",
   "execution_count": 49,
   "outputs": [
    {
     "name": "stdout",
     "output_type": "stream",
     "text": [
      "      场地         货量\n",
      "0    DC1       2190\n",
      "1   DC10  266425110\n",
      "2   DC11    1486273\n",
      "3   DC12    7347247\n",
      "4   DC13      33747\n",
      "..   ...        ...\n",
      "76  DC79       1460\n",
      "77   DC8  192399319\n",
      "78  DC80        730\n",
      "79  DC81    4557073\n",
      "80   DC9   71361812\n",
      "\n",
      "[81 rows x 2 columns]\n"
     ]
    }
   ],
   "source": [
    "# 每个场地处理能力\n",
    "total1 = dfMelt.groupby(['场地1']).sum()\n",
    "total1 = total1.drop(['日期', '场地2'], axis=1).reset_index()\n",
    "total1.columns = ['场地', '货量']\n",
    "# print(total1)\n",
    "total2 = dfMelt.groupby(['场地2']).sum()\n",
    "total2 = total2.drop(['日期', '场地1'], axis=1).reset_index()\n",
    "total2.columns = ['场地', '货量']\n",
    "# print(total2)\n",
    "\n",
    "stationTotal = pd.concat([total1, total2]).groupby(['场地']).sum().reset_index()\n",
    "print(stationTotal)\n",
    "stationTotal.to_excel('场地处理能力.xlsx', sheet_name='场地处理能力', index=False)"
   ],
   "metadata": {
    "collapsed": false,
    "ExecuteTime": {
     "start_time": "2023-04-16T15:42:09.847741Z",
     "end_time": "2023-04-16T15:42:18.308799Z"
    }
   }
  },
  {
   "cell_type": "code",
   "execution_count": null,
   "outputs": [],
   "source": [],
   "metadata": {
    "collapsed": false
   }
  }
 ],
 "metadata": {
  "kernelspec": {
   "display_name": "Python 3",
   "language": "python",
   "name": "python3"
  },
  "language_info": {
   "codemirror_mode": {
    "name": "ipython",
    "version": 2
   },
   "file_extension": ".py",
   "mimetype": "text/x-python",
   "name": "python",
   "nbconvert_exporter": "python",
   "pygments_lexer": "ipython2",
   "version": "2.7.6"
  }
 },
 "nbformat": 4,
 "nbformat_minor": 0
}
