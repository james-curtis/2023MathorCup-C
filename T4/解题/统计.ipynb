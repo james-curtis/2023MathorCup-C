{
 "cells": [
  {
   "cell_type": "code",
   "execution_count": null,
   "metadata": {
    "collapsed": true
   },
   "outputs": [],
   "source": []
  },
  {
   "cell_type": "code",
   "execution_count": 6,
   "outputs": [
    {
     "name": "stdout",
     "output_type": "stream",
     "text": [
      "[1.1768990208796613, 0.3131692958287183, -0.11951009677766461, -0.3705582199307149]\n"
     ]
    }
   ],
   "source": [
    "import numpy as np\n",
    "from scipy.stats import entropy\n",
    "import seaborn as sns\n",
    "import matplotlib.pyplot as plt\n",
    "\n",
    "def entropy_weights(data):\n",
    "    # 计算每个特征的熵值\n",
    "    entropies = [entropy(col) for col in data.T]\n",
    "\n",
    "    # 计算每个特征的权重\n",
    "    weights = [(1-e)/sum(1-np.array(entropies)) for e in entropies]\n",
    "\n",
    "    return weights\n",
    "\n",
    "# 示例数据集\n",
    "data = np.array([\n",
    "    [1, 2, 3, 4],\n",
    "    [4, 5, 6, 7],\n",
    "    [7, 8, 9, 10]\n",
    "])\n",
    "\n",
    "# 计算特征的权重\n",
    "weights = entropy_weights(data)\n",
    "print(weights)"
   ],
   "metadata": {
    "collapsed": false,
    "ExecuteTime": {
     "start_time": "2023-04-17T04:49:06.123451Z",
     "end_time": "2023-04-17T04:49:06.133455Z"
    }
   }
  },
  {
   "cell_type": "code",
   "execution_count": null,
   "outputs": [],
   "source": [],
   "metadata": {
    "collapsed": false
   }
  }
 ],
 "metadata": {
  "kernelspec": {
   "display_name": "Python 3",
   "language": "python",
   "name": "python3"
  },
  "language_info": {
   "codemirror_mode": {
    "name": "ipython",
    "version": 2
   },
   "file_extension": ".py",
   "mimetype": "text/x-python",
   "name": "python",
   "nbconvert_exporter": "python",
   "pygments_lexer": "ipython2",
   "version": "2.7.6"
  }
 },
 "nbformat": 4,
 "nbformat_minor": 0
}
