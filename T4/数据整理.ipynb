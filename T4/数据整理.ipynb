{
 "cells": [
  {
   "cell_type": "code",
   "execution_count": 56,
   "metadata": {
    "collapsed": true,
    "ExecuteTime": {
     "start_time": "2023-04-17T04:40:08.651889Z",
     "end_time": "2023-04-17T04:40:08.657893Z"
    }
   },
   "outputs": [],
   "source": [
    "import numpy as np\n",
    "import pandas as pd\n"
   ]
  },
  {
   "cell_type": "code",
   "execution_count": 66,
   "outputs": [
    {
     "data": {
      "text/plain": "      场地1  场地2  2021-01-01  2021-01-02  2021-01-03  2021-01-04  2021-01-05   \n0       1    8           3           3           3           3           3  \\\n1       2    3           9           9           9           9           9   \n2       2    4           2           2           2           2           2   \n3       2    5           6           6           6           6           6   \n4       2    8           2           2           2           2           2   \n...   ...  ...         ...         ...         ...         ...         ...   \n1044   76    8           4           4           4           4           4   \n1045   76   10           3           3           3           3           3   \n1046   76   14           2           2           2           2           2   \n1047   76   62           2           2           2           2           2   \n1048   77    6           2           2           2           2           2   \n\n      2021-01-06  2021-01-07  2021-01-08  ...  2022-12-22  2022-12-23   \n0              3           3           3  ...           3           3  \\\n1              9           9           9  ...           1           1   \n2              2           2           2  ...           2           2   \n3              6           6           6  ...          11          11   \n4              2           2           2  ...           2           2   \n...          ...         ...         ...  ...         ...         ...   \n1044           4           4           4  ...           4           4   \n1045           3           3           3  ...           4           4   \n1046           2           2           2  ...           1           1   \n1047           2           2           2  ...           1           1   \n1048           2           2           2  ...           2           2   \n\n      2022-12-24  2022-12-25  2022-12-26  2022-12-27  2022-12-28  2022-12-29   \n0              3           3           3           3           3           3  \\\n1              1           1           1           1           1           1   \n2              2           2           2           2           2           2   \n3             11          11          11          11          11          11   \n4              2           2           2           2           2           2   \n...          ...         ...         ...         ...         ...         ...   \n1044           4           4           4           4           4           4   \n1045           4           4           4           4           4           4   \n1046           1           1           1           1           1           1   \n1047           1           1           1           1           1           1   \n1048           2           2           2           2           2           2   \n\n      2022-12-30  2022-12-31  \n0              3           3  \n1              1           1  \n2              2           2  \n3             11          11  \n4              2           2  \n...          ...         ...  \n1044           4           4  \n1045           4           4  \n1046           1           1  \n1047           1           1  \n1048           2           2  \n\n[1049 rows x 732 columns]",
      "text/html": "<div>\n<style scoped>\n    .dataframe tbody tr th:only-of-type {\n        vertical-align: middle;\n    }\n\n    .dataframe tbody tr th {\n        vertical-align: top;\n    }\n\n    .dataframe thead th {\n        text-align: right;\n    }\n</style>\n<table border=\"1\" class=\"dataframe\">\n  <thead>\n    <tr style=\"text-align: right;\">\n      <th></th>\n      <th>场地1</th>\n      <th>场地2</th>\n      <th>2021-01-01</th>\n      <th>2021-01-02</th>\n      <th>2021-01-03</th>\n      <th>2021-01-04</th>\n      <th>2021-01-05</th>\n      <th>2021-01-06</th>\n      <th>2021-01-07</th>\n      <th>2021-01-08</th>\n      <th>...</th>\n      <th>2022-12-22</th>\n      <th>2022-12-23</th>\n      <th>2022-12-24</th>\n      <th>2022-12-25</th>\n      <th>2022-12-26</th>\n      <th>2022-12-27</th>\n      <th>2022-12-28</th>\n      <th>2022-12-29</th>\n      <th>2022-12-30</th>\n      <th>2022-12-31</th>\n    </tr>\n  </thead>\n  <tbody>\n    <tr>\n      <th>0</th>\n      <td>1</td>\n      <td>8</td>\n      <td>3</td>\n      <td>3</td>\n      <td>3</td>\n      <td>3</td>\n      <td>3</td>\n      <td>3</td>\n      <td>3</td>\n      <td>3</td>\n      <td>...</td>\n      <td>3</td>\n      <td>3</td>\n      <td>3</td>\n      <td>3</td>\n      <td>3</td>\n      <td>3</td>\n      <td>3</td>\n      <td>3</td>\n      <td>3</td>\n      <td>3</td>\n    </tr>\n    <tr>\n      <th>1</th>\n      <td>2</td>\n      <td>3</td>\n      <td>9</td>\n      <td>9</td>\n      <td>9</td>\n      <td>9</td>\n      <td>9</td>\n      <td>9</td>\n      <td>9</td>\n      <td>9</td>\n      <td>...</td>\n      <td>1</td>\n      <td>1</td>\n      <td>1</td>\n      <td>1</td>\n      <td>1</td>\n      <td>1</td>\n      <td>1</td>\n      <td>1</td>\n      <td>1</td>\n      <td>1</td>\n    </tr>\n    <tr>\n      <th>2</th>\n      <td>2</td>\n      <td>4</td>\n      <td>2</td>\n      <td>2</td>\n      <td>2</td>\n      <td>2</td>\n      <td>2</td>\n      <td>2</td>\n      <td>2</td>\n      <td>2</td>\n      <td>...</td>\n      <td>2</td>\n      <td>2</td>\n      <td>2</td>\n      <td>2</td>\n      <td>2</td>\n      <td>2</td>\n      <td>2</td>\n      <td>2</td>\n      <td>2</td>\n      <td>2</td>\n    </tr>\n    <tr>\n      <th>3</th>\n      <td>2</td>\n      <td>5</td>\n      <td>6</td>\n      <td>6</td>\n      <td>6</td>\n      <td>6</td>\n      <td>6</td>\n      <td>6</td>\n      <td>6</td>\n      <td>6</td>\n      <td>...</td>\n      <td>11</td>\n      <td>11</td>\n      <td>11</td>\n      <td>11</td>\n      <td>11</td>\n      <td>11</td>\n      <td>11</td>\n      <td>11</td>\n      <td>11</td>\n      <td>11</td>\n    </tr>\n    <tr>\n      <th>4</th>\n      <td>2</td>\n      <td>8</td>\n      <td>2</td>\n      <td>2</td>\n      <td>2</td>\n      <td>2</td>\n      <td>2</td>\n      <td>2</td>\n      <td>2</td>\n      <td>2</td>\n      <td>...</td>\n      <td>2</td>\n      <td>2</td>\n      <td>2</td>\n      <td>2</td>\n      <td>2</td>\n      <td>2</td>\n      <td>2</td>\n      <td>2</td>\n      <td>2</td>\n      <td>2</td>\n    </tr>\n    <tr>\n      <th>...</th>\n      <td>...</td>\n      <td>...</td>\n      <td>...</td>\n      <td>...</td>\n      <td>...</td>\n      <td>...</td>\n      <td>...</td>\n      <td>...</td>\n      <td>...</td>\n      <td>...</td>\n      <td>...</td>\n      <td>...</td>\n      <td>...</td>\n      <td>...</td>\n      <td>...</td>\n      <td>...</td>\n      <td>...</td>\n      <td>...</td>\n      <td>...</td>\n      <td>...</td>\n      <td>...</td>\n    </tr>\n    <tr>\n      <th>1044</th>\n      <td>76</td>\n      <td>8</td>\n      <td>4</td>\n      <td>4</td>\n      <td>4</td>\n      <td>4</td>\n      <td>4</td>\n      <td>4</td>\n      <td>4</td>\n      <td>4</td>\n      <td>...</td>\n      <td>4</td>\n      <td>4</td>\n      <td>4</td>\n      <td>4</td>\n      <td>4</td>\n      <td>4</td>\n      <td>4</td>\n      <td>4</td>\n      <td>4</td>\n      <td>4</td>\n    </tr>\n    <tr>\n      <th>1045</th>\n      <td>76</td>\n      <td>10</td>\n      <td>3</td>\n      <td>3</td>\n      <td>3</td>\n      <td>3</td>\n      <td>3</td>\n      <td>3</td>\n      <td>3</td>\n      <td>3</td>\n      <td>...</td>\n      <td>4</td>\n      <td>4</td>\n      <td>4</td>\n      <td>4</td>\n      <td>4</td>\n      <td>4</td>\n      <td>4</td>\n      <td>4</td>\n      <td>4</td>\n      <td>4</td>\n    </tr>\n    <tr>\n      <th>1046</th>\n      <td>76</td>\n      <td>14</td>\n      <td>2</td>\n      <td>2</td>\n      <td>2</td>\n      <td>2</td>\n      <td>2</td>\n      <td>2</td>\n      <td>2</td>\n      <td>2</td>\n      <td>...</td>\n      <td>1</td>\n      <td>1</td>\n      <td>1</td>\n      <td>1</td>\n      <td>1</td>\n      <td>1</td>\n      <td>1</td>\n      <td>1</td>\n      <td>1</td>\n      <td>1</td>\n    </tr>\n    <tr>\n      <th>1047</th>\n      <td>76</td>\n      <td>62</td>\n      <td>2</td>\n      <td>2</td>\n      <td>2</td>\n      <td>2</td>\n      <td>2</td>\n      <td>2</td>\n      <td>2</td>\n      <td>2</td>\n      <td>...</td>\n      <td>1</td>\n      <td>1</td>\n      <td>1</td>\n      <td>1</td>\n      <td>1</td>\n      <td>1</td>\n      <td>1</td>\n      <td>1</td>\n      <td>1</td>\n      <td>1</td>\n    </tr>\n    <tr>\n      <th>1048</th>\n      <td>77</td>\n      <td>6</td>\n      <td>2</td>\n      <td>2</td>\n      <td>2</td>\n      <td>2</td>\n      <td>2</td>\n      <td>2</td>\n      <td>2</td>\n      <td>2</td>\n      <td>...</td>\n      <td>2</td>\n      <td>2</td>\n      <td>2</td>\n      <td>2</td>\n      <td>2</td>\n      <td>2</td>\n      <td>2</td>\n      <td>2</td>\n      <td>2</td>\n      <td>2</td>\n    </tr>\n  </tbody>\n</table>\n<p>1049 rows × 732 columns</p>\n</div>"
     },
     "execution_count": 66,
     "metadata": {},
     "output_type": "execute_result"
    }
   ],
   "source": [
    "rawDataDf = pd.read_excel('../preprocess/场地处理能力.xlsx')\n",
    "allDataDf = pd.read_excel('../preprocess/左侧填充-物流网络历史货量数据.xlsx')\n",
    "allDataDf"
   ],
   "metadata": {
    "collapsed": false,
    "ExecuteTime": {
     "start_time": "2023-04-17T04:41:59.339395Z",
     "end_time": "2023-04-17T04:42:06.994006Z"
    }
   }
  },
  {
   "cell_type": "code",
   "execution_count": 67,
   "outputs": [],
   "source": [
    "rawDataDf = rawDataDf.rename(columns={'货量': '处理能力'})"
   ],
   "metadata": {
    "collapsed": false,
    "ExecuteTime": {
     "start_time": "2023-04-17T04:42:06.994006Z",
     "end_time": "2023-04-17T04:42:07.011007Z"
    }
   }
  },
  {
   "cell_type": "code",
   "execution_count": 84,
   "outputs": [],
   "source": [
    "线路数量 = {}\n",
    "总接受货量 = {}\n",
    "总发出货量 = {}\n",
    "for 场地 in rawDataDf['场地']:\n",
    "    allDataDfMelt = pd.melt(allDataDf, id_vars=['场地1', '场地2'], value_name='货量', var_name='日期')\n",
    "    temp = allDataDf[(allDataDf['场地1'] == 场地) | (allDataDf['场地2'] == 场地)]\n",
    "    线路数量[场地] = len(temp)\n",
    "    sumTable = allDataDfMelt.groupby(['场地1', '场地2'])[['货量']].sum().reset_index()\n",
    "    总接受货量[场地] = sumTable[sumTable['场地2'] == 场地]\n",
    "    总接受货量[场地] = 0 if len(总接受货量[场地]) == 0 else 总接受货量[场地]['货量'].sum()\n",
    "\n",
    "    总发出货量[场地] = sumTable[sumTable['场地1'] == 场地]\n",
    "    总发出货量[场地] = 0 if len(总发出货量[场地]) == 0 else 总发出货量[场地]['货量'].sum()"
   ],
   "metadata": {
    "collapsed": false,
    "ExecuteTime": {
     "start_time": "2023-04-17T04:44:44.899945Z",
     "end_time": "2023-04-17T04:44:53.337229Z"
    }
   }
  },
  {
   "cell_type": "code",
   "execution_count": 85,
   "outputs": [],
   "source": [
    "rawDataDf = rawDataDf.set_index('场地')\n",
    "rawDataDf['线路数量'] = pd.Series(线路数量)\n",
    "rawDataDf['总接受货量'] = pd.Series(总接受货量)\n",
    "rawDataDf['总发出货量'] = pd.Series(总发出货量)"
   ],
   "metadata": {
    "collapsed": false,
    "ExecuteTime": {
     "start_time": "2023-04-17T04:44:53.339229Z",
     "end_time": "2023-04-17T04:44:53.352229Z"
    }
   }
  },
  {
   "cell_type": "code",
   "execution_count": 86,
   "outputs": [
    {
     "data": {
      "text/plain": "         处理能力  线路数量      总接受货量    总发出货量\n场地                                     \n1        2190     1          0     2190\n2       39873     8          0    39873\n3    43112783    79   42890584   222199\n4   226800525    86  224886151  1914374\n5    50764637    90   50353046   411591\n..        ...   ...        ...      ...\n77       1460     1          0     1460\n78       5548     3       5548        0\n79       1460     1       1460        0\n80        730     1        730        0\n81    4557073    22    4557073        0\n\n[81 rows x 4 columns]",
      "text/html": "<div>\n<style scoped>\n    .dataframe tbody tr th:only-of-type {\n        vertical-align: middle;\n    }\n\n    .dataframe tbody tr th {\n        vertical-align: top;\n    }\n\n    .dataframe thead th {\n        text-align: right;\n    }\n</style>\n<table border=\"1\" class=\"dataframe\">\n  <thead>\n    <tr style=\"text-align: right;\">\n      <th></th>\n      <th>处理能力</th>\n      <th>线路数量</th>\n      <th>总接受货量</th>\n      <th>总发出货量</th>\n    </tr>\n    <tr>\n      <th>场地</th>\n      <th></th>\n      <th></th>\n      <th></th>\n      <th></th>\n    </tr>\n  </thead>\n  <tbody>\n    <tr>\n      <th>1</th>\n      <td>2190</td>\n      <td>1</td>\n      <td>0</td>\n      <td>2190</td>\n    </tr>\n    <tr>\n      <th>2</th>\n      <td>39873</td>\n      <td>8</td>\n      <td>0</td>\n      <td>39873</td>\n    </tr>\n    <tr>\n      <th>3</th>\n      <td>43112783</td>\n      <td>79</td>\n      <td>42890584</td>\n      <td>222199</td>\n    </tr>\n    <tr>\n      <th>4</th>\n      <td>226800525</td>\n      <td>86</td>\n      <td>224886151</td>\n      <td>1914374</td>\n    </tr>\n    <tr>\n      <th>5</th>\n      <td>50764637</td>\n      <td>90</td>\n      <td>50353046</td>\n      <td>411591</td>\n    </tr>\n    <tr>\n      <th>...</th>\n      <td>...</td>\n      <td>...</td>\n      <td>...</td>\n      <td>...</td>\n    </tr>\n    <tr>\n      <th>77</th>\n      <td>1460</td>\n      <td>1</td>\n      <td>0</td>\n      <td>1460</td>\n    </tr>\n    <tr>\n      <th>78</th>\n      <td>5548</td>\n      <td>3</td>\n      <td>5548</td>\n      <td>0</td>\n    </tr>\n    <tr>\n      <th>79</th>\n      <td>1460</td>\n      <td>1</td>\n      <td>1460</td>\n      <td>0</td>\n    </tr>\n    <tr>\n      <th>80</th>\n      <td>730</td>\n      <td>1</td>\n      <td>730</td>\n      <td>0</td>\n    </tr>\n    <tr>\n      <th>81</th>\n      <td>4557073</td>\n      <td>22</td>\n      <td>4557073</td>\n      <td>0</td>\n    </tr>\n  </tbody>\n</table>\n<p>81 rows × 4 columns</p>\n</div>"
     },
     "execution_count": 86,
     "metadata": {},
     "output_type": "execute_result"
    }
   ],
   "source": [
    "rawDataDf"
   ],
   "metadata": {
    "collapsed": false,
    "ExecuteTime": {
     "start_time": "2023-04-17T04:44:53.352229Z",
     "end_time": "2023-04-17T04:44:53.369229Z"
    }
   }
  },
  {
   "cell_type": "code",
   "execution_count": 88,
   "outputs": [],
   "source": [
    "rawDataDf.to_excel('站点统计量.xlsx')"
   ],
   "metadata": {
    "collapsed": false,
    "ExecuteTime": {
     "start_time": "2023-04-17T04:45:52.372902Z",
     "end_time": "2023-04-17T04:45:52.408903Z"
    }
   }
  },
  {
   "cell_type": "code",
   "execution_count": 52,
   "outputs": [],
   "source": [],
   "metadata": {
    "collapsed": false,
    "ExecuteTime": {
     "start_time": "2023-04-17T04:34:25.871109Z",
     "end_time": "2023-04-17T04:34:25.925215Z"
    }
   }
  }
 ],
 "metadata": {
  "kernelspec": {
   "display_name": "Python 3",
   "language": "python",
   "name": "python3"
  },
  "language_info": {
   "codemirror_mode": {
    "name": "ipython",
    "version": 2
   },
   "file_extension": ".py",
   "mimetype": "text/x-python",
   "name": "python",
   "nbconvert_exporter": "python",
   "pygments_lexer": "ipython2",
   "version": "2.7.6"
  }
 },
 "nbformat": 4,
 "nbformat_minor": 0
}
