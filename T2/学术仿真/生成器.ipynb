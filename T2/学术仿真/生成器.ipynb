{
 "cells": [
  {
   "cell_type": "code",
   "execution_count": 1,
   "metadata": {
    "collapsed": true,
    "ExecuteTime": {
     "start_time": "2023-04-17T00:40:19.789125Z",
     "end_time": "2023-04-17T00:40:20.945123Z"
    }
   },
   "outputs": [],
   "source": [
    "import pandas as pd\n",
    "import numpy as np\n",
    "import geatpy as ea\n",
    "from multiprocessing import Pool as ProcessPool\n",
    "import multiprocessing as mp\n",
    "from multiprocessing.dummy import Pool as ThreadPool"
   ]
  },
  {
   "cell_type": "code",
   "execution_count": 2,
   "outputs": [
    {
     "name": "stdout",
     "output_type": "stream",
     "text": [
      "总线路数量：1049\n",
      "场地1     int64\n",
      "场地2     int64\n",
      "日期     object\n",
      "货量      int64\n",
      "dtype: object\n"
     ]
    },
    {
     "data": {
      "text/plain": "       场地1  场地2          日期  货量\n0        1    8  2023-01-01   3\n1        2    3  2023-01-01   1\n2        2    4  2023-01-01   2\n3        2    5  2023-01-01  10\n4        2    8  2023-01-01   2\n...    ...  ...         ...  ..\n32514   76    8  2023-01-31  15\n32515   76   10  2023-01-31  13\n32516   76   14  2023-01-31   1\n32517   76   62  2023-01-31   4\n32518   77    6  2023-01-31   7\n\n[32519 rows x 4 columns]",
      "text/html": "<div>\n<style scoped>\n    .dataframe tbody tr th:only-of-type {\n        vertical-align: middle;\n    }\n\n    .dataframe tbody tr th {\n        vertical-align: top;\n    }\n\n    .dataframe thead th {\n        text-align: right;\n    }\n</style>\n<table border=\"1\" class=\"dataframe\">\n  <thead>\n    <tr style=\"text-align: right;\">\n      <th></th>\n      <th>场地1</th>\n      <th>场地2</th>\n      <th>日期</th>\n      <th>货量</th>\n    </tr>\n  </thead>\n  <tbody>\n    <tr>\n      <th>0</th>\n      <td>1</td>\n      <td>8</td>\n      <td>2023-01-01</td>\n      <td>3</td>\n    </tr>\n    <tr>\n      <th>1</th>\n      <td>2</td>\n      <td>3</td>\n      <td>2023-01-01</td>\n      <td>1</td>\n    </tr>\n    <tr>\n      <th>2</th>\n      <td>2</td>\n      <td>4</td>\n      <td>2023-01-01</td>\n      <td>2</td>\n    </tr>\n    <tr>\n      <th>3</th>\n      <td>2</td>\n      <td>5</td>\n      <td>2023-01-01</td>\n      <td>10</td>\n    </tr>\n    <tr>\n      <th>4</th>\n      <td>2</td>\n      <td>8</td>\n      <td>2023-01-01</td>\n      <td>2</td>\n    </tr>\n    <tr>\n      <th>...</th>\n      <td>...</td>\n      <td>...</td>\n      <td>...</td>\n      <td>...</td>\n    </tr>\n    <tr>\n      <th>32514</th>\n      <td>76</td>\n      <td>8</td>\n      <td>2023-01-31</td>\n      <td>15</td>\n    </tr>\n    <tr>\n      <th>32515</th>\n      <td>76</td>\n      <td>10</td>\n      <td>2023-01-31</td>\n      <td>13</td>\n    </tr>\n    <tr>\n      <th>32516</th>\n      <td>76</td>\n      <td>14</td>\n      <td>2023-01-31</td>\n      <td>1</td>\n    </tr>\n    <tr>\n      <th>32517</th>\n      <td>76</td>\n      <td>62</td>\n      <td>2023-01-31</td>\n      <td>4</td>\n    </tr>\n    <tr>\n      <th>32518</th>\n      <td>77</td>\n      <td>6</td>\n      <td>2023-01-31</td>\n      <td>7</td>\n    </tr>\n  </tbody>\n</table>\n<p>32519 rows × 4 columns</p>\n</div>"
     },
     "execution_count": 2,
     "metadata": {},
     "output_type": "execute_result"
    }
   ],
   "source": [
    "场地处理能力df = pd.read_excel('../../preprocess/场地处理能力.xlsx')\n",
    "场地处理能力df.set_index('场地', inplace=True)\n",
    "线路运输能力df = pd.read_excel('../../preprocess/线路运输能力.xlsx')\n",
    "rawData = pd.read_excel('../../T1/解题/时间窗口为5-第一问结果LTSM-物流网络历史货量数据.xlsx')\n",
    "rawDataMelt = pd.melt(pd.merge(rawData.iloc[:, :2], rawData.iloc[:, -31:], left_index=True, right_index=True),\n",
    "                      id_vars=['场地1', '场地2'], value_name='货量', var_name='日期')\n",
    "totalEdgeLen = len(rawData)\n",
    "print(f'总线路数量：{totalEdgeLen}')\n",
    "print(rawDataMelt.dtypes)\n",
    "rawDataMelt"
   ],
   "metadata": {
    "collapsed": false,
    "ExecuteTime": {
     "start_time": "2023-04-17T00:40:26.724752Z",
     "end_time": "2023-04-17T00:40:35.342786Z"
    }
   }
  },
  {
   "cell_type": "code",
   "execution_count": 3,
   "outputs": [
    {
     "data": {
      "text/plain": "           货量\n场地1 场地2      \n1   8    2190\n2   3    4756\n    4    7252\n    5    3797\n    8    1604\n...       ...\n76  8    2920\n    10   2455\n    14   1175\n    62   1429\n77  6    1460\n\n[1049 rows x 1 columns]",
      "text/html": "<div>\n<style scoped>\n    .dataframe tbody tr th:only-of-type {\n        vertical-align: middle;\n    }\n\n    .dataframe tbody tr th {\n        vertical-align: top;\n    }\n\n    .dataframe thead th {\n        text-align: right;\n    }\n</style>\n<table border=\"1\" class=\"dataframe\">\n  <thead>\n    <tr style=\"text-align: right;\">\n      <th></th>\n      <th></th>\n      <th>货量</th>\n    </tr>\n    <tr>\n      <th>场地1</th>\n      <th>场地2</th>\n      <th></th>\n    </tr>\n  </thead>\n  <tbody>\n    <tr>\n      <th>1</th>\n      <th>8</th>\n      <td>2190</td>\n    </tr>\n    <tr>\n      <th rowspan=\"4\" valign=\"top\">2</th>\n      <th>3</th>\n      <td>4756</td>\n    </tr>\n    <tr>\n      <th>4</th>\n      <td>7252</td>\n    </tr>\n    <tr>\n      <th>5</th>\n      <td>3797</td>\n    </tr>\n    <tr>\n      <th>8</th>\n      <td>1604</td>\n    </tr>\n    <tr>\n      <th>...</th>\n      <th>...</th>\n      <td>...</td>\n    </tr>\n    <tr>\n      <th rowspan=\"4\" valign=\"top\">76</th>\n      <th>8</th>\n      <td>2920</td>\n    </tr>\n    <tr>\n      <th>10</th>\n      <td>2455</td>\n    </tr>\n    <tr>\n      <th>14</th>\n      <td>1175</td>\n    </tr>\n    <tr>\n      <th>62</th>\n      <td>1429</td>\n    </tr>\n    <tr>\n      <th>77</th>\n      <th>6</th>\n      <td>1460</td>\n    </tr>\n  </tbody>\n</table>\n<p>1049 rows × 1 columns</p>\n</div>"
     },
     "execution_count": 3,
     "metadata": {},
     "output_type": "execute_result"
    }
   ],
   "source": [
    "线路运输能力df = 线路运输能力df.set_index(['场地1', '场地2'])\n",
    "线路运输能力df\n"
   ],
   "metadata": {
    "collapsed": false,
    "ExecuteTime": {
     "start_time": "2023-04-17T00:40:35.342786Z",
     "end_time": "2023-04-17T00:40:35.357786Z"
    }
   }
  },
  {
   "cell_type": "code",
   "execution_count": 4,
   "outputs": [
    {
     "name": "stdout",
     "output_type": "stream",
     "text": [
      "3        2\n",
      "10       3\n",
      "27       4\n",
      "79       7\n",
      "93       8\n",
      "        ..\n",
      "999     71\n",
      "1011    72\n",
      "1020    73\n",
      "1035    74\n",
      "1043    76\n",
      "Name: 场地1, Length: 67, dtype: int64\n",
      "发送货物到DC5的路线数量：67\n"
     ]
    },
    {
     "data": {
      "text/plain": "      场地1  场地2  2021-01-01  2021-01-02  2021-01-03  2021-01-04  2021-01-05   \n1       2    3           9           9           9           9           9  \\\n2       2    4           2           2           2           2           2   \n3       2    5           6           6           6           6           6   \n4       2    8           2           2           2           2           2   \n5       2    9          33          33          33          33          33   \n...   ...  ...         ...         ...         ...         ...         ...   \n1043   76    5           3           3           3           3           3   \n1044   76    8           4           4           4           4           4   \n1045   76   10           3           3           3           3           3   \n1046   76   14           2           2           2           2           2   \n1047   76   62           2           2           2           2           2   \n\n      2021-01-06  2021-01-07  2021-01-08  ...  2023-01-22  2023-01-23   \n1              9           9           9  ...           3           4  \\\n2              2           2           2  ...           4           4   \n3              6           6           6  ...           6           6   \n4              2           2           2  ...           4           4   \n5             33          33          33  ...           5           5   \n...          ...         ...         ...  ...         ...         ...   \n1043           3           3           3  ...           4           5   \n1044           4           4           4  ...          11          11   \n1045           3           3           3  ...           9          10   \n1046           2           2           2  ...           1           1   \n1047           2           2           2  ...           3           3   \n\n      2023-01-24  2023-01-25  2023-01-26  2023-01-27  2023-01-28  2023-01-29   \n1              4           4           4           4           4           4  \\\n2              5           5           5           5           5           5   \n3              6           6           6           6           6           6   \n4              4           4           4           4           4           4   \n5              5           5           5           5           5           5   \n...          ...         ...         ...         ...         ...         ...   \n1043           5           5           6           6           6           7   \n1044          12          12          13          13          14          14   \n1045          10          11          11          12          12          13   \n1046           1           1           1           1           1           1   \n1047           3           3           3           3           4           4   \n\n      2023-01-30  2023-01-31  \n1              4           4  \n2              5           5  \n3              6           5  \n4              4           4  \n5              5           5  \n...          ...         ...  \n1043           7           8  \n1044          15          15  \n1045          13          13  \n1046           1           1  \n1047           4           4  \n\n[998 rows x 763 columns]",
      "text/html": "<div>\n<style scoped>\n    .dataframe tbody tr th:only-of-type {\n        vertical-align: middle;\n    }\n\n    .dataframe tbody tr th {\n        vertical-align: top;\n    }\n\n    .dataframe thead th {\n        text-align: right;\n    }\n</style>\n<table border=\"1\" class=\"dataframe\">\n  <thead>\n    <tr style=\"text-align: right;\">\n      <th></th>\n      <th>场地1</th>\n      <th>场地2</th>\n      <th>2021-01-01</th>\n      <th>2021-01-02</th>\n      <th>2021-01-03</th>\n      <th>2021-01-04</th>\n      <th>2021-01-05</th>\n      <th>2021-01-06</th>\n      <th>2021-01-07</th>\n      <th>2021-01-08</th>\n      <th>...</th>\n      <th>2023-01-22</th>\n      <th>2023-01-23</th>\n      <th>2023-01-24</th>\n      <th>2023-01-25</th>\n      <th>2023-01-26</th>\n      <th>2023-01-27</th>\n      <th>2023-01-28</th>\n      <th>2023-01-29</th>\n      <th>2023-01-30</th>\n      <th>2023-01-31</th>\n    </tr>\n  </thead>\n  <tbody>\n    <tr>\n      <th>1</th>\n      <td>2</td>\n      <td>3</td>\n      <td>9</td>\n      <td>9</td>\n      <td>9</td>\n      <td>9</td>\n      <td>9</td>\n      <td>9</td>\n      <td>9</td>\n      <td>9</td>\n      <td>...</td>\n      <td>3</td>\n      <td>4</td>\n      <td>4</td>\n      <td>4</td>\n      <td>4</td>\n      <td>4</td>\n      <td>4</td>\n      <td>4</td>\n      <td>4</td>\n      <td>4</td>\n    </tr>\n    <tr>\n      <th>2</th>\n      <td>2</td>\n      <td>4</td>\n      <td>2</td>\n      <td>2</td>\n      <td>2</td>\n      <td>2</td>\n      <td>2</td>\n      <td>2</td>\n      <td>2</td>\n      <td>2</td>\n      <td>...</td>\n      <td>4</td>\n      <td>4</td>\n      <td>5</td>\n      <td>5</td>\n      <td>5</td>\n      <td>5</td>\n      <td>5</td>\n      <td>5</td>\n      <td>5</td>\n      <td>5</td>\n    </tr>\n    <tr>\n      <th>3</th>\n      <td>2</td>\n      <td>5</td>\n      <td>6</td>\n      <td>6</td>\n      <td>6</td>\n      <td>6</td>\n      <td>6</td>\n      <td>6</td>\n      <td>6</td>\n      <td>6</td>\n      <td>...</td>\n      <td>6</td>\n      <td>6</td>\n      <td>6</td>\n      <td>6</td>\n      <td>6</td>\n      <td>6</td>\n      <td>6</td>\n      <td>6</td>\n      <td>6</td>\n      <td>5</td>\n    </tr>\n    <tr>\n      <th>4</th>\n      <td>2</td>\n      <td>8</td>\n      <td>2</td>\n      <td>2</td>\n      <td>2</td>\n      <td>2</td>\n      <td>2</td>\n      <td>2</td>\n      <td>2</td>\n      <td>2</td>\n      <td>...</td>\n      <td>4</td>\n      <td>4</td>\n      <td>4</td>\n      <td>4</td>\n      <td>4</td>\n      <td>4</td>\n      <td>4</td>\n      <td>4</td>\n      <td>4</td>\n      <td>4</td>\n    </tr>\n    <tr>\n      <th>5</th>\n      <td>2</td>\n      <td>9</td>\n      <td>33</td>\n      <td>33</td>\n      <td>33</td>\n      <td>33</td>\n      <td>33</td>\n      <td>33</td>\n      <td>33</td>\n      <td>33</td>\n      <td>...</td>\n      <td>5</td>\n      <td>5</td>\n      <td>5</td>\n      <td>5</td>\n      <td>5</td>\n      <td>5</td>\n      <td>5</td>\n      <td>5</td>\n      <td>5</td>\n      <td>5</td>\n    </tr>\n    <tr>\n      <th>...</th>\n      <td>...</td>\n      <td>...</td>\n      <td>...</td>\n      <td>...</td>\n      <td>...</td>\n      <td>...</td>\n      <td>...</td>\n      <td>...</td>\n      <td>...</td>\n      <td>...</td>\n      <td>...</td>\n      <td>...</td>\n      <td>...</td>\n      <td>...</td>\n      <td>...</td>\n      <td>...</td>\n      <td>...</td>\n      <td>...</td>\n      <td>...</td>\n      <td>...</td>\n      <td>...</td>\n    </tr>\n    <tr>\n      <th>1043</th>\n      <td>76</td>\n      <td>5</td>\n      <td>3</td>\n      <td>3</td>\n      <td>3</td>\n      <td>3</td>\n      <td>3</td>\n      <td>3</td>\n      <td>3</td>\n      <td>3</td>\n      <td>...</td>\n      <td>4</td>\n      <td>5</td>\n      <td>5</td>\n      <td>5</td>\n      <td>6</td>\n      <td>6</td>\n      <td>6</td>\n      <td>7</td>\n      <td>7</td>\n      <td>8</td>\n    </tr>\n    <tr>\n      <th>1044</th>\n      <td>76</td>\n      <td>8</td>\n      <td>4</td>\n      <td>4</td>\n      <td>4</td>\n      <td>4</td>\n      <td>4</td>\n      <td>4</td>\n      <td>4</td>\n      <td>4</td>\n      <td>...</td>\n      <td>11</td>\n      <td>11</td>\n      <td>12</td>\n      <td>12</td>\n      <td>13</td>\n      <td>13</td>\n      <td>14</td>\n      <td>14</td>\n      <td>15</td>\n      <td>15</td>\n    </tr>\n    <tr>\n      <th>1045</th>\n      <td>76</td>\n      <td>10</td>\n      <td>3</td>\n      <td>3</td>\n      <td>3</td>\n      <td>3</td>\n      <td>3</td>\n      <td>3</td>\n      <td>3</td>\n      <td>3</td>\n      <td>...</td>\n      <td>9</td>\n      <td>10</td>\n      <td>10</td>\n      <td>11</td>\n      <td>11</td>\n      <td>12</td>\n      <td>12</td>\n      <td>13</td>\n      <td>13</td>\n      <td>13</td>\n    </tr>\n    <tr>\n      <th>1046</th>\n      <td>76</td>\n      <td>14</td>\n      <td>2</td>\n      <td>2</td>\n      <td>2</td>\n      <td>2</td>\n      <td>2</td>\n      <td>2</td>\n      <td>2</td>\n      <td>2</td>\n      <td>...</td>\n      <td>1</td>\n      <td>1</td>\n      <td>1</td>\n      <td>1</td>\n      <td>1</td>\n      <td>1</td>\n      <td>1</td>\n      <td>1</td>\n      <td>1</td>\n      <td>1</td>\n    </tr>\n    <tr>\n      <th>1047</th>\n      <td>76</td>\n      <td>62</td>\n      <td>2</td>\n      <td>2</td>\n      <td>2</td>\n      <td>2</td>\n      <td>2</td>\n      <td>2</td>\n      <td>2</td>\n      <td>2</td>\n      <td>...</td>\n      <td>3</td>\n      <td>3</td>\n      <td>3</td>\n      <td>3</td>\n      <td>3</td>\n      <td>3</td>\n      <td>4</td>\n      <td>4</td>\n      <td>4</td>\n      <td>4</td>\n    </tr>\n  </tbody>\n</table>\n<p>998 rows × 763 columns</p>\n</div>"
     },
     "execution_count": 4,
     "metadata": {},
     "output_type": "execute_result"
    }
   ],
   "source": [
    "# 与DC5相关的线路\n",
    "向dc5发货的场地 = rawData[(rawData['场地2'] == 5)]['场地1']\n",
    "print(向dc5发货的场地)\n",
    "print(f'发送货物到DC5的路线数量：{len(向dc5发货的场地)}')\n",
    "可用的分发线路 = rawData[rawData['场地1'].isin(向dc5发货的场地)]\n",
    "可用的分发线路"
   ],
   "metadata": {
    "collapsed": false,
    "ExecuteTime": {
     "start_time": "2023-04-17T00:40:35.357786Z",
     "end_time": "2023-04-17T00:40:35.499789Z"
    }
   }
  },
  {
   "cell_type": "code",
   "execution_count": 7,
   "outputs": [
    {
     "data": {
      "text/plain": "998"
     },
     "execution_count": 7,
     "metadata": {},
     "output_type": "execute_result"
    }
   ],
   "source": [
    "可用的分发线路tuple = list(map(tuple, 可用的分发线路.iloc[:, :2].values.tolist()))\n",
    "len(可用的分发线路tuple)"
   ],
   "metadata": {
    "collapsed": false,
    "ExecuteTime": {
     "start_time": "2023-04-17T00:41:18.439396Z",
     "end_time": "2023-04-17T00:41:18.459397Z"
    }
   }
  },
  {
   "cell_type": "code",
   "execution_count": 6,
   "outputs": [
    {
     "data": {
      "text/plain": "      场地1  场地2  2023-01-01  2023-01-02  2023-01-03  2023-01-04  2023-01-05   \n1       2    3           1           1           1           1           1  \\\n2       2    4           2           2           2           3           3   \n3       2    5          10          10          10           9           9   \n4       2    8           2           2           2           2           2   \n5       2    9           5           5           5           5           5   \n...   ...  ...         ...         ...         ...         ...         ...   \n1043   76    5           2           2           2           2           2   \n1044   76    8           4           4           4           5           5   \n1045   76   10           4           4           4           4           5   \n1046   76   14           1           1           1           1           1   \n1047   76   62           1           1           1           2           2   \n\n      2023-01-06  2023-01-07  2023-01-08  ...  2023-01-22  2023-01-23   \n1              1           1           2  ...           3           4  \\\n2              3           3           3  ...           4           4   \n3              9           9           8  ...           6           6   \n4              3           3           3  ...           4           4   \n5              5           5           5  ...           5           5   \n...          ...         ...         ...  ...         ...         ...   \n1043           2           2           3  ...           4           5   \n1044           5           5           5  ...          11          11   \n1045           5           5           5  ...           9          10   \n1046           1           1           1  ...           1           1   \n1047           2           2           2  ...           3           3   \n\n      2023-01-24  2023-01-25  2023-01-26  2023-01-27  2023-01-28  2023-01-29   \n1              4           4           4           4           4           4  \\\n2              5           5           5           5           5           5   \n3              6           6           6           6           6           6   \n4              4           4           4           4           4           4   \n5              5           5           5           5           5           5   \n...          ...         ...         ...         ...         ...         ...   \n1043           5           5           6           6           6           7   \n1044          12          12          13          13          14          14   \n1045          10          11          11          12          12          13   \n1046           1           1           1           1           1           1   \n1047           3           3           3           3           4           4   \n\n      2023-01-30  2023-01-31  \n1              4           4  \n2              5           5  \n3              6           5  \n4              4           4  \n5              5           5  \n...          ...         ...  \n1043           7           8  \n1044          15          15  \n1045          13          13  \n1046           1           1  \n1047           4           4  \n\n[998 rows x 33 columns]",
      "text/html": "<div>\n<style scoped>\n    .dataframe tbody tr th:only-of-type {\n        vertical-align: middle;\n    }\n\n    .dataframe tbody tr th {\n        vertical-align: top;\n    }\n\n    .dataframe thead th {\n        text-align: right;\n    }\n</style>\n<table border=\"1\" class=\"dataframe\">\n  <thead>\n    <tr style=\"text-align: right;\">\n      <th></th>\n      <th>场地1</th>\n      <th>场地2</th>\n      <th>2023-01-01</th>\n      <th>2023-01-02</th>\n      <th>2023-01-03</th>\n      <th>2023-01-04</th>\n      <th>2023-01-05</th>\n      <th>2023-01-06</th>\n      <th>2023-01-07</th>\n      <th>2023-01-08</th>\n      <th>...</th>\n      <th>2023-01-22</th>\n      <th>2023-01-23</th>\n      <th>2023-01-24</th>\n      <th>2023-01-25</th>\n      <th>2023-01-26</th>\n      <th>2023-01-27</th>\n      <th>2023-01-28</th>\n      <th>2023-01-29</th>\n      <th>2023-01-30</th>\n      <th>2023-01-31</th>\n    </tr>\n  </thead>\n  <tbody>\n    <tr>\n      <th>1</th>\n      <td>2</td>\n      <td>3</td>\n      <td>1</td>\n      <td>1</td>\n      <td>1</td>\n      <td>1</td>\n      <td>1</td>\n      <td>1</td>\n      <td>1</td>\n      <td>2</td>\n      <td>...</td>\n      <td>3</td>\n      <td>4</td>\n      <td>4</td>\n      <td>4</td>\n      <td>4</td>\n      <td>4</td>\n      <td>4</td>\n      <td>4</td>\n      <td>4</td>\n      <td>4</td>\n    </tr>\n    <tr>\n      <th>2</th>\n      <td>2</td>\n      <td>4</td>\n      <td>2</td>\n      <td>2</td>\n      <td>2</td>\n      <td>3</td>\n      <td>3</td>\n      <td>3</td>\n      <td>3</td>\n      <td>3</td>\n      <td>...</td>\n      <td>4</td>\n      <td>4</td>\n      <td>5</td>\n      <td>5</td>\n      <td>5</td>\n      <td>5</td>\n      <td>5</td>\n      <td>5</td>\n      <td>5</td>\n      <td>5</td>\n    </tr>\n    <tr>\n      <th>3</th>\n      <td>2</td>\n      <td>5</td>\n      <td>10</td>\n      <td>10</td>\n      <td>10</td>\n      <td>9</td>\n      <td>9</td>\n      <td>9</td>\n      <td>9</td>\n      <td>8</td>\n      <td>...</td>\n      <td>6</td>\n      <td>6</td>\n      <td>6</td>\n      <td>6</td>\n      <td>6</td>\n      <td>6</td>\n      <td>6</td>\n      <td>6</td>\n      <td>6</td>\n      <td>5</td>\n    </tr>\n    <tr>\n      <th>4</th>\n      <td>2</td>\n      <td>8</td>\n      <td>2</td>\n      <td>2</td>\n      <td>2</td>\n      <td>2</td>\n      <td>2</td>\n      <td>3</td>\n      <td>3</td>\n      <td>3</td>\n      <td>...</td>\n      <td>4</td>\n      <td>4</td>\n      <td>4</td>\n      <td>4</td>\n      <td>4</td>\n      <td>4</td>\n      <td>4</td>\n      <td>4</td>\n      <td>4</td>\n      <td>4</td>\n    </tr>\n    <tr>\n      <th>5</th>\n      <td>2</td>\n      <td>9</td>\n      <td>5</td>\n      <td>5</td>\n      <td>5</td>\n      <td>5</td>\n      <td>5</td>\n      <td>5</td>\n      <td>5</td>\n      <td>5</td>\n      <td>...</td>\n      <td>5</td>\n      <td>5</td>\n      <td>5</td>\n      <td>5</td>\n      <td>5</td>\n      <td>5</td>\n      <td>5</td>\n      <td>5</td>\n      <td>5</td>\n      <td>5</td>\n    </tr>\n    <tr>\n      <th>...</th>\n      <td>...</td>\n      <td>...</td>\n      <td>...</td>\n      <td>...</td>\n      <td>...</td>\n      <td>...</td>\n      <td>...</td>\n      <td>...</td>\n      <td>...</td>\n      <td>...</td>\n      <td>...</td>\n      <td>...</td>\n      <td>...</td>\n      <td>...</td>\n      <td>...</td>\n      <td>...</td>\n      <td>...</td>\n      <td>...</td>\n      <td>...</td>\n      <td>...</td>\n      <td>...</td>\n    </tr>\n    <tr>\n      <th>1043</th>\n      <td>76</td>\n      <td>5</td>\n      <td>2</td>\n      <td>2</td>\n      <td>2</td>\n      <td>2</td>\n      <td>2</td>\n      <td>2</td>\n      <td>2</td>\n      <td>3</td>\n      <td>...</td>\n      <td>4</td>\n      <td>5</td>\n      <td>5</td>\n      <td>5</td>\n      <td>6</td>\n      <td>6</td>\n      <td>6</td>\n      <td>7</td>\n      <td>7</td>\n      <td>8</td>\n    </tr>\n    <tr>\n      <th>1044</th>\n      <td>76</td>\n      <td>8</td>\n      <td>4</td>\n      <td>4</td>\n      <td>4</td>\n      <td>5</td>\n      <td>5</td>\n      <td>5</td>\n      <td>5</td>\n      <td>5</td>\n      <td>...</td>\n      <td>11</td>\n      <td>11</td>\n      <td>12</td>\n      <td>12</td>\n      <td>13</td>\n      <td>13</td>\n      <td>14</td>\n      <td>14</td>\n      <td>15</td>\n      <td>15</td>\n    </tr>\n    <tr>\n      <th>1045</th>\n      <td>76</td>\n      <td>10</td>\n      <td>4</td>\n      <td>4</td>\n      <td>4</td>\n      <td>4</td>\n      <td>5</td>\n      <td>5</td>\n      <td>5</td>\n      <td>5</td>\n      <td>...</td>\n      <td>9</td>\n      <td>10</td>\n      <td>10</td>\n      <td>11</td>\n      <td>11</td>\n      <td>12</td>\n      <td>12</td>\n      <td>13</td>\n      <td>13</td>\n      <td>13</td>\n    </tr>\n    <tr>\n      <th>1046</th>\n      <td>76</td>\n      <td>14</td>\n      <td>1</td>\n      <td>1</td>\n      <td>1</td>\n      <td>1</td>\n      <td>1</td>\n      <td>1</td>\n      <td>1</td>\n      <td>1</td>\n      <td>...</td>\n      <td>1</td>\n      <td>1</td>\n      <td>1</td>\n      <td>1</td>\n      <td>1</td>\n      <td>1</td>\n      <td>1</td>\n      <td>1</td>\n      <td>1</td>\n      <td>1</td>\n    </tr>\n    <tr>\n      <th>1047</th>\n      <td>76</td>\n      <td>62</td>\n      <td>1</td>\n      <td>1</td>\n      <td>1</td>\n      <td>2</td>\n      <td>2</td>\n      <td>2</td>\n      <td>2</td>\n      <td>2</td>\n      <td>...</td>\n      <td>3</td>\n      <td>3</td>\n      <td>3</td>\n      <td>3</td>\n      <td>3</td>\n      <td>3</td>\n      <td>4</td>\n      <td>4</td>\n      <td>4</td>\n      <td>4</td>\n    </tr>\n  </tbody>\n</table>\n<p>998 rows × 33 columns</p>\n</div>"
     },
     "execution_count": 6,
     "metadata": {},
     "output_type": "execute_result"
    }
   ],
   "source": [
    "可用的分发线路2023年 = pd.merge(可用的分发线路.iloc[:, :2], 可用的分发线路.iloc[:, -31:], left_index=True,\n",
    "                                right_index=True)\n",
    "可用的分发线路2023年"
   ],
   "metadata": {
    "collapsed": false,
    "ExecuteTime": {
     "start_time": "2023-04-17T00:40:38.205967Z",
     "end_time": "2023-04-17T00:40:38.233969Z"
    }
   }
  },
  {
   "cell_type": "code",
   "execution_count": 10,
   "outputs": [
    {
     "data": {
      "text/plain": "     场地1  场地2  2023-01-01  2023-01-02  2023-01-03  2023-01-04  2023-01-05   \n981   69    8       10063       10627       11117       13003       12058  \\\n\n     2023-01-06  2023-01-07  2023-01-08  ...  2023-01-22  2023-01-23   \n981       12030       12320       12612  ...       13153       13161  \\\n\n     2023-01-24  2023-01-25  2023-01-26  2023-01-27  2023-01-28  2023-01-29   \n981       13153       13145       13137       13126       13121       13113  \\\n\n     2023-01-30  2023-01-31  \n981       13104       13095  \n\n[1 rows x 33 columns]",
      "text/html": "<div>\n<style scoped>\n    .dataframe tbody tr th:only-of-type {\n        vertical-align: middle;\n    }\n\n    .dataframe tbody tr th {\n        vertical-align: top;\n    }\n\n    .dataframe thead th {\n        text-align: right;\n    }\n</style>\n<table border=\"1\" class=\"dataframe\">\n  <thead>\n    <tr style=\"text-align: right;\">\n      <th></th>\n      <th>场地1</th>\n      <th>场地2</th>\n      <th>2023-01-01</th>\n      <th>2023-01-02</th>\n      <th>2023-01-03</th>\n      <th>2023-01-04</th>\n      <th>2023-01-05</th>\n      <th>2023-01-06</th>\n      <th>2023-01-07</th>\n      <th>2023-01-08</th>\n      <th>...</th>\n      <th>2023-01-22</th>\n      <th>2023-01-23</th>\n      <th>2023-01-24</th>\n      <th>2023-01-25</th>\n      <th>2023-01-26</th>\n      <th>2023-01-27</th>\n      <th>2023-01-28</th>\n      <th>2023-01-29</th>\n      <th>2023-01-30</th>\n      <th>2023-01-31</th>\n    </tr>\n  </thead>\n  <tbody>\n    <tr>\n      <th>981</th>\n      <td>69</td>\n      <td>8</td>\n      <td>10063</td>\n      <td>10627</td>\n      <td>11117</td>\n      <td>13003</td>\n      <td>12058</td>\n      <td>12030</td>\n      <td>12320</td>\n      <td>12612</td>\n      <td>...</td>\n      <td>13153</td>\n      <td>13161</td>\n      <td>13153</td>\n      <td>13145</td>\n      <td>13137</td>\n      <td>13126</td>\n      <td>13121</td>\n      <td>13113</td>\n      <td>13104</td>\n      <td>13095</td>\n    </tr>\n  </tbody>\n</table>\n<p>1 rows × 33 columns</p>\n</div>"
     },
     "execution_count": 10,
     "metadata": {},
     "output_type": "execute_result"
    }
   ],
   "source": [
    "可用的分发线路2023年[(可用的分发线路2023年['场地1'] == 69) & (可用的分发线路2023年['场地2'] == 8)]"
   ],
   "metadata": {
    "collapsed": false,
    "ExecuteTime": {
     "start_time": "2023-04-17T00:43:14.687093Z",
     "end_time": "2023-04-17T00:43:14.700092Z"
    }
   }
  },
  {
   "cell_type": "code",
   "execution_count": 19,
   "outputs": [
    {
     "data": {
      "text/plain": "           货量\n场地1 场地2      \n1   8    2190\n2   3    4756\n    4    7252\n    5    3797\n    8    1604\n...       ...\n76  8    2920\n    10   2455\n    14   1175\n    62   1429\n77  6    1460\n\n[1049 rows x 1 columns]",
      "text/html": "<div>\n<style scoped>\n    .dataframe tbody tr th:only-of-type {\n        vertical-align: middle;\n    }\n\n    .dataframe tbody tr th {\n        vertical-align: top;\n    }\n\n    .dataframe thead th {\n        text-align: right;\n    }\n</style>\n<table border=\"1\" class=\"dataframe\">\n  <thead>\n    <tr style=\"text-align: right;\">\n      <th></th>\n      <th></th>\n      <th>货量</th>\n    </tr>\n    <tr>\n      <th>场地1</th>\n      <th>场地2</th>\n      <th></th>\n    </tr>\n  </thead>\n  <tbody>\n    <tr>\n      <th>1</th>\n      <th>8</th>\n      <td>2190</td>\n    </tr>\n    <tr>\n      <th rowspan=\"4\" valign=\"top\">2</th>\n      <th>3</th>\n      <td>4756</td>\n    </tr>\n    <tr>\n      <th>4</th>\n      <td>7252</td>\n    </tr>\n    <tr>\n      <th>5</th>\n      <td>3797</td>\n    </tr>\n    <tr>\n      <th>8</th>\n      <td>1604</td>\n    </tr>\n    <tr>\n      <th>...</th>\n      <th>...</th>\n      <td>...</td>\n    </tr>\n    <tr>\n      <th rowspan=\"4\" valign=\"top\">76</th>\n      <th>8</th>\n      <td>2920</td>\n    </tr>\n    <tr>\n      <th>10</th>\n      <td>2455</td>\n    </tr>\n    <tr>\n      <th>14</th>\n      <td>1175</td>\n    </tr>\n    <tr>\n      <th>62</th>\n      <td>1429</td>\n    </tr>\n    <tr>\n      <th>77</th>\n      <th>6</th>\n      <td>1460</td>\n    </tr>\n  </tbody>\n</table>\n<p>1049 rows × 1 columns</p>\n</div>"
     },
     "execution_count": 19,
     "metadata": {},
     "output_type": "execute_result"
    }
   ],
   "source": [
    "线路运输能力df"
   ],
   "metadata": {
    "collapsed": false,
    "ExecuteTime": {
     "start_time": "2023-04-17T01:00:25.052292Z",
     "end_time": "2023-04-17T01:00:25.069292Z"
    }
   }
  },
  {
   "cell_type": "code",
   "execution_count": 50,
   "outputs": [
    {
     "data": {
      "text/plain": "               货量\n场地1 场地2          \n1   8    3.040736\n2   3    6.353482\n    4    9.684625\n    5    5.281209\n    8    2.241787\n...           ...\n76  8    4.187911\n    10   3.540079\n    14   1.584757\n    62   1.977661\n77  6    2.067017\n\n[1049 rows x 1 columns]",
      "text/html": "<div>\n<style scoped>\n    .dataframe tbody tr th:only-of-type {\n        vertical-align: middle;\n    }\n\n    .dataframe tbody tr th {\n        vertical-align: top;\n    }\n\n    .dataframe thead th {\n        text-align: right;\n    }\n</style>\n<table border=\"1\" class=\"dataframe\">\n  <thead>\n    <tr style=\"text-align: right;\">\n      <th></th>\n      <th></th>\n      <th>货量</th>\n    </tr>\n    <tr>\n      <th>场地1</th>\n      <th>场地2</th>\n      <th></th>\n    </tr>\n  </thead>\n  <tbody>\n    <tr>\n      <th>1</th>\n      <th>8</th>\n      <td>3.040736</td>\n    </tr>\n    <tr>\n      <th rowspan=\"4\" valign=\"top\">2</th>\n      <th>3</th>\n      <td>6.353482</td>\n    </tr>\n    <tr>\n      <th>4</th>\n      <td>9.684625</td>\n    </tr>\n    <tr>\n      <th>5</th>\n      <td>5.281209</td>\n    </tr>\n    <tr>\n      <th>8</th>\n      <td>2.241787</td>\n    </tr>\n    <tr>\n      <th>...</th>\n      <th>...</th>\n      <td>...</td>\n    </tr>\n    <tr>\n      <th rowspan=\"4\" valign=\"top\">76</th>\n      <th>8</th>\n      <td>4.187911</td>\n    </tr>\n    <tr>\n      <th>10</th>\n      <td>3.540079</td>\n    </tr>\n    <tr>\n      <th>14</th>\n      <td>1.584757</td>\n    </tr>\n    <tr>\n      <th>62</th>\n      <td>1.977661</td>\n    </tr>\n    <tr>\n      <th>77</th>\n      <th>6</th>\n      <td>2.067017</td>\n    </tr>\n  </tbody>\n</table>\n<p>1049 rows × 1 columns</p>\n</div>"
     },
     "execution_count": 50,
     "metadata": {},
     "output_type": "execute_result"
    }
   ],
   "source": [
    "全年线路负载率df = pd.melt(rawData, id_vars=['场地1', '场地2'], value_name='货量', var_name='日期').groupby(\n",
    "    by=['场地1', '场地2'])[['货量']].mean()\n",
    "\n",
    "# 全年线路负载率df.sort_values(['货量'], ascending=False)\n",
    "全年线路负载率df"
   ],
   "metadata": {
    "collapsed": false,
    "ExecuteTime": {
     "start_time": "2023-04-17T01:09:11.238539Z",
     "end_time": "2023-04-17T01:09:11.367606Z"
    }
   }
  },
  {
   "cell_type": "code",
   "execution_count": 51,
   "outputs": [
    {
     "data": {
      "text/plain": "               货量       负载率\n场地1 场地2                    \n1   8    3.040736  0.001388\n2   3    6.353482  0.001336\n    4    9.684625  0.001335\n    5    5.281209  0.001391\n    8    2.241787  0.001398\n...           ...       ...\n76  8    4.187911  0.001434\n    10   3.540079  0.001442\n    14   1.584757  0.001349\n    62   1.977661  0.001384\n77  6    2.067017  0.001416\n\n[1049 rows x 2 columns]",
      "text/html": "<div>\n<style scoped>\n    .dataframe tbody tr th:only-of-type {\n        vertical-align: middle;\n    }\n\n    .dataframe tbody tr th {\n        vertical-align: top;\n    }\n\n    .dataframe thead th {\n        text-align: right;\n    }\n</style>\n<table border=\"1\" class=\"dataframe\">\n  <thead>\n    <tr style=\"text-align: right;\">\n      <th></th>\n      <th></th>\n      <th>货量</th>\n      <th>负载率</th>\n    </tr>\n    <tr>\n      <th>场地1</th>\n      <th>场地2</th>\n      <th></th>\n      <th></th>\n    </tr>\n  </thead>\n  <tbody>\n    <tr>\n      <th>1</th>\n      <th>8</th>\n      <td>3.040736</td>\n      <td>0.001388</td>\n    </tr>\n    <tr>\n      <th rowspan=\"4\" valign=\"top\">2</th>\n      <th>3</th>\n      <td>6.353482</td>\n      <td>0.001336</td>\n    </tr>\n    <tr>\n      <th>4</th>\n      <td>9.684625</td>\n      <td>0.001335</td>\n    </tr>\n    <tr>\n      <th>5</th>\n      <td>5.281209</td>\n      <td>0.001391</td>\n    </tr>\n    <tr>\n      <th>8</th>\n      <td>2.241787</td>\n      <td>0.001398</td>\n    </tr>\n    <tr>\n      <th>...</th>\n      <th>...</th>\n      <td>...</td>\n      <td>...</td>\n    </tr>\n    <tr>\n      <th rowspan=\"4\" valign=\"top\">76</th>\n      <th>8</th>\n      <td>4.187911</td>\n      <td>0.001434</td>\n    </tr>\n    <tr>\n      <th>10</th>\n      <td>3.540079</td>\n      <td>0.001442</td>\n    </tr>\n    <tr>\n      <th>14</th>\n      <td>1.584757</td>\n      <td>0.001349</td>\n    </tr>\n    <tr>\n      <th>62</th>\n      <td>1.977661</td>\n      <td>0.001384</td>\n    </tr>\n    <tr>\n      <th>77</th>\n      <th>6</th>\n      <td>2.067017</td>\n      <td>0.001416</td>\n    </tr>\n  </tbody>\n</table>\n<p>1049 rows × 2 columns</p>\n</div>"
     },
     "execution_count": 51,
     "metadata": {},
     "output_type": "execute_result"
    }
   ],
   "source": [
    "全年线路负载率df['负载率'] = 全年线路负载率df.values / 线路运输能力df[\n",
    "    线路运输能力df.index.isin(全年线路负载率df.index)].values\n",
    "全年线路负载率df"
   ],
   "metadata": {
    "collapsed": false,
    "ExecuteTime": {
     "start_time": "2023-04-17T01:09:11.495719Z",
     "end_time": "2023-04-17T01:09:11.527730Z"
    }
   }
  },
  {
   "cell_type": "code",
   "execution_count": 52,
   "outputs": [],
   "source": [
    "全年线路负载率df.reset_index().to_excel('全年线路负载率df.xlsx', index=False)"
   ],
   "metadata": {
    "collapsed": false,
    "ExecuteTime": {
     "start_time": "2023-04-17T01:10:15.581228Z",
     "end_time": "2023-04-17T01:10:15.660228Z"
    }
   }
  },
  {
   "cell_type": "code",
   "execution_count": null,
   "outputs": [],
   "source": [],
   "metadata": {
    "collapsed": false
   }
  }
 ],
 "metadata": {
  "kernelspec": {
   "display_name": "Python 3",
   "language": "python",
   "name": "python3"
  },
  "language_info": {
   "codemirror_mode": {
    "name": "ipython",
    "version": 2
   },
   "file_extension": ".py",
   "mimetype": "text/x-python",
   "name": "python",
   "nbconvert_exporter": "python",
   "pygments_lexer": "ipython2",
   "version": "2.7.6"
  }
 },
 "nbformat": 4,
 "nbformat_minor": 0
}
