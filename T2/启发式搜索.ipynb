{
 "cells": [
  {
   "cell_type": "code",
   "execution_count": 15,
   "metadata": {
    "collapsed": true,
    "ExecuteTime": {
     "start_time": "2023-04-16T16:35:33.517728Z",
     "end_time": "2023-04-16T16:35:33.773727Z"
    }
   },
   "outputs": [],
   "source": [
    "import pandas as pd\n",
    "import numpy as np\n",
    "import geatpy as ea"
   ]
  },
  {
   "cell_type": "code",
   "execution_count": 6,
   "outputs": [],
   "source": [
    "场地处理能力df = pd.read_excel('../preprocess/场地处理能力.xlsx')\n",
    "线路运输能力df = pd.read_excel('../preprocess/线路运输能力.xlsx')\n",
    "rawData = pd.read_excel('../preprocess/左侧填充-物流网络历史货量数据.xlsx')\n"
   ],
   "metadata": {
    "collapsed": false,
    "ExecuteTime": {
     "start_time": "2023-04-16T16:21:04.567409Z",
     "end_time": "2023-04-16T16:21:12.371497Z"
    }
   }
  },
  {
   "cell_type": "code",
   "execution_count": 10,
   "outputs": [],
   "source": [
    "# 与DC5相关的线路\n",
    "dc5Edge = rawData[(rawData['场地1'] == 'DC5') | (rawData['场地2'] == 'DC5')]\n",
    "dc5EdgeLen = len(dc5Edge)"
   ],
   "metadata": {
    "collapsed": false,
    "ExecuteTime": {
     "start_time": "2023-04-16T16:22:18.031882Z",
     "end_time": "2023-04-16T16:22:18.045883Z"
    }
   }
  },
  {
   "cell_type": "code",
   "execution_count": 11,
   "outputs": [
    {
     "ename": "TypeError",
     "evalue": "GA.__init__() got an unexpected keyword argument 'constr_func'",
     "output_type": "error",
     "traceback": [
      "\u001B[1;31m---------------------------------------------------------------------------\u001B[0m",
      "\u001B[1;31mTypeError\u001B[0m                                 Traceback (most recent call last)",
      "Cell \u001B[1;32mIn[11], line 20\u001B[0m\n\u001B[0;32m     17\u001B[0m bound \u001B[38;5;241m=\u001B[39m np\u001B[38;5;241m.\u001B[39marray([[\u001B[38;5;241m-\u001B[39m\u001B[38;5;241m10\u001B[39m, \u001B[38;5;241m10\u001B[39m], [\u001B[38;5;241m-\u001B[39m\u001B[38;5;241m10\u001B[39m, \u001B[38;5;241m10\u001B[39m]])\n\u001B[0;32m     19\u001B[0m \u001B[38;5;66;03m# 初始化GA类，添加约束条件\u001B[39;00m\n\u001B[1;32m---> 20\u001B[0m ga \u001B[38;5;241m=\u001B[39m \u001B[43mGA\u001B[49m\u001B[43m(\u001B[49m\u001B[43mfunc\u001B[49m\u001B[38;5;241;43m=\u001B[39;49m\u001B[43mfitness_func\u001B[49m\u001B[43m,\u001B[49m\u001B[43m \u001B[49m\u001B[43mn_dim\u001B[49m\u001B[38;5;241;43m=\u001B[39;49m\u001B[38;5;241;43m2\u001B[39;49m\u001B[43m,\u001B[49m\u001B[43m \u001B[49m\u001B[43msize_pop\u001B[49m\u001B[38;5;241;43m=\u001B[39;49m\u001B[38;5;241;43m50\u001B[39;49m\u001B[43m,\u001B[49m\u001B[43m \u001B[49m\u001B[43mmax_iter\u001B[49m\u001B[38;5;241;43m=\u001B[39;49m\u001B[38;5;241;43m100\u001B[39;49m\u001B[43m,\u001B[49m\u001B[43m \u001B[49m\u001B[43mlb\u001B[49m\u001B[38;5;241;43m=\u001B[39;49m\u001B[43mbound\u001B[49m\u001B[43m[\u001B[49m\u001B[43m:\u001B[49m\u001B[43m,\u001B[49m\u001B[43m \u001B[49m\u001B[38;5;241;43m0\u001B[39;49m\u001B[43m]\u001B[49m\u001B[43m,\u001B[49m\u001B[43m \u001B[49m\u001B[43mub\u001B[49m\u001B[38;5;241;43m=\u001B[39;49m\u001B[43mbound\u001B[49m\u001B[43m[\u001B[49m\u001B[43m:\u001B[49m\u001B[43m,\u001B[49m\u001B[43m \u001B[49m\u001B[38;5;241;43m1\u001B[39;49m\u001B[43m]\u001B[49m\u001B[43m,\u001B[49m\u001B[43m \u001B[49m\u001B[43mprecision\u001B[49m\u001B[38;5;241;43m=\u001B[39;49m\u001B[38;5;241;43m1e-7\u001B[39;49m\u001B[43m,\u001B[49m\u001B[43m \u001B[49m\u001B[43mconstr_func\u001B[49m\u001B[38;5;241;43m=\u001B[39;49m\u001B[43mconstr_func\u001B[49m\u001B[43m)\u001B[49m\n\u001B[0;32m     22\u001B[0m \u001B[38;5;66;03m# 运行GA算法\u001B[39;00m\n\u001B[0;32m     23\u001B[0m best_solution, best_fitness \u001B[38;5;241m=\u001B[39m ga\u001B[38;5;241m.\u001B[39mrun()\n",
      "\u001B[1;31mTypeError\u001B[0m: GA.__init__() got an unexpected keyword argument 'constr_func'"
     ]
    }
   ],
   "source": [
    "\n",
    "# 定义问题类\n",
    "class MyProblem(ea.Problem):\n",
    "    def __init__(self):\n",
    "        name = 'MyProblem'\n",
    "        M = 1  # 目标维数\n",
    "        maxormins = [-1]  # 最小化目标\n",
    "        Dim = 2  # 决策变量维数\n",
    "        varTypes = [0, 0]  # 决策变量类型（0为实数，1为整数）\n",
    "        lb = [-5, -5]  # 决策变量下界\n",
    "        ub = [5, 5]  # 决策变量上界\n",
    "        lbin = [1, 1]  # 决策变量是否包含下界\n",
    "        ubin = [1, 1]  # 决策变量是否包含上界\n",
    "        self.consTypes = []  # 约束类型\n",
    "        self.consDims = []  # 约束维数\n",
    "        self.cons = []  # 约束函数\n",
    "\n",
    "        # 调用父类构造方法\n",
    "        super().__init__(name, M, maxormins, Dim, varTypes, lb, ub, lbin, ubin)\n",
    "\n",
    "    # 定义目标函数\n",
    "    def aimFunc(self, pop):\n",
    "        x = pop.Phen  # 决策变量矩阵\n",
    "        y = x[:, 0] ** 2 + x[:, 1] ** 2  # 目标函数\n",
    "        pop.ObjV = y.reshape(-1, 1)  # 把目标函数值赋值给种群的ObjV属性\n",
    "\n",
    "# 创建问题实例\n",
    "problem = MyProblem()\n",
    "\n",
    "# 实例化算法模板\n",
    "algorithm = ea.soea_SEGA_templet(problem, population_size=50)\n",
    "\n",
    "# 调用算法模板的run方法来执行算法\n",
    "algorithm.run()\n",
    "\n",
    "# 获取最优解和最优解的目标函数值\n",
    "best_ind = algorithm.best_individ\n",
    "best_objv = best_ind.ObjV\n",
    "\n",
    "# 输出结果\n",
    "print('最优解：', best_ind.Phen)\n",
    "print('最优解的目标函数值：', best_objv)\n"
   ],
   "metadata": {
    "collapsed": false,
    "ExecuteTime": {
     "start_time": "2023-04-16T16:19:45.839122Z",
     "end_time": "2023-04-16T16:19:45.890122Z"
    }
   }
  },
  {
   "cell_type": "code",
   "execution_count": null,
   "outputs": [],
   "source": [],
   "metadata": {
    "collapsed": false
   }
  }
 ],
 "metadata": {
  "kernelspec": {
   "display_name": "Python 3",
   "language": "python",
   "name": "python3"
  },
  "language_info": {
   "codemirror_mode": {
    "name": "ipython",
    "version": 2
   },
   "file_extension": ".py",
   "mimetype": "text/x-python",
   "name": "python",
   "nbconvert_exporter": "python",
   "pygments_lexer": "ipython2",
   "version": "2.7.6"
  }
 },
 "nbformat": 4,
 "nbformat_minor": 0
}
