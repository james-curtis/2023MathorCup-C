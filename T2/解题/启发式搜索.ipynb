{
 "cells": [
  {
   "cell_type": "code",
   "execution_count": 15,
   "metadata": {
    "collapsed": true,
    "ExecuteTime": {
     "start_time": "2023-04-16T16:35:33.517728Z",
     "end_time": "2023-04-16T16:35:33.773727Z"
    }
   },
   "outputs": [],
   "source": [
    "import pandas as pd\n",
    "import numpy as np\n",
    "import geatpy as ea"
   ]
  },
  {
   "cell_type": "code",
   "execution_count": 6,
   "outputs": [],
   "source": [
    "场地处理能力df = pd.read_excel('../preprocess/场地处理能力.xlsx')\n",
    "线路运输能力df = pd.read_excel('../preprocess/线路运输能力.xlsx')\n",
    "rawData = pd.read_excel('../preprocess/左侧填充-物流网络历史货量数据.xlsx')\n"
   ],
   "metadata": {
    "collapsed": false,
    "ExecuteTime": {
     "start_time": "2023-04-16T16:21:04.567409Z",
     "end_time": "2023-04-16T16:21:12.371497Z"
    }
   }
  },
  {
   "cell_type": "code",
   "execution_count": 30,
   "outputs": [
    {
     "name": "stdout",
     "output_type": "stream",
     "text": [
      "24      DC10\n",
      "44      DC11\n",
      "55      DC12\n",
      "63      DC13\n",
      "89      DC14\n",
      "        ... \n",
      "978     DC73\n",
      "988     DC74\n",
      "996     DC76\n",
      "1016     DC8\n",
      "1042     DC9\n",
      "Name: 场地1, Length: 67, dtype: object\n",
      "发送货物到DC5的路线数量：67\n"
     ]
    },
    {
     "data": {
      "text/plain": "    场地1   场地2  2021-01-01  2021-01-02  2021-01-03  2021-01-04  2021-01-05   \n1  DC10  DC12         306         328         163         193         565  \\\n2  DC10  DC13           4           4           4           4           4   \n3  DC10  DC14        2613        2941        5968        4459        7646   \n4  DC10  DC17           5           5           5           5           5   \n5  DC10  DC19          10          10          10          10          10   \n\n   2021-01-06  2021-01-07  2021-01-08  ...  2022-12-22  2022-12-23   \n1         964         623         284  ...          73          73  \\\n2           4           4           4  ...           2           2   \n3        5106        7155        5939  ...        8663        9818   \n4           5           5           5  ...           2           2   \n5          10          10          10  ...           4           4   \n\n   2022-12-24  2022-12-25  2022-12-26  2022-12-27  2022-12-28  2022-12-29   \n1          73          73          73          73          73          73  \\\n2           2           2           2           2           2           2   \n3       12248       13255        9896       15492        8230       29021   \n4           2           2           2           2           2           2   \n5           4           4           4           4           4           4   \n\n   2022-12-30  2022-12-31  \n1          73          73  \n2           2           2  \n3        9991       13254  \n4           2           2  \n5           4           4  \n\n[5 rows x 732 columns]",
      "text/html": "<div>\n<style scoped>\n    .dataframe tbody tr th:only-of-type {\n        vertical-align: middle;\n    }\n\n    .dataframe tbody tr th {\n        vertical-align: top;\n    }\n\n    .dataframe thead th {\n        text-align: right;\n    }\n</style>\n<table border=\"1\" class=\"dataframe\">\n  <thead>\n    <tr style=\"text-align: right;\">\n      <th></th>\n      <th>场地1</th>\n      <th>场地2</th>\n      <th>2021-01-01</th>\n      <th>2021-01-02</th>\n      <th>2021-01-03</th>\n      <th>2021-01-04</th>\n      <th>2021-01-05</th>\n      <th>2021-01-06</th>\n      <th>2021-01-07</th>\n      <th>2021-01-08</th>\n      <th>...</th>\n      <th>2022-12-22</th>\n      <th>2022-12-23</th>\n      <th>2022-12-24</th>\n      <th>2022-12-25</th>\n      <th>2022-12-26</th>\n      <th>2022-12-27</th>\n      <th>2022-12-28</th>\n      <th>2022-12-29</th>\n      <th>2022-12-30</th>\n      <th>2022-12-31</th>\n    </tr>\n  </thead>\n  <tbody>\n    <tr>\n      <th>1</th>\n      <td>DC10</td>\n      <td>DC12</td>\n      <td>306</td>\n      <td>328</td>\n      <td>163</td>\n      <td>193</td>\n      <td>565</td>\n      <td>964</td>\n      <td>623</td>\n      <td>284</td>\n      <td>...</td>\n      <td>73</td>\n      <td>73</td>\n      <td>73</td>\n      <td>73</td>\n      <td>73</td>\n      <td>73</td>\n      <td>73</td>\n      <td>73</td>\n      <td>73</td>\n      <td>73</td>\n    </tr>\n    <tr>\n      <th>2</th>\n      <td>DC10</td>\n      <td>DC13</td>\n      <td>4</td>\n      <td>4</td>\n      <td>4</td>\n      <td>4</td>\n      <td>4</td>\n      <td>4</td>\n      <td>4</td>\n      <td>4</td>\n      <td>...</td>\n      <td>2</td>\n      <td>2</td>\n      <td>2</td>\n      <td>2</td>\n      <td>2</td>\n      <td>2</td>\n      <td>2</td>\n      <td>2</td>\n      <td>2</td>\n      <td>2</td>\n    </tr>\n    <tr>\n      <th>3</th>\n      <td>DC10</td>\n      <td>DC14</td>\n      <td>2613</td>\n      <td>2941</td>\n      <td>5968</td>\n      <td>4459</td>\n      <td>7646</td>\n      <td>5106</td>\n      <td>7155</td>\n      <td>5939</td>\n      <td>...</td>\n      <td>8663</td>\n      <td>9818</td>\n      <td>12248</td>\n      <td>13255</td>\n      <td>9896</td>\n      <td>15492</td>\n      <td>8230</td>\n      <td>29021</td>\n      <td>9991</td>\n      <td>13254</td>\n    </tr>\n    <tr>\n      <th>4</th>\n      <td>DC10</td>\n      <td>DC17</td>\n      <td>5</td>\n      <td>5</td>\n      <td>5</td>\n      <td>5</td>\n      <td>5</td>\n      <td>5</td>\n      <td>5</td>\n      <td>5</td>\n      <td>...</td>\n      <td>2</td>\n      <td>2</td>\n      <td>2</td>\n      <td>2</td>\n      <td>2</td>\n      <td>2</td>\n      <td>2</td>\n      <td>2</td>\n      <td>2</td>\n      <td>2</td>\n    </tr>\n    <tr>\n      <th>5</th>\n      <td>DC10</td>\n      <td>DC19</td>\n      <td>10</td>\n      <td>10</td>\n      <td>10</td>\n      <td>10</td>\n      <td>10</td>\n      <td>10</td>\n      <td>10</td>\n      <td>10</td>\n      <td>...</td>\n      <td>4</td>\n      <td>4</td>\n      <td>4</td>\n      <td>4</td>\n      <td>4</td>\n      <td>4</td>\n      <td>4</td>\n      <td>4</td>\n      <td>4</td>\n      <td>4</td>\n    </tr>\n  </tbody>\n</table>\n<p>5 rows × 732 columns</p>\n</div>"
     },
     "execution_count": 30,
     "metadata": {},
     "output_type": "execute_result"
    }
   ],
   "source": [
    "# 与DC5相关的线路\n",
    "向dc5发货的场地 = rawData[(rawData['场地2'] == 'DC5')]['场地1']\n",
    "print(向dc5发货的场地)\n",
    "print(f'发送货物到DC5的路线数量：{len(向dc5发货的场地)}')\n",
    "可用的分发线路 = rawData[rawData['场地1'].isin(向dc5发货的场地)]\n",
    "可用的分发线路.head()"
   ],
   "metadata": {
    "collapsed": false,
    "ExecuteTime": {
     "start_time": "2023-04-16T17:15:30.516430Z",
     "end_time": "2023-04-16T17:15:30.549453Z"
    }
   }
  },
  {
   "cell_type": "code",
   "execution_count": 17,
   "outputs": [],
   "source": [
    "# 定义问题类\n",
    "class MyProblem(ea.Problem):\n",
    "    def __init__(self):\n",
    "        name = 'MyProblem'\n",
    "        M = 1  # 目标维数\n",
    "        maxormins = [-1]  # 最小化目标\n",
    "        Dim = 2  # 决策变量维数\n",
    "        varTypes = [0, 0]  # 决策变量类型（0为实数，1为整数）\n",
    "        lb = [-5, -5]  # 决策变量下界\n",
    "        ub = [5, 5]  # 决策变量上界\n",
    "        lbin = [1, 1]  # 决策变量是否包含下界\n",
    "        ubin = [1, 1]  # 决策变量是否包含上界\n",
    "        self.consTypes = []  # 约束类型\n",
    "        self.consDims = []  # 约束维数\n",
    "        self.cons = []  # 约束函数\n",
    "\n",
    "        # 调用父类构造方法\n",
    "        super().__init__(name, M, maxormins, Dim, varTypes, lb, ub, lbin, ubin)\n",
    "\n",
    "    # 定义evalVar方法计算目标函数值\n",
    "    def evalVars(self, vars):\n",
    "        x = vars  # 决策变量矩阵\n",
    "        y = x[:, 0] ** 2 + x[:, 1] ** 2  # 目标函数\n",
    "        return y.reshape(-1, 1)  # 返回目标函数值矩阵\n"
   ],
   "metadata": {
    "collapsed": false,
    "ExecuteTime": {
     "start_time": "2023-04-16T16:49:44.860286Z",
     "end_time": "2023-04-16T16:49:44.872291Z"
    }
   }
  },
  {
   "cell_type": "code",
   "execution_count": 18,
   "outputs": [
    {
     "ename": "TypeError",
     "evalue": "soea_SEGA_templet.__init__() missing 1 required positional argument: 'population'",
     "output_type": "error",
     "traceback": [
      "\u001B[1;31m---------------------------------------------------------------------------\u001B[0m",
      "\u001B[1;31mTypeError\u001B[0m                                 Traceback (most recent call last)",
      "Cell \u001B[1;32mIn[18], line 5\u001B[0m\n\u001B[0;32m      2\u001B[0m problem \u001B[38;5;241m=\u001B[39m MyProblem()\n\u001B[0;32m      4\u001B[0m \u001B[38;5;66;03m# 实例化算法模板\u001B[39;00m\n\u001B[1;32m----> 5\u001B[0m algorithm \u001B[38;5;241m=\u001B[39m \u001B[43mea\u001B[49m\u001B[38;5;241;43m.\u001B[39;49m\u001B[43msoea_SEGA_templet\u001B[49m\u001B[43m(\u001B[49m\u001B[43mproblem\u001B[49m\u001B[43m,\u001B[49m\u001B[43m \u001B[49m\u001B[43mpopulation_size\u001B[49m\u001B[38;5;241;43m=\u001B[39;49m\u001B[38;5;241;43m50\u001B[39;49m\u001B[43m)\u001B[49m\n\u001B[0;32m      7\u001B[0m \u001B[38;5;66;03m# 调用算法模板的run方法来执行算法\u001B[39;00m\n\u001B[0;32m      8\u001B[0m algorithm\u001B[38;5;241m.\u001B[39mrun()\n",
      "\u001B[1;31mTypeError\u001B[0m: soea_SEGA_templet.__init__() missing 1 required positional argument: 'population'"
     ]
    }
   ],
   "source": [
    "\n",
    "# 创建问题实例\n",
    "problem = MyProblem()\n",
    "\n",
    "# 实例化算法模板\n",
    "algorithm = ea.soea_SEGA_templet(problem, population_size=50)\n",
    "\n",
    "# 调用算法模板的run方法来执行算法\n",
    "algorithm.run()\n",
    "\n",
    "# 获取最优解和最优解的目标函数值\n",
    "best_ind = algorithm.best_individ\n",
    "best_objv = best_ind.ObjV\n",
    "\n",
    "# 输出结果\n",
    "print('最优解：', best_ind.Phen)\n",
    "print('最优解的目标函数值：', best_objv)\n"
   ],
   "metadata": {
    "collapsed": false
   }
  },
  {
   "cell_type": "code",
   "execution_count": null,
   "outputs": [],
   "source": [],
   "metadata": {
    "collapsed": false
   }
  }
 ],
 "metadata": {
  "kernelspec": {
   "display_name": "Python 3",
   "language": "python",
   "name": "python3"
  },
  "language_info": {
   "codemirror_mode": {
    "name": "ipython",
    "version": 2
   },
   "file_extension": ".py",
   "mimetype": "text/x-python",
   "name": "python",
   "nbconvert_exporter": "python",
   "pygments_lexer": "ipython2",
   "version": "2.7.6"
  }
 },
 "nbformat": 4,
 "nbformat_minor": 0
}
