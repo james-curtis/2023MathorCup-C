{
 "cells": [
  {
   "cell_type": "code",
   "execution_count": 1,
   "metadata": {
    "collapsed": true,
    "ExecuteTime": {
     "start_time": "2023-04-16T09:00:39.332279Z",
     "end_time": "2023-04-16T09:00:52.137727Z"
    }
   },
   "outputs": [
    {
     "name": "stderr",
     "output_type": "stream",
     "text": [
      "D:\\Users\\win\\AppData\\Roaming\\Python\\Python310\\site-packages\\tqdm\\auto.py:21: TqdmWarning: IProgress not found. Please update jupyter and ipywidgets. See https://ipywidgets.readthedocs.io/en/stable/user_install.html\n",
      "  from .autonotebook import tqdm as notebook_tqdm\n"
     ]
    },
    {
     "name": "stdout",
     "output_type": "stream",
     "text": [
      "Invalid device or cannot modify virtual devices once initialized\n"
     ]
    },
    {
     "name": "stderr",
     "output_type": "stream",
     "text": [
      "\n",
      "KeyboardInterrupt\n",
      "\n"
     ]
    }
   ],
   "source": [
    "import pandas as pd\n",
    "import numpy as np\n",
    "import seaborn as sns\n",
    "import matplotlib.pyplot as plt\n",
    "from statsmodels.tsa.stattools import *\n",
    "from statsmodels.graphics.tsaplots import *\n",
    "from catboost import *\n",
    "from sklearn.model_selection import *\n",
    "from sklearn.metrics import *\n",
    "from sklearn.datasets import load_diabetes\n",
    "from sklearn.model_selection import *\n",
    "from sklearn.linear_model import *\n",
    "from sklearn.preprocessing import PolynomialFeatures\n",
    "from sklearn.tree import *\n",
    "from sklearn.ensemble import *\n",
    "from xgboost import XGBRegressor\n",
    "from lightgbm import LGBMRegressor\n",
    "from catboost import CatBoostRegressor\n",
    "from sklearn.svm import *\n",
    "from sklearn.neighbors import *\n",
    "from sklearn.neural_network import *\n",
    "from sklearn.metrics import *\n",
    "import pickle\n",
    "import tensorflow as tf\n",
    "import shap\n",
    "from statsmodels.tsa.arima.model import ARIMA\n",
    "from statsmodels.graphics.tsaplots import *\n",
    "import os\n",
    "\n",
    "# tf.compat.v1.disable_v2_behavior()\n",
    "forceCpu = False\n",
    "# 使用CPU\n",
    "if forceCpu:\n",
    "    cpu = tf.config.list_physical_devices(\"CPU\")\n",
    "    tf.config.set_visible_devices(cpu)\n",
    "    print(tf.config.list_logical_devices())\n",
    "\n",
    "# 动态显存\n",
    "if not forceCpu:\n",
    "    physical_devices = tf.config.list_physical_devices('GPU')\n",
    "    try:\n",
    "        tf.config.experimental.set_memory_growth(physical_devices[0], True)\n",
    "    except:\n",
    "        print('Invalid device or cannot modify virtual devices once initialized')\n",
    "\n",
    "plt.rcParams['font.sans-serif'] = ['SimHei']  # 黑体\n",
    "plt.rcParams['axes.unicode_minus'] = False  # 解决无法显示符号的问题\n",
    "palette = 'deep'\n",
    "sns.set(font='SimHei', font_scale=1.2, style='whitegrid', palette=palette)  # 解决Seaborn中文显示问题\n",
    "\n",
    "rawDataPivot = pd.read_excel('../算法评估/LSTM/LTSM预测值填充-物流网络历史货量数据.xlsx')\n",
    "\n",
    "# # 宽表转长表\n",
    "rawData = pd.melt(rawDataPivot, id_vars=['场地1', '场地2'], var_name='日期', value_name='货量')"
   ]
  },
  {
   "cell_type": "code",
   "execution_count": null,
   "outputs": [],
   "source": [
    "rawDataPivot.head()"
   ],
   "metadata": {
    "collapsed": false,
    "ExecuteTime": {
     "start_time": "2023-04-16T09:00:52.138724Z",
     "end_time": "2023-04-16T09:00:52.180583Z"
    }
   }
  },
  {
   "cell_type": "code",
   "execution_count": null,
   "outputs": [],
   "source": [
    "rawData.head()"
   ],
   "metadata": {
    "collapsed": false,
    "ExecuteTime": {
     "start_time": "2023-04-16T09:00:52.169620Z",
     "end_time": "2023-04-16T09:00:52.226431Z"
    }
   }
  },
  {
   "cell_type": "code",
   "execution_count": null,
   "outputs": [],
   "source": [
    "def getxy():\n",
    "    targetKey = '货量'\n",
    "    # 对场地进行编码\n",
    "\n",
    "    df = rawData.copy()\n",
    "    # df = df[(df['场地1'] == 'DC14') & (df['场地2'] == 'DC10')].reset_index(drop=True)\n",
    "    df['场地1'] = df['场地1'].str.replace('DC', '')\n",
    "    df['场地1'] = df['场地1'].astype('int64')\n",
    "    df['场地2'] = df['场地2'].str.replace('DC', '')\n",
    "    df['场地2'] = df['场地2'].astype('int64')\n",
    "\n",
    "    df['日期'] = pd.to_datetime(df['日期'])\n",
    "    df['日期'] = df['日期'] - df['日期'].min()\n",
    "    df['日期'] = df['日期'].apply(lambda x: x.days)\n",
    "\n",
    "    df['货量'] = np.log(df['货量'])\n",
    "    return df.drop(targetKey, axis=1), df[targetKey], df\n",
    "\n",
    "\n",
    "def getPibotXy():\n",
    "    # 对场地进行编码\n",
    "\n",
    "    df = rawDataPivot.copy()\n",
    "    df['场地1'] = df['场地1'].str.replace('DC', '')\n",
    "    df['场地1'] = df['场地1'].astype('int64')\n",
    "    df['场地2'] = df['场地2'].str.replace('DC', '')\n",
    "    df['场地2'] = df['场地2'].astype('int64')\n",
    "\n",
    "    df.iloc[:, 2:] = np.log(df.iloc[:, 2:])\n",
    "    return df"
   ],
   "metadata": {
    "collapsed": false,
    "ExecuteTime": {
     "start_time": "2023-04-16T09:00:52.186563Z",
     "end_time": "2023-04-16T09:00:52.241380Z"
    }
   }
  },
  {
   "cell_type": "code",
   "execution_count": null,
   "outputs": [],
   "source": [
    "_, _, data = getxy()\n"
   ],
   "metadata": {
    "collapsed": false,
    "ExecuteTime": {
     "start_time": "2023-04-16T09:00:52.199522Z",
     "end_time": "2023-04-16T09:00:54.193850Z"
    }
   }
  },
  {
   "cell_type": "code",
   "execution_count": null,
   "outputs": [],
   "source": [
    "filterSize = 5"
   ],
   "metadata": {
    "collapsed": false,
    "ExecuteTime": {
     "start_time": "2023-04-16T09:00:54.195844Z",
     "end_time": "2023-04-16T09:00:54.208800Z"
    }
   }
  },
  {
   "cell_type": "code",
   "execution_count": null,
   "outputs": [],
   "source": [
    "modelPath = '../算法评估/LSTM/LSTM.1.h5'\n",
    "\n",
    "\n",
    "# 定义自定义指标函数\n",
    "def r_square(y_true, y_pred):\n",
    "    SS_res = tf.keras.backend.sum(tf.keras.backend.square(y_true - y_pred))\n",
    "    SS_tot = tf.keras.backend.sum(tf.keras.backend.square(y_true - tf.keras.backend.mean(y_true)))\n",
    "    return (1 - SS_res / (SS_tot + tf.keras.backend.epsilon()))\n",
    "\n",
    "\n",
    "model = tf.keras.models.load_model(modelPath, custom_objects={'r_square': r_square})\n",
    "metrics = r_square\n",
    "metricsName = metrics.__name__\n",
    "model.compile(loss='mse', optimizer='adam', metrics=[metrics])\n",
    "\n",
    "# # 测试模型\n",
    "# y_pred = model.predict(trainX, batch_size=5000)\n",
    "# y_pred = np.round(np.exp(y_pred))"
   ],
   "metadata": {
    "collapsed": false,
    "ExecuteTime": {
     "start_time": "2023-04-16T09:00:54.208800Z",
     "end_time": "2023-04-16T09:00:54.470924Z"
    }
   }
  },
  {
   "cell_type": "code",
   "execution_count": null,
   "outputs": [],
   "source": [
    "trainX = rawDataPivot.iloc[:, -4:]\n",
    "trainX"
   ],
   "metadata": {
    "collapsed": false,
    "ExecuteTime": {
     "start_time": "2023-04-16T09:00:54.471919Z",
     "end_time": "2023-04-16T09:00:54.485878Z"
    }
   }
  },
  {
   "cell_type": "code",
   "execution_count": null,
   "outputs": [],
   "source": [
    "import datetime\n",
    "\n",
    "rawDataPivotPredict = getPibotXy()\n",
    "print(rawDataPivotPredict.dtypes)\n",
    "rawDataPivotPredict.head()"
   ],
   "metadata": {
    "collapsed": false,
    "ExecuteTime": {
     "start_time": "2023-04-16T09:00:54.487866Z",
     "end_time": "2023-04-16T09:00:54.634376Z"
    }
   }
  },
  {
   "cell_type": "code",
   "execution_count": null,
   "outputs": [],
   "source": [
    "预测长度 = 30\n",
    "for i in range(0, 预测长度 + 1):\n",
    "    # 测试变量形状\n",
    "    temp = pd.merge(rawDataPivotPredict.iloc[:, :2], rawDataPivotPredict.iloc[:, 0 - 4:], left_index=True,\n",
    "                    right_index=True)\n",
    "    temp = pd.melt(temp, id_vars=['场地1', '场地2'], var_name='日期', value_name='货量')\n",
    "\n",
    "    temp['日期'] = pd.to_datetime(temp['日期'])\n",
    "    temp['日期'] = temp['日期'] - rawData['日期'].min()\n",
    "    temp['日期'] = temp['日期'].apply(lambda x: x.days)\n",
    "\n",
    "    # print(temp.dtypes)\n",
    "    # temp\n",
    "\n",
    "    # ------------------------------\n",
    "\n",
    "    # 准备数据\n",
    "\n",
    "    # 按照时间排序\n",
    "    data = temp.sort_values('日期')\n",
    "\n",
    "    # 将每条有向边转换成一个序列\n",
    "    dataset = []\n",
    "    for _, group in data.groupby(['场地1', '场地2']):\n",
    "        dataset.append(group.values)\n",
    "\n",
    "    # print(f'dataset数量: {len(dataset)}')\n",
    "    # print(dataset[0].shape)\n",
    "\n",
    "    # ------------------------------\n",
    "\n",
    "    look_back = filterSize - 1\n",
    "    trainX = []\n",
    "    for i in range(len(dataset)):\n",
    "        train_x = np.reshape(dataset[i], (1, 4, 4))\n",
    "        trainX.append(train_x)\n",
    "\n",
    "    trainX = np.concatenate(trainX)\n",
    "    trainX = trainX.astype('float64')\n",
    "    # print(trainX.shape)\n",
    "    # trainX\n",
    "\n",
    "    # ------------------------------\n",
    "\n",
    "    # 先预测后一天\n",
    "    y_pred = model.predict(trainX, batch_size=1000)\n",
    "    nextCol = rawDataPivotPredict.columns[-1] + datetime.timedelta(days=1)\n",
    "    rawDataPivotPredict[nextCol] = y_pred\n",
    "    # print(rawDataPivotPredict)\n",
    "    # break\n",
    "\n",
    "    # 再自回归\n",
    "    model.fit(trainX, y_pred, epochs=200, batch_size=5000)\n"
   ],
   "metadata": {
    "collapsed": false,
    "ExecuteTime": {
     "start_time": "2023-04-16T09:00:54.626403Z",
     "end_time": "2023-04-16T09:02:02.141578Z"
    }
   }
  },
  {
   "cell_type": "code",
   "execution_count": null,
   "outputs": [],
   "source": [
    "rawDataPivotPredict.head()"
   ],
   "metadata": {
    "collapsed": false,
    "ExecuteTime": {
     "start_time": "2023-04-16T09:02:02.137586Z",
     "end_time": "2023-04-16T09:02:02.195393Z"
    }
   }
  },
  {
   "cell_type": "code",
   "execution_count": null,
   "outputs": [],
   "source": [
    "rawDataPivotPredict.iloc[:, 2:] = np.round(np.exp(rawDataPivotPredict.iloc[:, 2:]))"
   ],
   "metadata": {
    "collapsed": false,
    "ExecuteTime": {
     "start_time": "2023-04-16T09:02:02.168483Z",
     "end_time": "2023-04-16T09:02:02.302037Z"
    }
   }
  },
  {
   "cell_type": "code",
   "execution_count": null,
   "outputs": [],
   "source": [
    "rawDataPivotPredict"
   ],
   "metadata": {
    "collapsed": false,
    "ExecuteTime": {
     "start_time": "2023-04-16T09:02:02.243233Z",
     "end_time": "2023-04-16T09:02:02.302037Z"
    }
   }
  },
  {
   "cell_type": "code",
   "execution_count": null,
   "outputs": [],
   "source": [
    "print(rawDataPivotPredict.columns[4])\n",
    "print(type(rawDataPivotPredict.columns[4]))\n",
    "isinstance(rawDataPivotPredict.columns[4], datetime.datetime)"
   ],
   "metadata": {
    "collapsed": false,
    "ExecuteTime": {
     "start_time": "2023-04-16T09:02:02.274129Z",
     "end_time": "2023-04-16T09:02:02.302037Z"
    }
   }
  },
  {
   "cell_type": "code",
   "execution_count": null,
   "outputs": [],
   "source": [
    "for col in rawDataPivotPredict.columns:\n",
    "    # 判断列是否为日期时间类型\n",
    "    if isinstance(col, datetime.datetime):\n",
    "        # 将日期时间转换为日期，并将结果存储回原来的列名\n",
    "        new_col_name = col.strftime('%Y-%m-%d')\n",
    "        print(new_col_name)\n",
    "        rawDataPivotPredict = rawDataPivotPredict.rename(columns={col: new_col_name})\n",
    "        rawDataPivotPredict[new_col_name] = rawDataPivotPredict[new_col_name].astype('int64')\n",
    "\n",
    "rawDataPivotPredict.columns"
   ],
   "metadata": {
    "collapsed": false,
    "ExecuteTime": {
     "start_time": "2023-04-16T09:02:02.287087Z",
     "end_time": "2023-04-16T09:02:03.961486Z"
    }
   }
  },
  {
   "cell_type": "code",
   "execution_count": null,
   "outputs": [],
   "source": [
    "rawDataPivotPredict"
   ],
   "metadata": {
    "collapsed": false,
    "ExecuteTime": {
     "start_time": "2023-04-16T09:03:02.014900Z",
     "end_time": "2023-04-16T09:03:02.042811Z"
    }
   }
  },
  {
   "cell_type": "code",
   "execution_count": null,
   "outputs": [],
   "source": [
    "rawDataPivotPredict.to_excel('第一问结果LTSM-物流网络历史货量数据.xlsx', index=False)"
   ],
   "metadata": {
    "collapsed": false,
    "ExecuteTime": {
     "start_time": "2023-04-16T09:02:03.992387Z",
     "end_time": "2023-04-16T09:02:15.162032Z"
    }
   }
  }
 ],
 "metadata": {
  "kernelspec": {
   "display_name": "Python 3",
   "language": "python",
   "name": "python3"
  },
  "language_info": {
   "codemirror_mode": {
    "name": "ipython",
    "version": 2
   },
   "file_extension": ".py",
   "mimetype": "text/x-python",
   "name": "python",
   "nbconvert_exporter": "python",
   "pygments_lexer": "ipython2",
   "version": "2.7.6"
  }
 },
 "nbformat": 4,
 "nbformat_minor": 0
}
