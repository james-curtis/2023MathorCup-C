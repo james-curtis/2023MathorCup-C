{
 "cells": [
  {
   "cell_type": "code",
   "execution_count": 41,
   "outputs": [],
   "source": [
    "import pandas as pd\n",
    "import numpy as np\n",
    "import seaborn as sns\n",
    "import matplotlib.pyplot as plt\n",
    "from statsmodels.tsa.stattools import *\n",
    "from statsmodels.graphics.tsaplots import *\n",
    "from catboost import *\n",
    "from sklearn.model_selection import *\n",
    "from sklearn.metrics import *\n",
    "from sklearn.datasets import load_diabetes\n",
    "from sklearn.model_selection import *\n",
    "from sklearn.linear_model import *\n",
    "from sklearn.preprocessing import PolynomialFeatures\n",
    "from sklearn.tree import *\n",
    "from sklearn.ensemble import *\n",
    "from xgboost import XGBRegressor\n",
    "from lightgbm import LGBMRegressor\n",
    "from catboost import CatBoostRegressor\n",
    "from sklearn.svm import *\n",
    "from sklearn.neighbors import *\n",
    "from sklearn.neural_network import *\n",
    "from sklearn.metrics import *\n",
    "import pickle\n",
    "import tensorflow as tf\n",
    "import shap\n",
    "from statsmodels.tsa.arima.model import ARIMA\n",
    "from statsmodels.graphics.tsaplots import *\n",
    "import os\n",
    "\n",
    "plt.rcParams['font.sans-serif'] = ['SimHei']  # 黑体\n",
    "plt.rcParams['axes.unicode_minus'] = False  # 解决无法显示符号的问题\n",
    "palette = 'deep'\n",
    "sns.set(font='SimHei', font_scale=1.2, style='whitegrid', palette=palette)  # 解决Seaborn中文显示问题\n",
    "\n",
    "rawData = pd.read_excel('../../../原始数据/附件1：物流网络历史货量数据.xlsx')\n",
    "\n",
    "\n"
   ],
   "metadata": {
    "collapsed": false,
    "ExecuteTime": {
     "start_time": "2023-04-15T21:48:34.164896Z",
     "end_time": "2023-04-15T21:48:45.310191Z"
    }
   }
  },
  {
   "cell_type": "code",
   "execution_count": 67,
   "metadata": {
    "collapsed": true,
    "ExecuteTime": {
     "start_time": "2023-04-15T21:54:44.573340Z",
     "end_time": "2023-04-15T21:54:44.579320Z"
    }
   },
   "outputs": [],
   "source": [
    "filterSize = 2\n",
    "def getxy():\n",
    "    targetKey = '货量'\n",
    "    # 对场地进行编码\n",
    "\n",
    "    df = rawData.copy()\n",
    "    # df = df[(df['场地1'] == 'DC14') & (df['场地2'] == 'DC10')].reset_index(drop=True)\n",
    "    df['场地1'] = df['场地1'].str.replace('DC', '')\n",
    "    df['场地1'] = df['场地1'].astype('int64')\n",
    "    df['场地2'] = df['场地2'].str.replace('DC', '')\n",
    "    df['场地2'] = df['场地2'].astype('int64')\n",
    "\n",
    "    df['日期'] = pd.to_datetime(df['日期'])\n",
    "    df['日期'] = df['日期'] - df['日期'].min()\n",
    "    df['日期'] = df['日期'].apply(lambda x: x.days)\n",
    "\n",
    "    df['货量'] = np.log(df['货量'])\n",
    "    # return df.drop(targetKey, axis=1), df[targetKey], df\n",
    "\n",
    "    grouped = df.groupby(['场地1', '场地2']).size().reset_index(name='count')\n",
    "    merged = pd.merge(df, grouped, on=['场地1', '场地2'], how='left').reset_index(drop=True)\n",
    "    ltSize = merged[merged['count'] < filterSize]\n",
    "    print(f'总行数有：{df.shape}')\n",
    "    print(f'数据小于{filterSize}的行数有：{ltSize.shape}')\n",
    "    filtered = merged[merged['count'] >= filterSize]\n",
    "    filtered = filtered.drop('count', axis=1)\n",
    "    print(f'清洗后数量：{filtered.shape}')\n",
    "    return filtered.drop(targetKey, axis=1), filtered[targetKey], filtered, ltSize, df"
   ]
  },
  {
   "cell_type": "code",
   "execution_count": 68,
   "outputs": [
    {
     "name": "stdout",
     "output_type": "stream",
     "text": [
      "总行数有：(177847, 4)\n",
      "数据小于2的行数有：(121, 5)\n",
      "清洗后数量：(177726, 4)\n"
     ]
    }
   ],
   "source": [
    "_, _, filtered, ltSize, df = getxy()"
   ],
   "metadata": {
    "collapsed": false,
    "ExecuteTime": {
     "start_time": "2023-04-15T21:54:44.954062Z",
     "end_time": "2023-04-15T21:54:45.539189Z"
    }
   }
  },
  {
   "cell_type": "code",
   "execution_count": 69,
   "outputs": [
    {
     "data": {
      "text/plain": "        场地1  场地2   日期        货量  count\n2332     43   45    9  1.386294      1\n4155      7   34   17  1.098612      1\n4624     58   29   18  0.000000      1\n4660      9   22   19  1.609438      1\n5207     14   67   21  0.693147      1\n...     ...  ...  ...       ...    ...\n171718   33   65  711  0.000000      1\n172254   65   43  712  1.098612      1\n174015   10   59  718  3.465736      1\n174469   32   10  719  1.609438      1\n177825   69    3  729  0.693147      1\n\n[121 rows x 5 columns]",
      "text/html": "<div>\n<style scoped>\n    .dataframe tbody tr th:only-of-type {\n        vertical-align: middle;\n    }\n\n    .dataframe tbody tr th {\n        vertical-align: top;\n    }\n\n    .dataframe thead th {\n        text-align: right;\n    }\n</style>\n<table border=\"1\" class=\"dataframe\">\n  <thead>\n    <tr style=\"text-align: right;\">\n      <th></th>\n      <th>场地1</th>\n      <th>场地2</th>\n      <th>日期</th>\n      <th>货量</th>\n      <th>count</th>\n    </tr>\n  </thead>\n  <tbody>\n    <tr>\n      <th>2332</th>\n      <td>43</td>\n      <td>45</td>\n      <td>9</td>\n      <td>1.386294</td>\n      <td>1</td>\n    </tr>\n    <tr>\n      <th>4155</th>\n      <td>7</td>\n      <td>34</td>\n      <td>17</td>\n      <td>1.098612</td>\n      <td>1</td>\n    </tr>\n    <tr>\n      <th>4624</th>\n      <td>58</td>\n      <td>29</td>\n      <td>18</td>\n      <td>0.000000</td>\n      <td>1</td>\n    </tr>\n    <tr>\n      <th>4660</th>\n      <td>9</td>\n      <td>22</td>\n      <td>19</td>\n      <td>1.609438</td>\n      <td>1</td>\n    </tr>\n    <tr>\n      <th>5207</th>\n      <td>14</td>\n      <td>67</td>\n      <td>21</td>\n      <td>0.693147</td>\n      <td>1</td>\n    </tr>\n    <tr>\n      <th>...</th>\n      <td>...</td>\n      <td>...</td>\n      <td>...</td>\n      <td>...</td>\n      <td>...</td>\n    </tr>\n    <tr>\n      <th>171718</th>\n      <td>33</td>\n      <td>65</td>\n      <td>711</td>\n      <td>0.000000</td>\n      <td>1</td>\n    </tr>\n    <tr>\n      <th>172254</th>\n      <td>65</td>\n      <td>43</td>\n      <td>712</td>\n      <td>1.098612</td>\n      <td>1</td>\n    </tr>\n    <tr>\n      <th>174015</th>\n      <td>10</td>\n      <td>59</td>\n      <td>718</td>\n      <td>3.465736</td>\n      <td>1</td>\n    </tr>\n    <tr>\n      <th>174469</th>\n      <td>32</td>\n      <td>10</td>\n      <td>719</td>\n      <td>1.609438</td>\n      <td>1</td>\n    </tr>\n    <tr>\n      <th>177825</th>\n      <td>69</td>\n      <td>3</td>\n      <td>729</td>\n      <td>0.693147</td>\n      <td>1</td>\n    </tr>\n  </tbody>\n</table>\n<p>121 rows × 5 columns</p>\n</div>"
     },
     "execution_count": 69,
     "metadata": {},
     "output_type": "execute_result"
    }
   ],
   "source": [
    "ltSize"
   ],
   "metadata": {
    "collapsed": false,
    "ExecuteTime": {
     "start_time": "2023-04-15T21:54:45.540102Z",
     "end_time": "2023-04-15T21:54:45.554055Z"
    }
   }
  },
  {
   "cell_type": "code",
   "execution_count": 70,
   "outputs": [
    {
     "name": "stdout",
     "output_type": "stream",
     "text": [
      "场地1  场地2\n",
      "1    8      1\n",
      "3    19     1\n",
      "     28     1\n",
      "     30     1\n",
      "     38     1\n",
      "           ..\n",
      "70   34     1\n",
      "73   20     1\n",
      "75   35     1\n",
      "76   8      1\n",
      "77   6      1\n",
      "Length: 121, dtype: int64\n"
     ]
    }
   ],
   "source": [
    "print(ltSize.groupby(['场地1', '场地2']).size())"
   ],
   "metadata": {
    "collapsed": false,
    "ExecuteTime": {
     "start_time": "2023-04-15T21:54:45.766345Z",
     "end_time": "2023-04-15T21:54:45.789273Z"
    }
   }
  },
  {
   "cell_type": "code",
   "execution_count": 45,
   "outputs": [],
   "source": [],
   "metadata": {
    "collapsed": false,
    "ExecuteTime": {
     "start_time": "2023-04-15T21:48:45.955033Z",
     "end_time": "2023-04-15T21:48:45.973975Z"
    }
   }
  }
 ],
 "metadata": {
  "kernelspec": {
   "display_name": "Python 3",
   "language": "python",
   "name": "python3"
  },
  "language_info": {
   "codemirror_mode": {
    "name": "ipython",
    "version": 2
   },
   "file_extension": ".py",
   "mimetype": "text/x-python",
   "name": "python",
   "nbconvert_exporter": "python",
   "pygments_lexer": "ipython2",
   "version": "2.7.6"
  }
 },
 "nbformat": 4,
 "nbformat_minor": 0
}
