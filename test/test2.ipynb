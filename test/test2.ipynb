{
 "cells": [
  {
   "cell_type": "code",
   "execution_count": 5,
   "outputs": [
    {
     "name": "stdout",
     "output_type": "stream",
     "text": [
      "   场地1  场地2          日期  货量\n",
      "0  DC1  DC8  2021-01-01   3\n",
      "   场地1  场地2          日期  货量\n",
      "1  DC3  DC8  2021-01-02   3\n"
     ]
    }
   ],
   "source": [
    "import pandas as pd\n",
    "\n",
    "# 创建示例DataFrame\n",
    "df = pd.DataFrame({\n",
    "    '场地1': ['DC1', 'DC3'],\n",
    "    '场地2': ['DC8', 'DC8'],\n",
    "    '日期': ['2021-01-01', '2021-01-02'],\n",
    "    '货量': [3, 3]\n",
    "})\n",
    "\n",
    "# 进行groupby操作，将结果提取出来形成新的DataFrame\n",
    "grouped_df = df.groupby(['场地1', '场地2'])\n",
    "new_dfs = [grouped_df.get_group(x) for x in grouped_df.groups]\n",
    "\n",
    "# 打印结果\n",
    "for ndf in new_dfs:\n",
    "    print(ndf)\n"
   ],
   "metadata": {
    "collapsed": false,
    "ExecuteTime": {
     "start_time": "2023-04-16T10:06:56.840409Z",
     "end_time": "2023-04-16T10:06:56.860413Z"
    }
   }
  },
  {
   "cell_type": "code",
   "execution_count": null,
   "outputs": [],
   "source": [],
   "metadata": {
    "collapsed": false
   }
  }
 ],
 "metadata": {
  "kernelspec": {
   "display_name": "Python 3",
   "language": "python",
   "name": "python3"
  },
  "language_info": {
   "codemirror_mode": {
    "name": "ipython",
    "version": 2
   },
   "file_extension": ".py",
   "mimetype": "text/x-python",
   "name": "python",
   "nbconvert_exporter": "python",
   "pygments_lexer": "ipython2",
   "version": "2.7.6"
  }
 },
 "nbformat": 4,
 "nbformat_minor": 0
}
