{
 "cells": [
  {
   "cell_type": "code",
   "execution_count": 3,
   "metadata": {
    "collapsed": true,
    "ExecuteTime": {
     "start_time": "2023-04-16T15:48:12.852424Z",
     "end_time": "2023-04-16T15:48:12.861425Z"
    }
   },
   "outputs": [],
   "source": [
    "import numpy as np\n",
    "import pandas as pd"
   ]
  },
  {
   "cell_type": "code",
   "execution_count": 7,
   "outputs": [],
   "source": [
    "df = pd.read_excel('时间窗口为5-第一问结果LTSM-物流网络历史货量数据.xlsx')\n"
   ],
   "metadata": {
    "collapsed": false,
    "ExecuteTime": {
     "start_time": "2023-04-16T15:50:21.101363Z",
     "end_time": "2023-04-16T15:50:28.740558Z"
    }
   }
  },
  {
   "cell_type": "code",
   "execution_count": 24,
   "outputs": [],
   "source": [
    "filteredDf = df[\n",
    "    ((df['场地1'] == 14) & (df['场地2'] == 10)) |\n",
    "    ((df['场地1'] == 20) & (df['场地2'] == 35)) |\n",
    "    ((df['场地1'] == 25) & (df['场地2'] == 62))\n",
    "    ]\n",
    "idxDf = filteredDf.iloc[:, :2]\n",
    "filteredDf = filteredDf.iloc[:, -31:]\n",
    "\n",
    "filteredDf = pd.concat([idxDf, filteredDf], axis=1)"
   ],
   "metadata": {
    "collapsed": false,
    "ExecuteTime": {
     "start_time": "2023-04-16T15:56:22.178409Z",
     "end_time": "2023-04-16T15:56:22.184414Z"
    }
   }
  },
  {
   "cell_type": "code",
   "execution_count": 25,
   "outputs": [],
   "source": [
    "res = pd.melt(filteredDf, id_vars=['场地1', '场地2'], var_name='日期', value_name='货量').sort_values(\n",
    "    by=['场地1', '场地2', '日期'])\n",
    "res.to_excel('仅第一问结果.xlsx', index=False)"
   ],
   "metadata": {
    "collapsed": false,
    "ExecuteTime": {
     "start_time": "2023-04-16T15:56:23.524624Z",
     "end_time": "2023-04-16T15:56:23.559629Z"
    }
   }
  }
 ],
 "metadata": {
  "kernelspec": {
   "display_name": "Python 3",
   "language": "python",
   "name": "python3"
  },
  "language_info": {
   "codemirror_mode": {
    "name": "ipython",
    "version": 2
   },
   "file_extension": ".py",
   "mimetype": "text/x-python",
   "name": "python",
   "nbconvert_exporter": "python",
   "pygments_lexer": "ipython2",
   "version": "2.7.6"
  }
 },
 "nbformat": 4,
 "nbformat_minor": 0
}
