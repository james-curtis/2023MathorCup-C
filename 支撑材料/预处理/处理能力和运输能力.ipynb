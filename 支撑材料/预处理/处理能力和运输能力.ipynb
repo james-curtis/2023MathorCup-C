{
 "cells": [
  {
   "cell_type": "code",
   "execution_count": 1,
   "metadata": {
    "collapsed": true,
    "ExecuteTime": {
     "start_time": "2023-04-16T20:33:41.313743Z",
     "end_time": "2023-04-16T20:33:41.332382Z"
    }
   },
   "outputs": [],
   "source": [
    "import pandas as pd\n",
    "import numpy as np"
   ]
  },
  {
   "cell_type": "code",
   "execution_count": 2,
   "outputs": [
    {
     "name": "stdout",
     "output_type": "stream",
     "text": [
      "        场地1  场地2          日期    货量\n",
      "0         1    8  2021-01-01     3\n",
      "1        10   12  2021-01-01   306\n",
      "2        10   13  2021-01-01     4\n",
      "3        10   14  2021-01-01  2613\n",
      "4        10   17  2021-01-01     5\n",
      "...     ...  ...         ...   ...\n",
      "765765    9   58  2022-12-31     1\n",
      "765766    9   62  2022-12-31     2\n",
      "765767    9   67  2022-12-31     1\n",
      "765768    9   79  2022-12-31     2\n",
      "765769    9    8  2022-12-31     5\n",
      "\n",
      "[765770 rows x 4 columns]\n"
     ]
    }
   ],
   "source": [
    "dfPivot = pd.read_excel('左侧填充-物流网络历史货量数据.xlsx')\n",
    "dfMelt = pd.melt(dfPivot, id_vars=['场地1', '场地2'], var_name='日期', value_name='货量')\n",
    "dfMelt['场地1'] = dfMelt['场地1'].str.replace('DC', '')\n",
    "dfMelt['场地1'] = dfMelt['场地1'].astype('int64')\n",
    "dfMelt['场地2'] = dfMelt['场地2'].str.replace('DC', '')\n",
    "dfMelt['场地2'] = dfMelt['场地2'].astype('int64')\n",
    "print(dfMelt)"
   ],
   "metadata": {
    "collapsed": false,
    "ExecuteTime": {
     "start_time": "2023-04-16T20:33:41.333378Z",
     "end_time": "2023-04-16T20:33:49.726388Z"
    }
   }
  },
  {
   "cell_type": "code",
   "execution_count": 3,
   "outputs": [
    {
     "name": "stdout",
     "output_type": "stream",
     "text": [
      "      场地1  场地2    货量\n",
      "0       1    8  2190\n",
      "1       2    3  4756\n",
      "2       2    4  7252\n",
      "3       2    5  3797\n",
      "4       2    8  1604\n",
      "...   ...  ...   ...\n",
      "1044   76    8  2920\n",
      "1045   76   10  2455\n",
      "1046   76   14  1175\n",
      "1047   76   62  1429\n",
      "1048   77    6  1460\n",
      "\n",
      "[1049 rows x 3 columns]\n"
     ]
    }
   ],
   "source": [
    "# 每条线路运输能力\n",
    "total = dfMelt.groupby(['场地1', '场地2']).sum()\n",
    "total = total.drop('日期', axis=1).reset_index()\n",
    "print(total)\n",
    "total.to_excel('线路运输能力.xlsx', sheet_name='线路运输能力', index=False)"
   ],
   "metadata": {
    "collapsed": false,
    "ExecuteTime": {
     "start_time": "2023-04-16T20:33:49.726388Z",
     "end_time": "2023-04-16T20:33:49.979568Z"
    }
   }
  },
  {
   "cell_type": "code",
   "execution_count": 4,
   "outputs": [
    {
     "name": "stdout",
     "output_type": "stream",
     "text": [
      "    场地         货量\n",
      "0    1       2190\n",
      "1    2      39873\n",
      "2    3   43112783\n",
      "3    4  226800525\n",
      "4    5   50764637\n",
      "..  ..        ...\n",
      "76  77       1460\n",
      "77  78       5548\n",
      "78  79       1460\n",
      "79  80        730\n",
      "80  81    4557073\n",
      "\n",
      "[81 rows x 2 columns]\n"
     ]
    }
   ],
   "source": [
    "# 每个场地处理能力\n",
    "total1 = dfMelt.groupby(['场地1']).sum()\n",
    "total1 = total1.drop(['日期', '场地2'], axis=1).reset_index()\n",
    "total1.columns = ['场地', '货量']\n",
    "# print(total1)\n",
    "total2 = dfMelt.groupby(['场地2']).sum()\n",
    "total2 = total2.drop(['日期', '场地1'], axis=1).reset_index()\n",
    "total2.columns = ['场地', '货量']\n",
    "# print(total2)\n",
    "\n",
    "stationTotal = pd.concat([total1, total2]).groupby(['场地']).sum().reset_index()\n",
    "print(stationTotal)\n",
    "stationTotal.to_excel('场地处理能力.xlsx', sheet_name='场地处理能力', index=False)"
   ],
   "metadata": {
    "collapsed": false,
    "ExecuteTime": {
     "start_time": "2023-04-16T20:33:49.982518Z",
     "end_time": "2023-04-16T20:33:56.054529Z"
    }
   }
  },
  {
   "cell_type": "code",
   "execution_count": 4,
   "outputs": [],
   "source": [],
   "metadata": {
    "collapsed": false,
    "ExecuteTime": {
     "start_time": "2023-04-16T20:33:56.053529Z",
     "end_time": "2023-04-16T20:33:56.082541Z"
    }
   }
  }
 ],
 "metadata": {
  "kernelspec": {
   "display_name": "Python 3",
   "language": "python",
   "name": "python3"
  },
  "language_info": {
   "codemirror_mode": {
    "name": "ipython",
    "version": 2
   },
   "file_extension": ".py",
   "mimetype": "text/x-python",
   "name": "python",
   "nbconvert_exporter": "python",
   "pygments_lexer": "ipython2",
   "version": "2.7.6"
  }
 },
 "nbformat": 4,
 "nbformat_minor": 0
}
