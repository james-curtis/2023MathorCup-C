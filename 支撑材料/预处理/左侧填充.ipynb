{
 "cells": [
  {
   "cell_type": "code",
   "execution_count": 9,
   "metadata": {
    "collapsed": true,
    "ExecuteTime": {
     "start_time": "2023-04-16T20:41:39.533050Z",
     "end_time": "2023-04-16T20:41:45.236051Z"
    }
   },
   "outputs": [
    {
     "name": "stdout",
     "output_type": "stream",
     "text": [
      "场地1                      int64\n",
      "场地2                      int64\n",
      "2021-01-01 00:00:00    float64\n",
      "2021-01-02 00:00:00    float64\n",
      "2021-01-03 00:00:00    float64\n",
      "                        ...   \n",
      "2022-12-27 00:00:00    float64\n",
      "2022-12-28 00:00:00    float64\n",
      "2022-12-29 00:00:00    float64\n",
      "2022-12-30 00:00:00    float64\n",
      "2022-12-31 00:00:00    float64\n",
      "Length: 732, dtype: object\n"
     ]
    },
    {
     "data": {
      "text/plain": "   场地1  场地2  2021-01-01 00:00:00  2021-01-02 00:00:00  2021-01-03 00:00:00   \n0    1    8                  NaN                  NaN                  NaN  \\\n1    2    3                  NaN                  NaN                  NaN   \n2    2    4                  NaN                  NaN                  NaN   \n3    2    5                  NaN                  NaN                  NaN   \n4    2    8                  NaN                  NaN                  NaN   \n\n   2021-01-04 00:00:00  2021-01-05 00:00:00  2021-01-06 00:00:00   \n0                  NaN                  NaN                  NaN  \\\n1                  NaN                  NaN                  NaN   \n2                  NaN                  NaN                  NaN   \n3                  NaN                  NaN                  NaN   \n4                  NaN                  NaN                  NaN   \n\n   2021-01-07 00:00:00  2021-01-08 00:00:00  ...  2022-12-22 00:00:00   \n0                  NaN                  NaN  ...                  NaN  \\\n1                  NaN                  NaN  ...                  NaN   \n2                  NaN                  NaN  ...                  NaN   \n3                  NaN                  NaN  ...                  NaN   \n4                  NaN                  NaN  ...                  NaN   \n\n   2022-12-23 00:00:00  2022-12-24 00:00:00  2022-12-25 00:00:00   \n0                  NaN                  NaN                  NaN  \\\n1                  NaN                  NaN                  NaN   \n2                  NaN                  NaN                  NaN   \n3                  NaN                  NaN                  NaN   \n4                  NaN                  NaN                  NaN   \n\n   2022-12-26 00:00:00  2022-12-27 00:00:00  2022-12-28 00:00:00   \n0                  NaN                  NaN                  NaN  \\\n1                  NaN                  NaN                  NaN   \n2                  NaN                  NaN                  NaN   \n3                  NaN                  NaN                  NaN   \n4                  NaN                  NaN                  NaN   \n\n   2022-12-29 00:00:00  2022-12-30 00:00:00  2022-12-31 00:00:00  \n0                  NaN                  NaN                  NaN  \n1                  NaN                  NaN                  NaN  \n2                  NaN                  NaN                  NaN  \n3                  NaN                  NaN                  NaN  \n4                  NaN                  NaN                  NaN  \n\n[5 rows x 732 columns]",
      "text/html": "<div>\n<style scoped>\n    .dataframe tbody tr th:only-of-type {\n        vertical-align: middle;\n    }\n\n    .dataframe tbody tr th {\n        vertical-align: top;\n    }\n\n    .dataframe thead th {\n        text-align: right;\n    }\n</style>\n<table border=\"1\" class=\"dataframe\">\n  <thead>\n    <tr style=\"text-align: right;\">\n      <th></th>\n      <th>场地1</th>\n      <th>场地2</th>\n      <th>2021-01-01 00:00:00</th>\n      <th>2021-01-02 00:00:00</th>\n      <th>2021-01-03 00:00:00</th>\n      <th>2021-01-04 00:00:00</th>\n      <th>2021-01-05 00:00:00</th>\n      <th>2021-01-06 00:00:00</th>\n      <th>2021-01-07 00:00:00</th>\n      <th>2021-01-08 00:00:00</th>\n      <th>...</th>\n      <th>2022-12-22 00:00:00</th>\n      <th>2022-12-23 00:00:00</th>\n      <th>2022-12-24 00:00:00</th>\n      <th>2022-12-25 00:00:00</th>\n      <th>2022-12-26 00:00:00</th>\n      <th>2022-12-27 00:00:00</th>\n      <th>2022-12-28 00:00:00</th>\n      <th>2022-12-29 00:00:00</th>\n      <th>2022-12-30 00:00:00</th>\n      <th>2022-12-31 00:00:00</th>\n    </tr>\n  </thead>\n  <tbody>\n    <tr>\n      <th>0</th>\n      <td>1</td>\n      <td>8</td>\n      <td>NaN</td>\n      <td>NaN</td>\n      <td>NaN</td>\n      <td>NaN</td>\n      <td>NaN</td>\n      <td>NaN</td>\n      <td>NaN</td>\n      <td>NaN</td>\n      <td>...</td>\n      <td>NaN</td>\n      <td>NaN</td>\n      <td>NaN</td>\n      <td>NaN</td>\n      <td>NaN</td>\n      <td>NaN</td>\n      <td>NaN</td>\n      <td>NaN</td>\n      <td>NaN</td>\n      <td>NaN</td>\n    </tr>\n    <tr>\n      <th>1</th>\n      <td>2</td>\n      <td>3</td>\n      <td>NaN</td>\n      <td>NaN</td>\n      <td>NaN</td>\n      <td>NaN</td>\n      <td>NaN</td>\n      <td>NaN</td>\n      <td>NaN</td>\n      <td>NaN</td>\n      <td>...</td>\n      <td>NaN</td>\n      <td>NaN</td>\n      <td>NaN</td>\n      <td>NaN</td>\n      <td>NaN</td>\n      <td>NaN</td>\n      <td>NaN</td>\n      <td>NaN</td>\n      <td>NaN</td>\n      <td>NaN</td>\n    </tr>\n    <tr>\n      <th>2</th>\n      <td>2</td>\n      <td>4</td>\n      <td>NaN</td>\n      <td>NaN</td>\n      <td>NaN</td>\n      <td>NaN</td>\n      <td>NaN</td>\n      <td>NaN</td>\n      <td>NaN</td>\n      <td>NaN</td>\n      <td>...</td>\n      <td>NaN</td>\n      <td>NaN</td>\n      <td>NaN</td>\n      <td>NaN</td>\n      <td>NaN</td>\n      <td>NaN</td>\n      <td>NaN</td>\n      <td>NaN</td>\n      <td>NaN</td>\n      <td>NaN</td>\n    </tr>\n    <tr>\n      <th>3</th>\n      <td>2</td>\n      <td>5</td>\n      <td>NaN</td>\n      <td>NaN</td>\n      <td>NaN</td>\n      <td>NaN</td>\n      <td>NaN</td>\n      <td>NaN</td>\n      <td>NaN</td>\n      <td>NaN</td>\n      <td>...</td>\n      <td>NaN</td>\n      <td>NaN</td>\n      <td>NaN</td>\n      <td>NaN</td>\n      <td>NaN</td>\n      <td>NaN</td>\n      <td>NaN</td>\n      <td>NaN</td>\n      <td>NaN</td>\n      <td>NaN</td>\n    </tr>\n    <tr>\n      <th>4</th>\n      <td>2</td>\n      <td>8</td>\n      <td>NaN</td>\n      <td>NaN</td>\n      <td>NaN</td>\n      <td>NaN</td>\n      <td>NaN</td>\n      <td>NaN</td>\n      <td>NaN</td>\n      <td>NaN</td>\n      <td>...</td>\n      <td>NaN</td>\n      <td>NaN</td>\n      <td>NaN</td>\n      <td>NaN</td>\n      <td>NaN</td>\n      <td>NaN</td>\n      <td>NaN</td>\n      <td>NaN</td>\n      <td>NaN</td>\n      <td>NaN</td>\n    </tr>\n  </tbody>\n</table>\n<p>5 rows × 732 columns</p>\n</div>"
     },
     "execution_count": 9,
     "metadata": {},
     "output_type": "execute_result"
    }
   ],
   "source": [
    "import pandas as pd\n",
    "import numpy as np\n",
    "import seaborn as sns\n",
    "import matplotlib.pyplot as plt\n",
    "import datetime\n",
    "\n",
    "plt.rcParams['font.sans-serif'] = ['SimHei']  # 黑体\n",
    "plt.rcParams['axes.unicode_minus'] = False  # 解决无法显示符号的问题\n",
    "palette = 'deep'\n",
    "sns.set(font='SimHei', font_scale=1.2, style='whitegrid', palette=palette)  # 解决Seaborn中文显示问题\n",
    "\n",
    "rawData = pd.read_excel('None空值填充-物流网络历史货量数据.xlsx')\n",
    "# rawData['场地1'] = rawData['场地1'].str.replace('DC', '')\n",
    "# rawData['场地1'] = rawData['场地1'].astype('int64')\n",
    "# rawData['场地2'] = rawData['场地2'].str.replace('DC', '')\n",
    "# rawData['场地2'] = rawData['场地2'].astype('int64')\n",
    "print(rawData.dtypes)\n",
    "rawData.head()"
   ]
  },
  {
   "cell_type": "code",
   "execution_count": 10,
   "outputs": [
    {
     "data": {
      "text/plain": "Index(['场地1', '场地2', '2021-01-01', '2021-01-02', '2021-01-03', '2021-01-04',\n       '2021-01-05', '2021-01-06', '2021-01-07', '2021-01-08',\n       ...\n       '2022-12-22', '2022-12-23', '2022-12-24', '2022-12-25', '2022-12-26',\n       '2022-12-27', '2022-12-28', '2022-12-29', '2022-12-30', '2022-12-31'],\n      dtype='object', length=732)"
     },
     "execution_count": 10,
     "metadata": {},
     "output_type": "execute_result"
    }
   ],
   "source": [
    "for col in rawData.columns:\n",
    "    # 判断列是否为日期时间类型\n",
    "    if isinstance(col, datetime.datetime):\n",
    "        # 将日期时间转换为日期，并将结果存储回原来的列名\n",
    "        new_col_name = col.strftime('%Y-%m-%d')\n",
    "        rawData = rawData.rename(columns={col: new_col_name})\n",
    "\n",
    "rawData.columns"
   ],
   "metadata": {
    "collapsed": false,
    "ExecuteTime": {
     "start_time": "2023-04-16T20:41:45.237049Z",
     "end_time": "2023-04-16T20:41:46.740046Z"
    }
   }
  },
  {
   "cell_type": "code",
   "execution_count": 11,
   "outputs": [
    {
     "data": {
      "text/plain": "   场地1  场地2  2021-01-01  2021-01-02  2021-01-03  2021-01-04  2021-01-05   \n0    1    8         NaN         NaN         NaN         NaN         NaN  \\\n1    2    3         NaN         NaN         NaN         NaN         NaN   \n2    2    4         NaN         NaN         NaN         NaN         NaN   \n3    2    5         NaN         NaN         NaN         NaN         NaN   \n4    2    8         NaN         NaN         NaN         NaN         NaN   \n\n   2021-01-06  2021-01-07  2021-01-08  ...  2022-12-22  2022-12-23   \n0         NaN         NaN         NaN  ...         NaN         NaN  \\\n1         NaN         NaN         NaN  ...         NaN         NaN   \n2         NaN         NaN         NaN  ...         NaN         NaN   \n3         NaN         NaN         NaN  ...         NaN         NaN   \n4         NaN         NaN         NaN  ...         NaN         NaN   \n\n   2022-12-24  2022-12-25  2022-12-26  2022-12-27  2022-12-28  2022-12-29   \n0         NaN         NaN         NaN         NaN         NaN         NaN  \\\n1         NaN         NaN         NaN         NaN         NaN         NaN   \n2         NaN         NaN         NaN         NaN         NaN         NaN   \n3         NaN         NaN         NaN         NaN         NaN         NaN   \n4         NaN         NaN         NaN         NaN         NaN         NaN   \n\n   2022-12-30  2022-12-31  \n0         NaN         NaN  \n1         NaN         NaN  \n2         NaN         NaN  \n3         NaN         NaN  \n4         NaN         NaN  \n\n[5 rows x 732 columns]",
      "text/html": "<div>\n<style scoped>\n    .dataframe tbody tr th:only-of-type {\n        vertical-align: middle;\n    }\n\n    .dataframe tbody tr th {\n        vertical-align: top;\n    }\n\n    .dataframe thead th {\n        text-align: right;\n    }\n</style>\n<table border=\"1\" class=\"dataframe\">\n  <thead>\n    <tr style=\"text-align: right;\">\n      <th></th>\n      <th>场地1</th>\n      <th>场地2</th>\n      <th>2021-01-01</th>\n      <th>2021-01-02</th>\n      <th>2021-01-03</th>\n      <th>2021-01-04</th>\n      <th>2021-01-05</th>\n      <th>2021-01-06</th>\n      <th>2021-01-07</th>\n      <th>2021-01-08</th>\n      <th>...</th>\n      <th>2022-12-22</th>\n      <th>2022-12-23</th>\n      <th>2022-12-24</th>\n      <th>2022-12-25</th>\n      <th>2022-12-26</th>\n      <th>2022-12-27</th>\n      <th>2022-12-28</th>\n      <th>2022-12-29</th>\n      <th>2022-12-30</th>\n      <th>2022-12-31</th>\n    </tr>\n  </thead>\n  <tbody>\n    <tr>\n      <th>0</th>\n      <td>1</td>\n      <td>8</td>\n      <td>NaN</td>\n      <td>NaN</td>\n      <td>NaN</td>\n      <td>NaN</td>\n      <td>NaN</td>\n      <td>NaN</td>\n      <td>NaN</td>\n      <td>NaN</td>\n      <td>...</td>\n      <td>NaN</td>\n      <td>NaN</td>\n      <td>NaN</td>\n      <td>NaN</td>\n      <td>NaN</td>\n      <td>NaN</td>\n      <td>NaN</td>\n      <td>NaN</td>\n      <td>NaN</td>\n      <td>NaN</td>\n    </tr>\n    <tr>\n      <th>1</th>\n      <td>2</td>\n      <td>3</td>\n      <td>NaN</td>\n      <td>NaN</td>\n      <td>NaN</td>\n      <td>NaN</td>\n      <td>NaN</td>\n      <td>NaN</td>\n      <td>NaN</td>\n      <td>NaN</td>\n      <td>...</td>\n      <td>NaN</td>\n      <td>NaN</td>\n      <td>NaN</td>\n      <td>NaN</td>\n      <td>NaN</td>\n      <td>NaN</td>\n      <td>NaN</td>\n      <td>NaN</td>\n      <td>NaN</td>\n      <td>NaN</td>\n    </tr>\n    <tr>\n      <th>2</th>\n      <td>2</td>\n      <td>4</td>\n      <td>NaN</td>\n      <td>NaN</td>\n      <td>NaN</td>\n      <td>NaN</td>\n      <td>NaN</td>\n      <td>NaN</td>\n      <td>NaN</td>\n      <td>NaN</td>\n      <td>...</td>\n      <td>NaN</td>\n      <td>NaN</td>\n      <td>NaN</td>\n      <td>NaN</td>\n      <td>NaN</td>\n      <td>NaN</td>\n      <td>NaN</td>\n      <td>NaN</td>\n      <td>NaN</td>\n      <td>NaN</td>\n    </tr>\n    <tr>\n      <th>3</th>\n      <td>2</td>\n      <td>5</td>\n      <td>NaN</td>\n      <td>NaN</td>\n      <td>NaN</td>\n      <td>NaN</td>\n      <td>NaN</td>\n      <td>NaN</td>\n      <td>NaN</td>\n      <td>NaN</td>\n      <td>...</td>\n      <td>NaN</td>\n      <td>NaN</td>\n      <td>NaN</td>\n      <td>NaN</td>\n      <td>NaN</td>\n      <td>NaN</td>\n      <td>NaN</td>\n      <td>NaN</td>\n      <td>NaN</td>\n      <td>NaN</td>\n    </tr>\n    <tr>\n      <th>4</th>\n      <td>2</td>\n      <td>8</td>\n      <td>NaN</td>\n      <td>NaN</td>\n      <td>NaN</td>\n      <td>NaN</td>\n      <td>NaN</td>\n      <td>NaN</td>\n      <td>NaN</td>\n      <td>NaN</td>\n      <td>...</td>\n      <td>NaN</td>\n      <td>NaN</td>\n      <td>NaN</td>\n      <td>NaN</td>\n      <td>NaN</td>\n      <td>NaN</td>\n      <td>NaN</td>\n      <td>NaN</td>\n      <td>NaN</td>\n      <td>NaN</td>\n    </tr>\n  </tbody>\n</table>\n<p>5 rows × 732 columns</p>\n</div>"
     },
     "execution_count": 11,
     "metadata": {},
     "output_type": "execute_result"
    }
   ],
   "source": [
    "rawData.head()"
   ],
   "metadata": {
    "collapsed": false,
    "ExecuteTime": {
     "start_time": "2023-04-16T20:41:46.741046Z",
     "end_time": "2023-04-16T20:41:46.755042Z"
    }
   }
  },
  {
   "cell_type": "code",
   "execution_count": 12,
   "outputs": [
    {
     "data": {
      "text/plain": "   场地1  场地2          日期  货量\n0    1    8  2021-01-01 NaN\n1    2    3  2021-01-01 NaN\n2    2    4  2021-01-01 NaN\n3    2    5  2021-01-01 NaN\n4    2    8  2021-01-01 NaN",
      "text/html": "<div>\n<style scoped>\n    .dataframe tbody tr th:only-of-type {\n        vertical-align: middle;\n    }\n\n    .dataframe tbody tr th {\n        vertical-align: top;\n    }\n\n    .dataframe thead th {\n        text-align: right;\n    }\n</style>\n<table border=\"1\" class=\"dataframe\">\n  <thead>\n    <tr style=\"text-align: right;\">\n      <th></th>\n      <th>场地1</th>\n      <th>场地2</th>\n      <th>日期</th>\n      <th>货量</th>\n    </tr>\n  </thead>\n  <tbody>\n    <tr>\n      <th>0</th>\n      <td>1</td>\n      <td>8</td>\n      <td>2021-01-01</td>\n      <td>NaN</td>\n    </tr>\n    <tr>\n      <th>1</th>\n      <td>2</td>\n      <td>3</td>\n      <td>2021-01-01</td>\n      <td>NaN</td>\n    </tr>\n    <tr>\n      <th>2</th>\n      <td>2</td>\n      <td>4</td>\n      <td>2021-01-01</td>\n      <td>NaN</td>\n    </tr>\n    <tr>\n      <th>3</th>\n      <td>2</td>\n      <td>5</td>\n      <td>2021-01-01</td>\n      <td>NaN</td>\n    </tr>\n    <tr>\n      <th>4</th>\n      <td>2</td>\n      <td>8</td>\n      <td>2021-01-01</td>\n      <td>NaN</td>\n    </tr>\n  </tbody>\n</table>\n</div>"
     },
     "execution_count": 12,
     "metadata": {},
     "output_type": "execute_result"
    }
   ],
   "source": [
    "newData = pd.melt(rawData, id_vars=['场地1', '场地2'], value_name='货量', var_name='日期')\n",
    "newData.head()"
   ],
   "metadata": {
    "collapsed": false,
    "ExecuteTime": {
     "start_time": "2023-04-16T20:41:46.756047Z",
     "end_time": "2023-04-16T20:41:46.860042Z"
    }
   }
  },
  {
   "cell_type": "code",
   "execution_count": 13,
   "outputs": [
    {
     "data": {
      "text/plain": "   场地1  场地2          日期  货量\n0    1    8  2021-01-01 NaN\n1    1    8  2021-01-02 NaN\n2    1    8  2021-01-03 NaN\n3    1    8  2021-01-04 NaN\n4    1    8  2021-01-05 NaN",
      "text/html": "<div>\n<style scoped>\n    .dataframe tbody tr th:only-of-type {\n        vertical-align: middle;\n    }\n\n    .dataframe tbody tr th {\n        vertical-align: top;\n    }\n\n    .dataframe thead th {\n        text-align: right;\n    }\n</style>\n<table border=\"1\" class=\"dataframe\">\n  <thead>\n    <tr style=\"text-align: right;\">\n      <th></th>\n      <th>场地1</th>\n      <th>场地2</th>\n      <th>日期</th>\n      <th>货量</th>\n    </tr>\n  </thead>\n  <tbody>\n    <tr>\n      <th>0</th>\n      <td>1</td>\n      <td>8</td>\n      <td>2021-01-01</td>\n      <td>NaN</td>\n    </tr>\n    <tr>\n      <th>1</th>\n      <td>1</td>\n      <td>8</td>\n      <td>2021-01-02</td>\n      <td>NaN</td>\n    </tr>\n    <tr>\n      <th>2</th>\n      <td>1</td>\n      <td>8</td>\n      <td>2021-01-03</td>\n      <td>NaN</td>\n    </tr>\n    <tr>\n      <th>3</th>\n      <td>1</td>\n      <td>8</td>\n      <td>2021-01-04</td>\n      <td>NaN</td>\n    </tr>\n    <tr>\n      <th>4</th>\n      <td>1</td>\n      <td>8</td>\n      <td>2021-01-05</td>\n      <td>NaN</td>\n    </tr>\n  </tbody>\n</table>\n</div>"
     },
     "execution_count": 13,
     "metadata": {},
     "output_type": "execute_result"
    }
   ],
   "source": [
    "newData = newData.sort_values(by=['场地1', '场地2', '日期'])\n",
    "newData = newData.reset_index(drop=True)\n",
    "newData.head()"
   ],
   "metadata": {
    "collapsed": false,
    "ExecuteTime": {
     "start_time": "2023-04-16T20:41:46.821043Z",
     "end_time": "2023-04-16T20:41:47.030046Z"
    }
   }
  },
  {
   "cell_type": "code",
   "execution_count": 14,
   "outputs": [],
   "source": [
    "newData.to_excel('None空值填充-长表-物流网络历史货量数据.xlsx', index=False)"
   ],
   "metadata": {
    "collapsed": false,
    "ExecuteTime": {
     "start_time": "2023-04-16T20:41:47.027046Z",
     "end_time": "2023-04-16T20:42:30.040735Z"
    }
   }
  },
  {
   "cell_type": "code",
   "execution_count": 15,
   "outputs": [
    {
     "name": "stdout",
     "output_type": "stream",
     "text": [
      "1049\n",
      "[(1, 8), (2, 3), (2, 4), (2, 5), (2, 8), (2, 9), (2, 10), (2, 14), (2, 62), (3, 4), (3, 5), (3, 8), (3, 9), (3, 10), (3, 12), (3, 14), (3, 19), (3, 21), (3, 22), (3, 23), (3, 28), (3, 30), (3, 35), (3, 36), (3, 38), (3, 40), (4, 3), (4, 5), (4, 8), (4, 9), (4, 10), (4, 14), (4, 17), (4, 19), (4, 20), (4, 21), (4, 22), (4, 23), (4, 30), (4, 34), (4, 35), (4, 36), (4, 38), (4, 40), (4, 62), (4, 64), (4, 65), (4, 70), (5, 3), (5, 4), (5, 8), (5, 9), (5, 10), (5, 12), (5, 14), (5, 15), (5, 19), (5, 20), (5, 21), (5, 22), (5, 23), (5, 30), (5, 31), (5, 32), (5, 35), (5, 36), (5, 40), (5, 51), (5, 61), (5, 62), (5, 70), (6, 4), (6, 10), (6, 14), (6, 23), (6, 62), (6, 70), (7, 3), (7, 4), (7, 5), (7, 8), (7, 9), (7, 10), (7, 12), (7, 14), (7, 34), (7, 35), (7, 40), (7, 62), (7, 65), (7, 70), (8, 3), (8, 4), (8, 5), (8, 9), (8, 10), (8, 13), (8, 14), (8, 15), (8, 25), (8, 27), (8, 32), (8, 33), (8, 34), (8, 35), (8, 38), (8, 40), (8, 43), (8, 44), (8, 59), (8, 62), (8, 64), (8, 65), (8, 70), (8, 76), (8, 78), (9, 3), (9, 4), (9, 5), (9, 8), (9, 10), (9, 12), (9, 13), (9, 14), (9, 19), (9, 21), (9, 22), (9, 23), (9, 25), (9, 32), (9, 34), (9, 35), (9, 36), (9, 40), (9, 48), (9, 51), (9, 58), (9, 62), (9, 67), (9, 79), (10, 3), (10, 4), (10, 5), (10, 8), (10, 9), (10, 12), (10, 13), (10, 14), (10, 17), (10, 19), (10, 20), (10, 21), (10, 22), (10, 23), (10, 25), (10, 27), (10, 28), (10, 30), (10, 32), (10, 33), (10, 34), (10, 35), (10, 36), (10, 38), (10, 40), (10, 47), (10, 51), (10, 59), (10, 60), (10, 61), (10, 62), (10, 64), (10, 65), (10, 67), (10, 70), (10, 73), (10, 76), (10, 78), (10, 80), (11, 3), (11, 5), (11, 9), (11, 10), (11, 14), (11, 22), (12, 3), (12, 5), (12, 9), (12, 10), (12, 14), (12, 23), (12, 32), (12, 35), (12, 36), (12, 38), (12, 40), (12, 67), (13, 3), (13, 4), (13, 5), (13, 8), (13, 9), (13, 10), (13, 14), (13, 15), (13, 62), (14, 3), (14, 4), (14, 5), (14, 8), (14, 9), (14, 10), (14, 11), (14, 12), (14, 13), (14, 17), (14, 19), (14, 20), (14, 21), (14, 22), (14, 23), (14, 25), (14, 30), (14, 32), (14, 33), (14, 34), (14, 35), (14, 36), (14, 38), (14, 40), (14, 43), (14, 61), (14, 62), (14, 64), (14, 65), (14, 67), (14, 70), (14, 76), (14, 78), (14, 81), (15, 3), (15, 4), (15, 5), (15, 8), (15, 9), (15, 10), (15, 12), (15, 13), (15, 14), (15, 32), (15, 33), (15, 34), (15, 35), (15, 40), (15, 62), (15, 64), (15, 65), (15, 70), (15, 81), (16, 4), (16, 5), (16, 8), (16, 10), (16, 14), (16, 35), (16, 62), (16, 70), (17, 3), (17, 4), (17, 5), (17, 8), (17, 9), (17, 10), (17, 12), (17, 14), (17, 20), (17, 29), (17, 32), (17, 34), (17, 35), (17, 40), (17, 61), (17, 62), (17, 64), (17, 65), (17, 70), (17, 81), (18, 4), (18, 8), (18, 10), (18, 14), (18, 23), (18, 62), (19, 3), (19, 4), (19, 5), (19, 8), (19, 9), (19, 10), (19, 12), (19, 14), (19, 20), (19, 32), (19, 34), (19, 35), (19, 36), (19, 40), (19, 62), (19, 64), (19, 65), (19, 70), (19, 81), (20, 3), (20, 4), (20, 5), (20, 8), (20, 9), (20, 10), (20, 12), (20, 14), (20, 32), (20, 33), (20, 34), (20, 35), (20, 40), (20, 62), (20, 64), (20, 65), (20, 70), (20, 76), (20, 81), (21, 3), (21, 4), (21, 5), (21, 8), (21, 9), (21, 10), (21, 12), (21, 14), (21, 20), (21, 32), (21, 33), (21, 34), (21, 35), (21, 40), (21, 62), (21, 70), (21, 76), (21, 81), (22, 3), (22, 4), (22, 5), (22, 8), (22, 9), (22, 10), (22, 12), (22, 13), (22, 14), (22, 20), (22, 21), (22, 32), (22, 34), (22, 35), (22, 40), (22, 62), (22, 64), (22, 65), (22, 70), (22, 76), (22, 81), (23, 3), (23, 4), (23, 5), (23, 6), (23, 8), (23, 9), (23, 10), (23, 12), (23, 14), (23, 18), (23, 20), (23, 29), (23, 32), (23, 34), (23, 35), (23, 36), (23, 40), (23, 62), (23, 64), (23, 65), (23, 70), (23, 81), (24, 3), (24, 4), (24, 5), (24, 8), (24, 9), (24, 10), (24, 14), (24, 62), (25, 3), (25, 4), (25, 5), (25, 8), (25, 9), (25, 10), (25, 12), (25, 14), (25, 32), (25, 33), (25, 34), (25, 35), (25, 40), (25, 62), (25, 64), (25, 65), (25, 70), (25, 76), (25, 81), (26, 3), (26, 4), (26, 5), (26, 8), (26, 9), (26, 10), (26, 12), (26, 14), (26, 32), (26, 34), (26, 35), (26, 40), (26, 62), (26, 64), (26, 65), (26, 70), (26, 81), (27, 3), (27, 4), (27, 5), (27, 8), (27, 9), (27, 10), (27, 14), (27, 32), (27, 34), (27, 35), (27, 40), (27, 62), (27, 64), (27, 65), (27, 70), (28, 3), (28, 4), (28, 5), (28, 8), (28, 9), (28, 10), (28, 12), (28, 14), (28, 20), (28, 23), (28, 32), (28, 34), (28, 35), (28, 40), (28, 62), (28, 64), (28, 65), (28, 70), (28, 81), (29, 9), (29, 36), (30, 3), (30, 4), (30, 5), (30, 8), (30, 9), (30, 10), (30, 12), (30, 14), (30, 23), (30, 32), (30, 34), (30, 35), (30, 40), (30, 62), (30, 64), (30, 65), (30, 67), (30, 70), (30, 81), (31, 3), (31, 4), (31, 5), (31, 8), (31, 9), (31, 10), (31, 12), (31, 14), (31, 32), (31, 34), (31, 35), (31, 37), (31, 40), (31, 62), (31, 64), (31, 65), (31, 70), (31, 76), (32, 10), (32, 12), (32, 14), (32, 35), (32, 40), (32, 70), (33, 3), (33, 4), (33, 5), (33, 8), (33, 9), (33, 10), (33, 14), (33, 62), (33, 65), (34, 3), (34, 4), (34, 5), (34, 8), (34, 9), (34, 10), (34, 12), (34, 14), (34, 30), (34, 32), (34, 35), (34, 40), (34, 62), (34, 64), (34, 67), (34, 70), (35, 3), (35, 4), (35, 5), (35, 8), (35, 9), (35, 10), (35, 12), (35, 14), (35, 17), (35, 23), (35, 30), (35, 32), (35, 34), (35, 36), (35, 40), (35, 62), (35, 67), (35, 70), (36, 3), (36, 4), (36, 5), (36, 8), (36, 9), (36, 10), (36, 12), (36, 14), (36, 20), (36, 23), (36, 29), (36, 32), (36, 33), (36, 34), (36, 35), (36, 40), (36, 62), (36, 64), (36, 65), (36, 70), (36, 81), (37, 3), (37, 4), (37, 5), (37, 8), (37, 9), (37, 10), (37, 14), (37, 54), (37, 62), (38, 3), (38, 4), (38, 5), (38, 8), (38, 9), (38, 10), (38, 12), (38, 14), (38, 22), (38, 32), (38, 34), (38, 35), (38, 40), (38, 62), (38, 64), (38, 65), (38, 70), (38, 81), (39, 4), (39, 5), (39, 8), (39, 9), (39, 10), (39, 14), (40, 3), (40, 4), (40, 5), (40, 8), (40, 9), (40, 10), (40, 12), (40, 14), (40, 21), (40, 22), (40, 30), (40, 32), (40, 34), (40, 35), (40, 62), (40, 67), (40, 70), (41, 3), (41, 5), (41, 9), (41, 10), (41, 12), (41, 14), (41, 29), (41, 35), (41, 40), (41, 81), (42, 3), (42, 4), (42, 5), (42, 8), (42, 9), (42, 10), (42, 12), (42, 14), (42, 29), (42, 32), (42, 34), (42, 35), (42, 40), (42, 62), (42, 65), (42, 70), (42, 81), (43, 3), (43, 4), (43, 5), (43, 8), (43, 9), (43, 10), (43, 12), (43, 14), (43, 29), (43, 34), (43, 35), (43, 40), (43, 45), (43, 62), (43, 64), (43, 65), (43, 70), (44, 3), (44, 4), (44, 5), (44, 8), (44, 9), (44, 10), (44, 12), (44, 14), (44, 29), (44, 32), (44, 34), (44, 35), (44, 40), (44, 62), (44, 64), (44, 65), (44, 70), (44, 81), (45, 3), (45, 4), (45, 5), (45, 8), (45, 9), (45, 10), (45, 12), (45, 14), (45, 29), (45, 35), (45, 81), (46, 3), (46, 4), (46, 5), (46, 8), (46, 9), (46, 10), (46, 12), (46, 13), (46, 14), (46, 29), (46, 32), (46, 34), (46, 35), (46, 40), (46, 52), (46, 62), (46, 64), (46, 65), (46, 70), (46, 81), (47, 3), (47, 4), (47, 5), (47, 8), (47, 9), (47, 10), (47, 12), (47, 14), (47, 29), (47, 34), (47, 35), (47, 40), (47, 62), (47, 64), (47, 65), (47, 70), (47, 81), (48, 3), (48, 4), (48, 5), (48, 8), (48, 9), (48, 10), (48, 12), (48, 14), (48, 29), (48, 32), (48, 34), (48, 35), (48, 40), (48, 50), (48, 62), (48, 64), (48, 65), (48, 70), (49, 3), (49, 5), (49, 9), (49, 10), (49, 12), (49, 14), (49, 35), (50, 3), (50, 4), (50, 5), (50, 8), (50, 9), (50, 10), (50, 12), (50, 14), (50, 29), (50, 32), (50, 34), (50, 35), (50, 40), (50, 48), (50, 62), (50, 64), (50, 65), (50, 70), (51, 3), (51, 4), (51, 5), (51, 8), (51, 9), (51, 10), (51, 12), (51, 14), (51, 29), (51, 32), (51, 34), (51, 35), (51, 40), (51, 62), (51, 64), (51, 65), (51, 70), (51, 81), (52, 3), (52, 4), (52, 5), (52, 8), (52, 9), (52, 10), (52, 14), (52, 35), (52, 40), (52, 46), (52, 62), (52, 64), (52, 65), (52, 70), (53, 3), (53, 4), (53, 5), (53, 8), (53, 10), (53, 14), (53, 25), (53, 33), (53, 35), (53, 62), (53, 64), (53, 65), (53, 70), (54, 23), (54, 37), (55, 3), (55, 4), (55, 5), (55, 8), (55, 9), (55, 10), (55, 14), (55, 20), (55, 33), (55, 35), (55, 62), (56, 3), (56, 4), (56, 5), (56, 8), (56, 9), (56, 10), (56, 12), (56, 14), (56, 35), (56, 40), (56, 61), (56, 62), (56, 70), (57, 4), (57, 5), (57, 8), (57, 10), (57, 14), (57, 32), (57, 35), (57, 40), (57, 62), (57, 70), (58, 3), (58, 4), (58, 5), (58, 8), (58, 9), (58, 10), (58, 12), (58, 14), (58, 29), (58, 34), (58, 35), (58, 40), (58, 70), (58, 81), (59, 3), (59, 4), (59, 5), (59, 8), (59, 10), (59, 14), (59, 35), (59, 40), (59, 62), (59, 64), (59, 65), (59, 70), (60, 3), (60, 4), (60, 5), (60, 8), (60, 10), (60, 14), (60, 34), (60, 35), (60, 40), (60, 62), (60, 64), (60, 70), (61, 3), (61, 4), (61, 5), (61, 10), (61, 14), (62, 3), (62, 4), (62, 5), (62, 8), (62, 9), (62, 10), (62, 14), (62, 15), (62, 17), (62, 20), (62, 21), (62, 22), (62, 23), (62, 30), (62, 32), (62, 33), (62, 34), (62, 35), (62, 38), (62, 40), (62, 50), (62, 64), (62, 65), (62, 70), (62, 73), (62, 76), (63, 8), (63, 10), (63, 14), (64, 4), (64, 5), (64, 8), (64, 10), (64, 14), (64, 30), (64, 62), (65, 4), (65, 5), (65, 8), (65, 10), (65, 14), (65, 43), (65, 62), (66, 3), (66, 4), (66, 5), (66, 8), (66, 9), (66, 10), (66, 14), (67, 3), (67, 5), (67, 9), (67, 10), (67, 12), (67, 14), (67, 32), (67, 34), (67, 35), (67, 40), (68, 3), (68, 4), (68, 5), (68, 8), (68, 10), (68, 14), (68, 35), (68, 40), (68, 62), (68, 64), (68, 65), (68, 70), (69, 3), (69, 4), (69, 5), (69, 8), (69, 10), (69, 14), (69, 62), (70, 3), (70, 4), (70, 5), (70, 8), (70, 10), (70, 14), (70, 32), (70, 34), (70, 35), (70, 38), (70, 40), (70, 62), (71, 3), (71, 4), (71, 5), (71, 8), (71, 9), (71, 10), (71, 12), (71, 14), (71, 35), (71, 40), (71, 62), (71, 70), (72, 3), (72, 4), (72, 5), (72, 8), (72, 9), (72, 10), (72, 14), (72, 35), (72, 62), (73, 3), (73, 4), (73, 5), (73, 8), (73, 9), (73, 10), (73, 12), (73, 14), (73, 20), (73, 34), (73, 35), (73, 40), (73, 62), (73, 64), (73, 70), (74, 3), (74, 4), (74, 5), (74, 8), (74, 9), (74, 10), (74, 14), (75, 35), (76, 3), (76, 4), (76, 5), (76, 8), (76, 10), (76, 14), (76, 62), (77, 6)]\n",
      "163\n"
     ]
    },
    {
     "data": {
      "text/plain": "        场地1  场地2          日期    货量\n118990   10   38  2021-01-01   NaN\n118991   10   38  2021-01-02   NaN\n118992   10   38  2021-01-03   NaN\n118993   10   38  2021-01-04  15.0\n118994   10   38  2021-01-05   NaN\n...     ...  ...         ...   ...\n119715   10   38  2022-12-27   NaN\n119716   10   38  2022-12-28   NaN\n119717   10   38  2022-12-29   NaN\n119718   10   38  2022-12-30   NaN\n119719   10   38  2022-12-31   NaN\n\n[730 rows x 4 columns]",
      "text/html": "<div>\n<style scoped>\n    .dataframe tbody tr th:only-of-type {\n        vertical-align: middle;\n    }\n\n    .dataframe tbody tr th {\n        vertical-align: top;\n    }\n\n    .dataframe thead th {\n        text-align: right;\n    }\n</style>\n<table border=\"1\" class=\"dataframe\">\n  <thead>\n    <tr style=\"text-align: right;\">\n      <th></th>\n      <th>场地1</th>\n      <th>场地2</th>\n      <th>日期</th>\n      <th>货量</th>\n    </tr>\n  </thead>\n  <tbody>\n    <tr>\n      <th>118990</th>\n      <td>10</td>\n      <td>38</td>\n      <td>2021-01-01</td>\n      <td>NaN</td>\n    </tr>\n    <tr>\n      <th>118991</th>\n      <td>10</td>\n      <td>38</td>\n      <td>2021-01-02</td>\n      <td>NaN</td>\n    </tr>\n    <tr>\n      <th>118992</th>\n      <td>10</td>\n      <td>38</td>\n      <td>2021-01-03</td>\n      <td>NaN</td>\n    </tr>\n    <tr>\n      <th>118993</th>\n      <td>10</td>\n      <td>38</td>\n      <td>2021-01-04</td>\n      <td>15.0</td>\n    </tr>\n    <tr>\n      <th>118994</th>\n      <td>10</td>\n      <td>38</td>\n      <td>2021-01-05</td>\n      <td>NaN</td>\n    </tr>\n    <tr>\n      <th>...</th>\n      <td>...</td>\n      <td>...</td>\n      <td>...</td>\n      <td>...</td>\n    </tr>\n    <tr>\n      <th>119715</th>\n      <td>10</td>\n      <td>38</td>\n      <td>2022-12-27</td>\n      <td>NaN</td>\n    </tr>\n    <tr>\n      <th>119716</th>\n      <td>10</td>\n      <td>38</td>\n      <td>2022-12-28</td>\n      <td>NaN</td>\n    </tr>\n    <tr>\n      <th>119717</th>\n      <td>10</td>\n      <td>38</td>\n      <td>2022-12-29</td>\n      <td>NaN</td>\n    </tr>\n    <tr>\n      <th>119718</th>\n      <td>10</td>\n      <td>38</td>\n      <td>2022-12-30</td>\n      <td>NaN</td>\n    </tr>\n    <tr>\n      <th>119719</th>\n      <td>10</td>\n      <td>38</td>\n      <td>2022-12-31</td>\n      <td>NaN</td>\n    </tr>\n  </tbody>\n</table>\n<p>730 rows × 4 columns</p>\n</div>"
     },
     "execution_count": 15,
     "metadata": {},
     "output_type": "execute_result"
    }
   ],
   "source": [
    "# 进行groupby操作，将结果提取出来形成新的DataFrame\n",
    "grouped_df_groupby = newData.groupby(['场地1', '场地2'])\n",
    "grouped_df = [grouped_df_groupby.get_group(x) for x in grouped_df_groupby.groups]\n",
    "\n",
    "print(len(grouped_df))\n",
    "gpKeys = list(dict(grouped_df_groupby.groups).keys())\n",
    "print(gpKeys)\n",
    "print(gpKeys.index((10, 38)))\n",
    "grouped_df[gpKeys.index((10, 38))]"
   ],
   "metadata": {
    "collapsed": false,
    "ExecuteTime": {
     "start_time": "2023-04-16T20:42:30.042739Z",
     "end_time": "2023-04-16T20:42:31.734881Z"
    }
   }
  },
  {
   "cell_type": "code",
   "execution_count": 16,
   "outputs": [
    {
     "name": "stderr",
     "output_type": "stream",
     "text": [
      "D:\\Users\\win\\AppData\\Local\\Temp\\ipykernel_4560\\4217993953.py:3: SettingWithCopyWarning: \n",
      "A value is trying to be set on a copy of a slice from a DataFrame\n",
      "\n",
      "See the caveats in the documentation: https://pandas.pydata.org/pandas-docs/stable/user_guide/indexing.html#returning-a-view-versus-a-copy\n",
      "  ndf.fillna(method='ffill', inplace=True)\n"
     ]
    }
   ],
   "source": [
    "# 用上面已有值替换\n",
    "for ndf in grouped_df:\n",
    "    ndf.fillna(method='ffill', inplace=True)"
   ],
   "metadata": {
    "collapsed": false,
    "ExecuteTime": {
     "start_time": "2023-04-16T20:42:31.734881Z",
     "end_time": "2023-04-16T20:42:31.905893Z"
    }
   }
  },
  {
   "cell_type": "code",
   "execution_count": 17,
   "outputs": [
    {
     "data": {
      "text/plain": "        场地1  场地2          日期    货量\n118990   10   38  2021-01-01   NaN\n118991   10   38  2021-01-02   NaN\n118992   10   38  2021-01-03   NaN\n118993   10   38  2021-01-04  15.0\n118994   10   38  2021-01-05  15.0\n...     ...  ...         ...   ...\n119715   10   38  2022-12-27   8.0\n119716   10   38  2022-12-28   8.0\n119717   10   38  2022-12-29   8.0\n119718   10   38  2022-12-30   8.0\n119719   10   38  2022-12-31   8.0\n\n[730 rows x 4 columns]",
      "text/html": "<div>\n<style scoped>\n    .dataframe tbody tr th:only-of-type {\n        vertical-align: middle;\n    }\n\n    .dataframe tbody tr th {\n        vertical-align: top;\n    }\n\n    .dataframe thead th {\n        text-align: right;\n    }\n</style>\n<table border=\"1\" class=\"dataframe\">\n  <thead>\n    <tr style=\"text-align: right;\">\n      <th></th>\n      <th>场地1</th>\n      <th>场地2</th>\n      <th>日期</th>\n      <th>货量</th>\n    </tr>\n  </thead>\n  <tbody>\n    <tr>\n      <th>118990</th>\n      <td>10</td>\n      <td>38</td>\n      <td>2021-01-01</td>\n      <td>NaN</td>\n    </tr>\n    <tr>\n      <th>118991</th>\n      <td>10</td>\n      <td>38</td>\n      <td>2021-01-02</td>\n      <td>NaN</td>\n    </tr>\n    <tr>\n      <th>118992</th>\n      <td>10</td>\n      <td>38</td>\n      <td>2021-01-03</td>\n      <td>NaN</td>\n    </tr>\n    <tr>\n      <th>118993</th>\n      <td>10</td>\n      <td>38</td>\n      <td>2021-01-04</td>\n      <td>15.0</td>\n    </tr>\n    <tr>\n      <th>118994</th>\n      <td>10</td>\n      <td>38</td>\n      <td>2021-01-05</td>\n      <td>15.0</td>\n    </tr>\n    <tr>\n      <th>...</th>\n      <td>...</td>\n      <td>...</td>\n      <td>...</td>\n      <td>...</td>\n    </tr>\n    <tr>\n      <th>119715</th>\n      <td>10</td>\n      <td>38</td>\n      <td>2022-12-27</td>\n      <td>8.0</td>\n    </tr>\n    <tr>\n      <th>119716</th>\n      <td>10</td>\n      <td>38</td>\n      <td>2022-12-28</td>\n      <td>8.0</td>\n    </tr>\n    <tr>\n      <th>119717</th>\n      <td>10</td>\n      <td>38</td>\n      <td>2022-12-29</td>\n      <td>8.0</td>\n    </tr>\n    <tr>\n      <th>119718</th>\n      <td>10</td>\n      <td>38</td>\n      <td>2022-12-30</td>\n      <td>8.0</td>\n    </tr>\n    <tr>\n      <th>119719</th>\n      <td>10</td>\n      <td>38</td>\n      <td>2022-12-31</td>\n      <td>8.0</td>\n    </tr>\n  </tbody>\n</table>\n<p>730 rows × 4 columns</p>\n</div>"
     },
     "execution_count": 17,
     "metadata": {},
     "output_type": "execute_result"
    }
   ],
   "source": [
    "grouped_df[gpKeys.index((10, 38))]"
   ],
   "metadata": {
    "collapsed": false,
    "ExecuteTime": {
     "start_time": "2023-04-16T20:42:31.906893Z",
     "end_time": "2023-04-16T20:42:31.951897Z"
    }
   }
  },
  {
   "cell_type": "code",
   "execution_count": 18,
   "outputs": [
    {
     "name": "stderr",
     "output_type": "stream",
     "text": [
      "D:\\Users\\win\\AppData\\Local\\Temp\\ipykernel_4560\\1551613207.py:3: SettingWithCopyWarning: \n",
      "A value is trying to be set on a copy of a slice from a DataFrame\n",
      "\n",
      "See the caveats in the documentation: https://pandas.pydata.org/pandas-docs/stable/user_guide/indexing.html#returning-a-view-versus-a-copy\n",
      "  ndf.fillna(method='bfill', inplace=True)\n"
     ]
    }
   ],
   "source": [
    "# 用下面已有值替换\n",
    "for ndf in grouped_df:\n",
    "    ndf.fillna(method='bfill', inplace=True)"
   ],
   "metadata": {
    "collapsed": false,
    "ExecuteTime": {
     "start_time": "2023-04-16T20:42:31.922893Z",
     "end_time": "2023-04-16T20:42:32.097894Z"
    }
   }
  },
  {
   "cell_type": "code",
   "execution_count": 19,
   "outputs": [
    {
     "data": {
      "text/plain": "        场地1  场地2          日期    货量\n118990   10   38  2021-01-01  15.0\n118991   10   38  2021-01-02  15.0\n118992   10   38  2021-01-03  15.0\n118993   10   38  2021-01-04  15.0\n118994   10   38  2021-01-05  15.0\n...     ...  ...         ...   ...\n119715   10   38  2022-12-27   8.0\n119716   10   38  2022-12-28   8.0\n119717   10   38  2022-12-29   8.0\n119718   10   38  2022-12-30   8.0\n119719   10   38  2022-12-31   8.0\n\n[730 rows x 4 columns]",
      "text/html": "<div>\n<style scoped>\n    .dataframe tbody tr th:only-of-type {\n        vertical-align: middle;\n    }\n\n    .dataframe tbody tr th {\n        vertical-align: top;\n    }\n\n    .dataframe thead th {\n        text-align: right;\n    }\n</style>\n<table border=\"1\" class=\"dataframe\">\n  <thead>\n    <tr style=\"text-align: right;\">\n      <th></th>\n      <th>场地1</th>\n      <th>场地2</th>\n      <th>日期</th>\n      <th>货量</th>\n    </tr>\n  </thead>\n  <tbody>\n    <tr>\n      <th>118990</th>\n      <td>10</td>\n      <td>38</td>\n      <td>2021-01-01</td>\n      <td>15.0</td>\n    </tr>\n    <tr>\n      <th>118991</th>\n      <td>10</td>\n      <td>38</td>\n      <td>2021-01-02</td>\n      <td>15.0</td>\n    </tr>\n    <tr>\n      <th>118992</th>\n      <td>10</td>\n      <td>38</td>\n      <td>2021-01-03</td>\n      <td>15.0</td>\n    </tr>\n    <tr>\n      <th>118993</th>\n      <td>10</td>\n      <td>38</td>\n      <td>2021-01-04</td>\n      <td>15.0</td>\n    </tr>\n    <tr>\n      <th>118994</th>\n      <td>10</td>\n      <td>38</td>\n      <td>2021-01-05</td>\n      <td>15.0</td>\n    </tr>\n    <tr>\n      <th>...</th>\n      <td>...</td>\n      <td>...</td>\n      <td>...</td>\n      <td>...</td>\n    </tr>\n    <tr>\n      <th>119715</th>\n      <td>10</td>\n      <td>38</td>\n      <td>2022-12-27</td>\n      <td>8.0</td>\n    </tr>\n    <tr>\n      <th>119716</th>\n      <td>10</td>\n      <td>38</td>\n      <td>2022-12-28</td>\n      <td>8.0</td>\n    </tr>\n    <tr>\n      <th>119717</th>\n      <td>10</td>\n      <td>38</td>\n      <td>2022-12-29</td>\n      <td>8.0</td>\n    </tr>\n    <tr>\n      <th>119718</th>\n      <td>10</td>\n      <td>38</td>\n      <td>2022-12-30</td>\n      <td>8.0</td>\n    </tr>\n    <tr>\n      <th>119719</th>\n      <td>10</td>\n      <td>38</td>\n      <td>2022-12-31</td>\n      <td>8.0</td>\n    </tr>\n  </tbody>\n</table>\n<p>730 rows × 4 columns</p>\n</div>"
     },
     "execution_count": 19,
     "metadata": {},
     "output_type": "execute_result"
    }
   ],
   "source": [
    "grouped_df[gpKeys.index((10, 38))]"
   ],
   "metadata": {
    "collapsed": false,
    "ExecuteTime": {
     "start_time": "2023-04-16T20:42:32.098893Z",
     "end_time": "2023-04-16T20:42:32.127897Z"
    }
   }
  },
  {
   "cell_type": "code",
   "execution_count": 20,
   "outputs": [
    {
     "data": {
      "text/plain": "   场地1  场地2          日期   货量\n0    1    8  2021-01-01  3.0\n1    1    8  2021-01-02  3.0\n2    1    8  2021-01-03  3.0\n3    1    8  2021-01-04  3.0\n4    1    8  2021-01-05  3.0",
      "text/html": "<div>\n<style scoped>\n    .dataframe tbody tr th:only-of-type {\n        vertical-align: middle;\n    }\n\n    .dataframe tbody tr th {\n        vertical-align: top;\n    }\n\n    .dataframe thead th {\n        text-align: right;\n    }\n</style>\n<table border=\"1\" class=\"dataframe\">\n  <thead>\n    <tr style=\"text-align: right;\">\n      <th></th>\n      <th>场地1</th>\n      <th>场地2</th>\n      <th>日期</th>\n      <th>货量</th>\n    </tr>\n  </thead>\n  <tbody>\n    <tr>\n      <th>0</th>\n      <td>1</td>\n      <td>8</td>\n      <td>2021-01-01</td>\n      <td>3.0</td>\n    </tr>\n    <tr>\n      <th>1</th>\n      <td>1</td>\n      <td>8</td>\n      <td>2021-01-02</td>\n      <td>3.0</td>\n    </tr>\n    <tr>\n      <th>2</th>\n      <td>1</td>\n      <td>8</td>\n      <td>2021-01-03</td>\n      <td>3.0</td>\n    </tr>\n    <tr>\n      <th>3</th>\n      <td>1</td>\n      <td>8</td>\n      <td>2021-01-04</td>\n      <td>3.0</td>\n    </tr>\n    <tr>\n      <th>4</th>\n      <td>1</td>\n      <td>8</td>\n      <td>2021-01-05</td>\n      <td>3.0</td>\n    </tr>\n  </tbody>\n</table>\n</div>"
     },
     "execution_count": 20,
     "metadata": {},
     "output_type": "execute_result"
    }
   ],
   "source": [
    "completeDf = pd.concat([i for i in grouped_df], ignore_index=True)\n",
    "completeDf.head()"
   ],
   "metadata": {
    "collapsed": false,
    "ExecuteTime": {
     "start_time": "2023-04-16T20:42:32.113893Z",
     "end_time": "2023-04-16T20:42:32.200895Z"
    }
   }
  },
  {
   "cell_type": "code",
   "execution_count": 21,
   "outputs": [
    {
     "data": {
      "text/plain": "日期  场地1  场地2  2021-01-01  2021-01-02  2021-01-03  2021-01-04  2021-01-05   \n0     1    8         3.0         3.0         3.0         3.0         3.0  \\\n1     2    3         9.0         9.0         9.0         9.0         9.0   \n2     2    4         2.0         2.0         2.0         2.0         2.0   \n3     2    5         6.0         6.0         6.0         6.0         6.0   \n4     2    8         2.0         2.0         2.0         2.0         2.0   \n\n日期  2021-01-06  2021-01-07  2021-01-08  ...  2022-12-22  2022-12-23   \n0          3.0         3.0         3.0  ...         3.0         3.0  \\\n1          9.0         9.0         9.0  ...         1.0         1.0   \n2          2.0         2.0         2.0  ...         2.0         2.0   \n3          6.0         6.0         6.0  ...        11.0        11.0   \n4          2.0         2.0         2.0  ...         2.0         2.0   \n\n日期  2022-12-24  2022-12-25  2022-12-26  2022-12-27  2022-12-28  2022-12-29   \n0          3.0         3.0         3.0         3.0         3.0         3.0  \\\n1          1.0         1.0         1.0         1.0         1.0         1.0   \n2          2.0         2.0         2.0         2.0         2.0         2.0   \n3         11.0        11.0        11.0        11.0        11.0        11.0   \n4          2.0         2.0         2.0         2.0         2.0         2.0   \n\n日期  2022-12-30  2022-12-31  \n0          3.0         3.0  \n1          1.0         1.0  \n2          2.0         2.0  \n3         11.0        11.0  \n4          2.0         2.0  \n\n[5 rows x 732 columns]",
      "text/html": "<div>\n<style scoped>\n    .dataframe tbody tr th:only-of-type {\n        vertical-align: middle;\n    }\n\n    .dataframe tbody tr th {\n        vertical-align: top;\n    }\n\n    .dataframe thead th {\n        text-align: right;\n    }\n</style>\n<table border=\"1\" class=\"dataframe\">\n  <thead>\n    <tr style=\"text-align: right;\">\n      <th>日期</th>\n      <th>场地1</th>\n      <th>场地2</th>\n      <th>2021-01-01</th>\n      <th>2021-01-02</th>\n      <th>2021-01-03</th>\n      <th>2021-01-04</th>\n      <th>2021-01-05</th>\n      <th>2021-01-06</th>\n      <th>2021-01-07</th>\n      <th>2021-01-08</th>\n      <th>...</th>\n      <th>2022-12-22</th>\n      <th>2022-12-23</th>\n      <th>2022-12-24</th>\n      <th>2022-12-25</th>\n      <th>2022-12-26</th>\n      <th>2022-12-27</th>\n      <th>2022-12-28</th>\n      <th>2022-12-29</th>\n      <th>2022-12-30</th>\n      <th>2022-12-31</th>\n    </tr>\n  </thead>\n  <tbody>\n    <tr>\n      <th>0</th>\n      <td>1</td>\n      <td>8</td>\n      <td>3.0</td>\n      <td>3.0</td>\n      <td>3.0</td>\n      <td>3.0</td>\n      <td>3.0</td>\n      <td>3.0</td>\n      <td>3.0</td>\n      <td>3.0</td>\n      <td>...</td>\n      <td>3.0</td>\n      <td>3.0</td>\n      <td>3.0</td>\n      <td>3.0</td>\n      <td>3.0</td>\n      <td>3.0</td>\n      <td>3.0</td>\n      <td>3.0</td>\n      <td>3.0</td>\n      <td>3.0</td>\n    </tr>\n    <tr>\n      <th>1</th>\n      <td>2</td>\n      <td>3</td>\n      <td>9.0</td>\n      <td>9.0</td>\n      <td>9.0</td>\n      <td>9.0</td>\n      <td>9.0</td>\n      <td>9.0</td>\n      <td>9.0</td>\n      <td>9.0</td>\n      <td>...</td>\n      <td>1.0</td>\n      <td>1.0</td>\n      <td>1.0</td>\n      <td>1.0</td>\n      <td>1.0</td>\n      <td>1.0</td>\n      <td>1.0</td>\n      <td>1.0</td>\n      <td>1.0</td>\n      <td>1.0</td>\n    </tr>\n    <tr>\n      <th>2</th>\n      <td>2</td>\n      <td>4</td>\n      <td>2.0</td>\n      <td>2.0</td>\n      <td>2.0</td>\n      <td>2.0</td>\n      <td>2.0</td>\n      <td>2.0</td>\n      <td>2.0</td>\n      <td>2.0</td>\n      <td>...</td>\n      <td>2.0</td>\n      <td>2.0</td>\n      <td>2.0</td>\n      <td>2.0</td>\n      <td>2.0</td>\n      <td>2.0</td>\n      <td>2.0</td>\n      <td>2.0</td>\n      <td>2.0</td>\n      <td>2.0</td>\n    </tr>\n    <tr>\n      <th>3</th>\n      <td>2</td>\n      <td>5</td>\n      <td>6.0</td>\n      <td>6.0</td>\n      <td>6.0</td>\n      <td>6.0</td>\n      <td>6.0</td>\n      <td>6.0</td>\n      <td>6.0</td>\n      <td>6.0</td>\n      <td>...</td>\n      <td>11.0</td>\n      <td>11.0</td>\n      <td>11.0</td>\n      <td>11.0</td>\n      <td>11.0</td>\n      <td>11.0</td>\n      <td>11.0</td>\n      <td>11.0</td>\n      <td>11.0</td>\n      <td>11.0</td>\n    </tr>\n    <tr>\n      <th>4</th>\n      <td>2</td>\n      <td>8</td>\n      <td>2.0</td>\n      <td>2.0</td>\n      <td>2.0</td>\n      <td>2.0</td>\n      <td>2.0</td>\n      <td>2.0</td>\n      <td>2.0</td>\n      <td>2.0</td>\n      <td>...</td>\n      <td>2.0</td>\n      <td>2.0</td>\n      <td>2.0</td>\n      <td>2.0</td>\n      <td>2.0</td>\n      <td>2.0</td>\n      <td>2.0</td>\n      <td>2.0</td>\n      <td>2.0</td>\n      <td>2.0</td>\n    </tr>\n  </tbody>\n</table>\n<p>5 rows × 732 columns</p>\n</div>"
     },
     "execution_count": 21,
     "metadata": {},
     "output_type": "execute_result"
    }
   ],
   "source": [
    "completeDf = pd.pivot_table(completeDf, values='货量', index=['场地1', '场地2'], columns='日期').reset_index()\n",
    "completeDf = completeDf.sort_values(by=['场地1', '场地2'])\n",
    "completeDf.head()"
   ],
   "metadata": {
    "collapsed": false,
    "ExecuteTime": {
     "start_time": "2023-04-16T20:42:32.178893Z",
     "end_time": "2023-04-16T20:42:32.459719Z"
    }
   }
  },
  {
   "cell_type": "code",
   "execution_count": 22,
   "outputs": [],
   "source": [
    "completeDf.to_excel('左侧填充-物流网络历史货量数据.xlsx', index=False)\n",
    "newData = pd.melt(completeDf, id_vars=['场地1', '场地2'], value_name='货量', var_name='日期')\n",
    "newData = newData.sort_values(by=['场地1', '场地2', '日期'])\n",
    "newData = newData.reset_index(drop=True)\n",
    "newData.to_excel('左侧填充-长表-物流网络历史货量数据.xlsx', index=False)"
   ],
   "metadata": {
    "collapsed": false,
    "ExecuteTime": {
     "start_time": "2023-04-16T20:42:32.458728Z",
     "end_time": "2023-04-16T20:43:25.935381Z"
    }
   }
  }
 ],
 "metadata": {
  "kernelspec": {
   "display_name": "Python 3",
   "language": "python",
   "name": "python3"
  },
  "language_info": {
   "codemirror_mode": {
    "name": "ipython",
    "version": 2
   },
   "file_extension": ".py",
   "mimetype": "text/x-python",
   "name": "python",
   "nbconvert_exporter": "python",
   "pygments_lexer": "ipython2",
   "version": "2.7.6"
  }
 },
 "nbformat": 4,
 "nbformat_minor": 0
}
